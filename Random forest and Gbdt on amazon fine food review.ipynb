{
 "cells": [
  {
   "cell_type": "markdown",
   "metadata": {
    "colab_type": "text",
    "id": "DLM6G2PDVAA7"
   },
   "source": [
    "# Amazon Fine Food Reviews Analysis\n",
    "\n",
    "\n",
    "Data Source: https://www.kaggle.com/snap/amazon-fine-food-reviews <br>\n",
    "\n",
    "EDA: https://nycdatascience.com/blog/student-works/amazon-fine-foods-visualization/\n",
    "\n",
    "\n",
    "The Amazon Fine Food Reviews dataset consists of reviews of fine foods from Amazon.<br>\n",
    "\n",
    "Number of reviews: 568,454<br>\n",
    "Number of users: 256,059<br>\n",
    "Number of products: 74,258<br>\n",
    "Timespan: Oct 1999 - Oct 2012<br>\n",
    "Number of Attributes/Columns in data: 10 \n",
    "\n",
    "Attribute Information:\n",
    "\n",
    "1. Id\n",
    "2. ProductId - unique identifier for the product\n",
    "3. UserId - unqiue identifier for the user\n",
    "4. ProfileName\n",
    "5. HelpfulnessNumerator - number of users who found the review helpful\n",
    "6. HelpfulnessDenominator - number of users who indicated whether they found the review helpful or not\n",
    "7. Score - rating between 1 and 5\n",
    "8. Time - timestamp for the review\n",
    "9. Summary - brief summary of the review\n",
    "10. Text - text of the review\n",
    "\n",
    "\n",
    "#### Objective:\n",
    "Given a review, determine whether the review is positive (rating of 4 or 5) or negative (rating of 1 or 2).\n",
    "\n",
    "<br>\n",
    "[Q] How to determine if a review is positive or negative?<br>\n",
    "<br> \n",
    "[Ans] We could use Score/Rating. A rating of 4 or 5 can be cosnidered as a positive review. A rating of 1 or 2 can be considered as negative one. A review of rating 3 is considered nuetral and such reviews are ignored from our analysis. This is an approximate and proxy way of determining the polarity (positivity/negativity) of a review.\n",
    "\n",
    "\n"
   ]
  },
  {
   "cell_type": "markdown",
   "metadata": {
    "colab_type": "text",
    "id": "ZkFRTtXOVAA-"
   },
   "source": [
    "# [1]. Reading Data"
   ]
  },
  {
   "cell_type": "markdown",
   "metadata": {
    "colab_type": "text",
    "id": "Y0elHxiDVABA"
   },
   "source": [
    "## [1.1] Loading the data\n",
    "\n",
    "The dataset is available in two forms\n",
    "1. .csv file\n",
    "2. SQLite Database\n",
    "\n",
    "In order to load the data, We have used the SQLITE dataset as it is easier to query the data and visualise the data efficiently.\n",
    "<br> \n",
    "\n",
    "Here as we only want to get the global sentiment of the recommendations (positive or negative), we will purposefully ignore all Scores equal to 3. If the score is above 3, then the recommendation wil be set to \"positive\". Otherwise, it will be set to \"negative\"."
   ]
  },
  {
   "cell_type": "code",
   "execution_count": 3,
   "metadata": {
    "colab": {},
    "colab_type": "code",
    "id": "lH0A6KCEVABE"
   },
   "outputs": [
    {
     "name": "stderr",
     "output_type": "stream",
     "text": [
      "/opt/conda/lib/python3.6/site-packages/smart_open/ssh.py:34: UserWarning: paramiko missing, opening SSH/SCP/SFTP paths will be disabled.  `pip install paramiko` to suppress\n",
      "  warnings.warn('paramiko missing, opening SSH/SCP/SFTP paths will be disabled.  `pip install paramiko` to suppress')\n"
     ]
    }
   ],
   "source": [
    "%matplotlib inline\n",
    "import warnings\n",
    "warnings.filterwarnings(\"ignore\")\n",
    "\n",
    "\n",
    "import sqlite3\n",
    "import pandas as pd\n",
    "import numpy as np\n",
    "import nltk\n",
    "import string\n",
    "import matplotlib.pyplot as plt\n",
    "import seaborn as sns\n",
    "from sklearn.feature_extraction.text import TfidfTransformer\n",
    "from sklearn.feature_extraction.text import TfidfVectorizer\n",
    "\n",
    "from sklearn.feature_extraction.text import CountVectorizer\n",
    "from sklearn.metrics import confusion_matrix\n",
    "from sklearn import metrics\n",
    "from sklearn.metrics import roc_curve, auc\n",
    "from nltk.stem.porter import PorterStemmer\n",
    "\n",
    "import re\n",
    "# Tutorial about Python regular expressions: https://pymotw.com/2/re/\n",
    "import string\n",
    "from nltk.corpus import stopwords\n",
    "from nltk.stem import PorterStemmer\n",
    "from nltk.stem.wordnet import WordNetLemmatizer\n",
    "\n",
    "from gensim.models import Word2Vec\n",
    "from gensim.models import KeyedVectors\n",
    "import pickle\n",
    "\n",
    "from tqdm import tqdm\n",
    "import os"
   ]
  },
  {
   "cell_type": "code",
   "execution_count": 4,
   "metadata": {
    "colab": {},
    "colab_type": "code",
    "id": "31cMBF13VABU",
    "outputId": "bab8c486-af72-4a7e-c67e-f789c312ac20"
   },
   "outputs": [
    {
     "name": "stdout",
     "output_type": "stream",
     "text": [
      "Number of data points in our data (100000, 10)\n"
     ]
    },
    {
     "data": {
      "text/html": [
       "<div>\n",
       "<style scoped>\n",
       "    .dataframe tbody tr th:only-of-type {\n",
       "        vertical-align: middle;\n",
       "    }\n",
       "\n",
       "    .dataframe tbody tr th {\n",
       "        vertical-align: top;\n",
       "    }\n",
       "\n",
       "    .dataframe thead th {\n",
       "        text-align: right;\n",
       "    }\n",
       "</style>\n",
       "<table border=\"1\" class=\"dataframe\">\n",
       "  <thead>\n",
       "    <tr style=\"text-align: right;\">\n",
       "      <th></th>\n",
       "      <th>Id</th>\n",
       "      <th>ProductId</th>\n",
       "      <th>UserId</th>\n",
       "      <th>ProfileName</th>\n",
       "      <th>HelpfulnessNumerator</th>\n",
       "      <th>HelpfulnessDenominator</th>\n",
       "      <th>Score</th>\n",
       "      <th>Time</th>\n",
       "      <th>Summary</th>\n",
       "      <th>Text</th>\n",
       "    </tr>\n",
       "  </thead>\n",
       "  <tbody>\n",
       "    <tr>\n",
       "      <th>0</th>\n",
       "      <td>1</td>\n",
       "      <td>B001E4KFG0</td>\n",
       "      <td>A3SGXH7AUHU8GW</td>\n",
       "      <td>delmartian</td>\n",
       "      <td>1</td>\n",
       "      <td>1</td>\n",
       "      <td>1</td>\n",
       "      <td>1303862400</td>\n",
       "      <td>Good Quality Dog Food</td>\n",
       "      <td>I have bought several of the Vitality canned d...</td>\n",
       "    </tr>\n",
       "    <tr>\n",
       "      <th>1</th>\n",
       "      <td>2</td>\n",
       "      <td>B00813GRG4</td>\n",
       "      <td>A1D87F6ZCVE5NK</td>\n",
       "      <td>dll pa</td>\n",
       "      <td>0</td>\n",
       "      <td>0</td>\n",
       "      <td>0</td>\n",
       "      <td>1346976000</td>\n",
       "      <td>Not as Advertised</td>\n",
       "      <td>Product arrived labeled as Jumbo Salted Peanut...</td>\n",
       "    </tr>\n",
       "    <tr>\n",
       "      <th>2</th>\n",
       "      <td>3</td>\n",
       "      <td>B000LQOCH0</td>\n",
       "      <td>ABXLMWJIXXAIN</td>\n",
       "      <td>Natalia Corres \"Natalia Corres\"</td>\n",
       "      <td>1</td>\n",
       "      <td>1</td>\n",
       "      <td>1</td>\n",
       "      <td>1219017600</td>\n",
       "      <td>\"Delight\" says it all</td>\n",
       "      <td>This is a confection that has been around a fe...</td>\n",
       "    </tr>\n",
       "  </tbody>\n",
       "</table>\n",
       "</div>"
      ],
      "text/plain": [
       "   Id                        ...                                                                       Text\n",
       "0   1                        ...                          I have bought several of the Vitality canned d...\n",
       "1   2                        ...                          Product arrived labeled as Jumbo Salted Peanut...\n",
       "2   3                        ...                          This is a confection that has been around a fe...\n",
       "\n",
       "[3 rows x 10 columns]"
      ]
     },
     "execution_count": 4,
     "metadata": {},
     "output_type": "execute_result"
    }
   ],
   "source": [
    "# using SQLite Table to read data.\n",
    "con = sqlite3.connect('database.sqlite') \n",
    "\n",
    "# filtering only positive and negative reviews i.e. \n",
    "# not taking into consideration those reviews with Score=3\n",
    "# SELECT * FROM Reviews WHERE Score != 3 LIMIT 500000, will give top 500000 data points\n",
    "# you can change the number to any other number based on your computing power\n",
    "\n",
    "# filtered_data = pd.read_sql_query(\"\"\" SELECT * FROM Reviews WHERE Score != 3 LIMIT 500000\"\"\", con) \n",
    "# for tsne assignment you can take 5k data points\n",
    "\n",
    "filtered_data = pd.read_sql_query(\"\"\" SELECT * FROM Reviews WHERE Score != 3 LIMIT 100000\"\"\", con) \n",
    "\n",
    "# Give reviews with Score>3 a positive rating(1), and reviews with a score<3 a negative rating(0).\n",
    "def partition(x):\n",
    "    if x < 3:\n",
    "        return 0\n",
    "    return 1\n",
    "\n",
    "#changing reviews with score less than 3 to be positive and vice-versa\n",
    "actualScore = filtered_data['Score']\n",
    "positiveNegative = actualScore.map(partition) \n",
    "filtered_data['Score'] = positiveNegative\n",
    "print(\"Number of data points in our data\", filtered_data.shape)\n",
    "filtered_data.head(3)"
   ]
  },
  {
   "cell_type": "code",
   "execution_count": 5,
   "metadata": {
    "colab": {},
    "colab_type": "code",
    "id": "rwvHUSbOVABm"
   },
   "outputs": [],
   "source": [
    "display = pd.read_sql_query(\"\"\"\n",
    "SELECT UserId, ProductId, ProfileName, Time, Score, Text, COUNT(*)\n",
    "FROM Reviews\n",
    "GROUP BY UserId\n",
    "HAVING COUNT(*)>1\n",
    "\"\"\", con)"
   ]
  },
  {
   "cell_type": "code",
   "execution_count": 6,
   "metadata": {
    "colab": {},
    "colab_type": "code",
    "id": "Ox93twDUVABq",
    "outputId": "38f9e3ff-fdc6-4696-da3d-a11a01811562",
    "scrolled": true
   },
   "outputs": [
    {
     "name": "stdout",
     "output_type": "stream",
     "text": [
      "(80668, 7)\n"
     ]
    },
    {
     "data": {
      "text/html": [
       "<div>\n",
       "<style scoped>\n",
       "    .dataframe tbody tr th:only-of-type {\n",
       "        vertical-align: middle;\n",
       "    }\n",
       "\n",
       "    .dataframe tbody tr th {\n",
       "        vertical-align: top;\n",
       "    }\n",
       "\n",
       "    .dataframe thead th {\n",
       "        text-align: right;\n",
       "    }\n",
       "</style>\n",
       "<table border=\"1\" class=\"dataframe\">\n",
       "  <thead>\n",
       "    <tr style=\"text-align: right;\">\n",
       "      <th></th>\n",
       "      <th>UserId</th>\n",
       "      <th>ProductId</th>\n",
       "      <th>ProfileName</th>\n",
       "      <th>Time</th>\n",
       "      <th>Score</th>\n",
       "      <th>Text</th>\n",
       "      <th>COUNT(*)</th>\n",
       "    </tr>\n",
       "  </thead>\n",
       "  <tbody>\n",
       "    <tr>\n",
       "      <th>0</th>\n",
       "      <td>#oc-R115TNMSPFT9I7</td>\n",
       "      <td>B005ZBZLT4</td>\n",
       "      <td>Breyton</td>\n",
       "      <td>1331510400</td>\n",
       "      <td>2</td>\n",
       "      <td>Overall its just OK when considering the price...</td>\n",
       "      <td>2</td>\n",
       "    </tr>\n",
       "    <tr>\n",
       "      <th>1</th>\n",
       "      <td>#oc-R11D9D7SHXIJB9</td>\n",
       "      <td>B005HG9ESG</td>\n",
       "      <td>Louis E. Emory \"hoppy\"</td>\n",
       "      <td>1342396800</td>\n",
       "      <td>5</td>\n",
       "      <td>My wife has recurring extreme muscle spasms, u...</td>\n",
       "      <td>3</td>\n",
       "    </tr>\n",
       "    <tr>\n",
       "      <th>2</th>\n",
       "      <td>#oc-R11DNU2NBKQ23Z</td>\n",
       "      <td>B005ZBZLT4</td>\n",
       "      <td>Kim Cieszykowski</td>\n",
       "      <td>1348531200</td>\n",
       "      <td>1</td>\n",
       "      <td>This coffee is horrible and unfortunately not ...</td>\n",
       "      <td>2</td>\n",
       "    </tr>\n",
       "    <tr>\n",
       "      <th>3</th>\n",
       "      <td>#oc-R11O5J5ZVQE25C</td>\n",
       "      <td>B005HG9ESG</td>\n",
       "      <td>Penguin Chick</td>\n",
       "      <td>1346889600</td>\n",
       "      <td>5</td>\n",
       "      <td>This will be the bottle that you grab from the...</td>\n",
       "      <td>3</td>\n",
       "    </tr>\n",
       "    <tr>\n",
       "      <th>4</th>\n",
       "      <td>#oc-R12KPBODL2B5ZD</td>\n",
       "      <td>B007OSBEV0</td>\n",
       "      <td>Christopher P. Presta</td>\n",
       "      <td>1348617600</td>\n",
       "      <td>1</td>\n",
       "      <td>I didnt like this coffee. Instead of telling y...</td>\n",
       "      <td>2</td>\n",
       "    </tr>\n",
       "  </tbody>\n",
       "</table>\n",
       "</div>"
      ],
      "text/plain": [
       "               UserId   ...    COUNT(*)\n",
       "0  #oc-R115TNMSPFT9I7   ...           2\n",
       "1  #oc-R11D9D7SHXIJB9   ...           3\n",
       "2  #oc-R11DNU2NBKQ23Z   ...           2\n",
       "3  #oc-R11O5J5ZVQE25C   ...           3\n",
       "4  #oc-R12KPBODL2B5ZD   ...           2\n",
       "\n",
       "[5 rows x 7 columns]"
      ]
     },
     "execution_count": 6,
     "metadata": {},
     "output_type": "execute_result"
    }
   ],
   "source": [
    "print(display.shape)\n",
    "display.head()"
   ]
  },
  {
   "cell_type": "code",
   "execution_count": 7,
   "metadata": {
    "colab": {},
    "colab_type": "code",
    "id": "Pffe9t8kVABw",
    "outputId": "50c5d8b2-e9b6-4dd8-e9f1-4d81d727921f"
   },
   "outputs": [
    {
     "data": {
      "text/html": [
       "<div>\n",
       "<style scoped>\n",
       "    .dataframe tbody tr th:only-of-type {\n",
       "        vertical-align: middle;\n",
       "    }\n",
       "\n",
       "    .dataframe tbody tr th {\n",
       "        vertical-align: top;\n",
       "    }\n",
       "\n",
       "    .dataframe thead th {\n",
       "        text-align: right;\n",
       "    }\n",
       "</style>\n",
       "<table border=\"1\" class=\"dataframe\">\n",
       "  <thead>\n",
       "    <tr style=\"text-align: right;\">\n",
       "      <th></th>\n",
       "      <th>UserId</th>\n",
       "      <th>ProductId</th>\n",
       "      <th>ProfileName</th>\n",
       "      <th>Time</th>\n",
       "      <th>Score</th>\n",
       "      <th>Text</th>\n",
       "      <th>COUNT(*)</th>\n",
       "    </tr>\n",
       "  </thead>\n",
       "  <tbody>\n",
       "    <tr>\n",
       "      <th>80638</th>\n",
       "      <td>AZY10LLTJ71NX</td>\n",
       "      <td>B001ATMQK2</td>\n",
       "      <td>undertheshrine \"undertheshrine\"</td>\n",
       "      <td>1296691200</td>\n",
       "      <td>5</td>\n",
       "      <td>I bought this 6 pack because for the price tha...</td>\n",
       "      <td>5</td>\n",
       "    </tr>\n",
       "  </tbody>\n",
       "</table>\n",
       "</div>"
      ],
      "text/plain": [
       "              UserId   ...    COUNT(*)\n",
       "80638  AZY10LLTJ71NX   ...           5\n",
       "\n",
       "[1 rows x 7 columns]"
      ]
     },
     "execution_count": 7,
     "metadata": {},
     "output_type": "execute_result"
    }
   ],
   "source": [
    "display[display['UserId']=='AZY10LLTJ71NX']"
   ]
  },
  {
   "cell_type": "code",
   "execution_count": 8,
   "metadata": {
    "colab": {},
    "colab_type": "code",
    "id": "srBaiPGcVAB1",
    "outputId": "58588e66-8492-4e93-e524-1ef2a4934ba6"
   },
   "outputs": [
    {
     "data": {
      "text/plain": [
       "393063"
      ]
     },
     "execution_count": 8,
     "metadata": {},
     "output_type": "execute_result"
    }
   ],
   "source": [
    "display['COUNT(*)'].sum()"
   ]
  },
  {
   "cell_type": "markdown",
   "metadata": {
    "colab_type": "text",
    "id": "xrJxYF5qVAB7"
   },
   "source": [
    "#  [2] Exploratory Data Analysis"
   ]
  },
  {
   "cell_type": "markdown",
   "metadata": {
    "colab_type": "text",
    "id": "WFFWabyQVAB_"
   },
   "source": [
    "## [2.1] Data Cleaning: Deduplication\n",
    "\n",
    "It is observed (as shown in the table below) that the reviews data had many duplicate entries. Hence it was necessary to remove duplicates in order to get unbiased results for the analysis of the data.  Following is an example:"
   ]
  },
  {
   "cell_type": "code",
   "execution_count": 9,
   "metadata": {
    "colab": {},
    "colab_type": "code",
    "id": "xF-i-toeVACJ",
    "outputId": "eb5ae0ec-c90b-4d89-f982-e0facc47adb5",
    "scrolled": false
   },
   "outputs": [
    {
     "data": {
      "text/html": [
       "<div>\n",
       "<style scoped>\n",
       "    .dataframe tbody tr th:only-of-type {\n",
       "        vertical-align: middle;\n",
       "    }\n",
       "\n",
       "    .dataframe tbody tr th {\n",
       "        vertical-align: top;\n",
       "    }\n",
       "\n",
       "    .dataframe thead th {\n",
       "        text-align: right;\n",
       "    }\n",
       "</style>\n",
       "<table border=\"1\" class=\"dataframe\">\n",
       "  <thead>\n",
       "    <tr style=\"text-align: right;\">\n",
       "      <th></th>\n",
       "      <th>Id</th>\n",
       "      <th>ProductId</th>\n",
       "      <th>UserId</th>\n",
       "      <th>ProfileName</th>\n",
       "      <th>HelpfulnessNumerator</th>\n",
       "      <th>HelpfulnessDenominator</th>\n",
       "      <th>Score</th>\n",
       "      <th>Time</th>\n",
       "      <th>Summary</th>\n",
       "      <th>Text</th>\n",
       "    </tr>\n",
       "  </thead>\n",
       "  <tbody>\n",
       "    <tr>\n",
       "      <th>0</th>\n",
       "      <td>78445</td>\n",
       "      <td>B000HDL1RQ</td>\n",
       "      <td>AR5J8UI46CURR</td>\n",
       "      <td>Geetha Krishnan</td>\n",
       "      <td>2</td>\n",
       "      <td>2</td>\n",
       "      <td>5</td>\n",
       "      <td>1199577600</td>\n",
       "      <td>LOACKER QUADRATINI VANILLA WAFERS</td>\n",
       "      <td>DELICIOUS WAFERS. I FIND THAT EUROPEAN WAFERS ...</td>\n",
       "    </tr>\n",
       "    <tr>\n",
       "      <th>1</th>\n",
       "      <td>138317</td>\n",
       "      <td>B000HDOPYC</td>\n",
       "      <td>AR5J8UI46CURR</td>\n",
       "      <td>Geetha Krishnan</td>\n",
       "      <td>2</td>\n",
       "      <td>2</td>\n",
       "      <td>5</td>\n",
       "      <td>1199577600</td>\n",
       "      <td>LOACKER QUADRATINI VANILLA WAFERS</td>\n",
       "      <td>DELICIOUS WAFERS. I FIND THAT EUROPEAN WAFERS ...</td>\n",
       "    </tr>\n",
       "    <tr>\n",
       "      <th>2</th>\n",
       "      <td>138277</td>\n",
       "      <td>B000HDOPYM</td>\n",
       "      <td>AR5J8UI46CURR</td>\n",
       "      <td>Geetha Krishnan</td>\n",
       "      <td>2</td>\n",
       "      <td>2</td>\n",
       "      <td>5</td>\n",
       "      <td>1199577600</td>\n",
       "      <td>LOACKER QUADRATINI VANILLA WAFERS</td>\n",
       "      <td>DELICIOUS WAFERS. I FIND THAT EUROPEAN WAFERS ...</td>\n",
       "    </tr>\n",
       "    <tr>\n",
       "      <th>3</th>\n",
       "      <td>73791</td>\n",
       "      <td>B000HDOPZG</td>\n",
       "      <td>AR5J8UI46CURR</td>\n",
       "      <td>Geetha Krishnan</td>\n",
       "      <td>2</td>\n",
       "      <td>2</td>\n",
       "      <td>5</td>\n",
       "      <td>1199577600</td>\n",
       "      <td>LOACKER QUADRATINI VANILLA WAFERS</td>\n",
       "      <td>DELICIOUS WAFERS. I FIND THAT EUROPEAN WAFERS ...</td>\n",
       "    </tr>\n",
       "    <tr>\n",
       "      <th>4</th>\n",
       "      <td>155049</td>\n",
       "      <td>B000PAQ75C</td>\n",
       "      <td>AR5J8UI46CURR</td>\n",
       "      <td>Geetha Krishnan</td>\n",
       "      <td>2</td>\n",
       "      <td>2</td>\n",
       "      <td>5</td>\n",
       "      <td>1199577600</td>\n",
       "      <td>LOACKER QUADRATINI VANILLA WAFERS</td>\n",
       "      <td>DELICIOUS WAFERS. I FIND THAT EUROPEAN WAFERS ...</td>\n",
       "    </tr>\n",
       "  </tbody>\n",
       "</table>\n",
       "</div>"
      ],
      "text/plain": [
       "       Id                        ...                                                                       Text\n",
       "0   78445                        ...                          DELICIOUS WAFERS. I FIND THAT EUROPEAN WAFERS ...\n",
       "1  138317                        ...                          DELICIOUS WAFERS. I FIND THAT EUROPEAN WAFERS ...\n",
       "2  138277                        ...                          DELICIOUS WAFERS. I FIND THAT EUROPEAN WAFERS ...\n",
       "3   73791                        ...                          DELICIOUS WAFERS. I FIND THAT EUROPEAN WAFERS ...\n",
       "4  155049                        ...                          DELICIOUS WAFERS. I FIND THAT EUROPEAN WAFERS ...\n",
       "\n",
       "[5 rows x 10 columns]"
      ]
     },
     "execution_count": 9,
     "metadata": {},
     "output_type": "execute_result"
    }
   ],
   "source": [
    "display= pd.read_sql_query(\"\"\"\n",
    "SELECT *\n",
    "FROM Reviews\n",
    "WHERE Score != 3 AND UserId=\"AR5J8UI46CURR\"\n",
    "ORDER BY ProductID\n",
    "\"\"\", con)\n",
    "display.head()"
   ]
  },
  {
   "cell_type": "markdown",
   "metadata": {
    "colab_type": "text",
    "id": "y5WVHWvfVACd"
   },
   "source": [
    "As it can be seen above that same user has multiple reviews with same values for HelpfulnessNumerator, HelpfulnessDenominator, Score, Time, Summary and Text and on doing analysis it was found that <br>\n",
    "<br> \n",
    "ProductId=B000HDOPZG was Loacker Quadratini Vanilla Wafer Cookies, 8.82-Ounce Packages (Pack of 8)<br>\n",
    "<br> \n",
    "ProductId=B000HDL1RQ was Loacker Quadratini Lemon Wafer Cookies, 8.82-Ounce Packages (Pack of 8) and so on<br>\n",
    "\n",
    "It was inferred after analysis that reviews with same parameters other than ProductId belonged to the same product just having different flavour or quantity. Hence in order to reduce redundancy it was decided to eliminate the rows having same parameters.<br>\n",
    "\n",
    "The method used for the same was that we first sort the data according to ProductId and then just keep the first similar product review and delelte the others. for eg. in the above just the review for ProductId=B000HDL1RQ remains. This method ensures that there is only one representative for each product and deduplication without sorting would lead to possibility of different representatives still existing for the same product."
   ]
  },
  {
   "cell_type": "code",
   "execution_count": 10,
   "metadata": {
    "colab": {},
    "colab_type": "code",
    "id": "pbsv1fynVACf"
   },
   "outputs": [],
   "source": [
    "sorted_data=filtered_data.sort_values('Time', axis=0, ascending=True, inplace=False, kind='quicksort', na_position='last')"
   ]
  },
  {
   "cell_type": "code",
   "execution_count": 11,
   "metadata": {
    "colab": {},
    "colab_type": "code",
    "id": "WyA1KWtAVACm",
    "outputId": "b59e1cef-4aa5-4ed5-d9d9-6a7b1ab4efbf"
   },
   "outputs": [
    {
     "data": {
      "text/plain": [
       "(87775, 10)"
      ]
     },
     "execution_count": 11,
     "metadata": {},
     "output_type": "execute_result"
    }
   ],
   "source": [
    "#Deduplication of entries\n",
    "final=sorted_data.drop_duplicates(subset={\"UserId\",\"ProfileName\",\"Time\",\"Text\"}, keep='first', inplace=False)\n",
    "final.shape"
   ]
  },
  {
   "cell_type": "code",
   "execution_count": 12,
   "metadata": {
    "colab": {},
    "colab_type": "code",
    "id": "0c20ZFVvVACy",
    "outputId": "2782c016-9189-49ef-c562-133fbd92de41"
   },
   "outputs": [
    {
     "data": {
      "text/plain": [
       "87.775"
      ]
     },
     "execution_count": 12,
     "metadata": {},
     "output_type": "execute_result"
    }
   ],
   "source": [
    "#Checking to see how much % of data still remains\n",
    "(final['Id'].size*1.0)/(filtered_data['Id'].size*1.0)*100"
   ]
  },
  {
   "cell_type": "markdown",
   "metadata": {
    "colab_type": "text",
    "id": "75kTuGJkVAC-"
   },
   "source": [
    "<b>Observation:-</b> It was also seen that in two rows given below the value of HelpfulnessNumerator is greater than HelpfulnessDenominator which is not practically possible hence these two rows too are removed from calcualtions"
   ]
  },
  {
   "cell_type": "code",
   "execution_count": 13,
   "metadata": {
    "colab": {},
    "colab_type": "code",
    "id": "kjphxUzCVADA",
    "outputId": "30ff2cf1-7e5f-4d31-d6c9-b52fd617d9ac"
   },
   "outputs": [
    {
     "data": {
      "text/html": [
       "<div>\n",
       "<style scoped>\n",
       "    .dataframe tbody tr th:only-of-type {\n",
       "        vertical-align: middle;\n",
       "    }\n",
       "\n",
       "    .dataframe tbody tr th {\n",
       "        vertical-align: top;\n",
       "    }\n",
       "\n",
       "    .dataframe thead th {\n",
       "        text-align: right;\n",
       "    }\n",
       "</style>\n",
       "<table border=\"1\" class=\"dataframe\">\n",
       "  <thead>\n",
       "    <tr style=\"text-align: right;\">\n",
       "      <th></th>\n",
       "      <th>Id</th>\n",
       "      <th>ProductId</th>\n",
       "      <th>UserId</th>\n",
       "      <th>ProfileName</th>\n",
       "      <th>HelpfulnessNumerator</th>\n",
       "      <th>HelpfulnessDenominator</th>\n",
       "      <th>Score</th>\n",
       "      <th>Time</th>\n",
       "      <th>Summary</th>\n",
       "      <th>Text</th>\n",
       "    </tr>\n",
       "  </thead>\n",
       "  <tbody>\n",
       "    <tr>\n",
       "      <th>0</th>\n",
       "      <td>64422</td>\n",
       "      <td>B000MIDROQ</td>\n",
       "      <td>A161DK06JJMCYF</td>\n",
       "      <td>J. E. Stephens \"Jeanne\"</td>\n",
       "      <td>3</td>\n",
       "      <td>1</td>\n",
       "      <td>5</td>\n",
       "      <td>1224892800</td>\n",
       "      <td>Bought This for My Son at College</td>\n",
       "      <td>My son loves spaghetti so I didn't hesitate or...</td>\n",
       "    </tr>\n",
       "    <tr>\n",
       "      <th>1</th>\n",
       "      <td>44737</td>\n",
       "      <td>B001EQ55RW</td>\n",
       "      <td>A2V0I904FH7ABY</td>\n",
       "      <td>Ram</td>\n",
       "      <td>3</td>\n",
       "      <td>2</td>\n",
       "      <td>4</td>\n",
       "      <td>1212883200</td>\n",
       "      <td>Pure cocoa taste with crunchy almonds inside</td>\n",
       "      <td>It was almost a 'love at first bite' - the per...</td>\n",
       "    </tr>\n",
       "  </tbody>\n",
       "</table>\n",
       "</div>"
      ],
      "text/plain": [
       "      Id                        ...                                                                       Text\n",
       "0  64422                        ...                          My son loves spaghetti so I didn't hesitate or...\n",
       "1  44737                        ...                          It was almost a 'love at first bite' - the per...\n",
       "\n",
       "[2 rows x 10 columns]"
      ]
     },
     "execution_count": 13,
     "metadata": {},
     "output_type": "execute_result"
    }
   ],
   "source": [
    "display= pd.read_sql_query(\"\"\"\n",
    "SELECT *\n",
    "FROM Reviews\n",
    "WHERE Score != 3 AND Id=44737 OR Id=64422\n",
    "ORDER BY ProductID\n",
    "\"\"\", con)\n",
    "\n",
    "display.head()"
   ]
  },
  {
   "cell_type": "code",
   "execution_count": 14,
   "metadata": {
    "colab": {},
    "colab_type": "code",
    "id": "nH9orD4zVADM"
   },
   "outputs": [],
   "source": [
    "final=final[final.HelpfulnessNumerator<=final.HelpfulnessDenominator]"
   ]
  },
  {
   "cell_type": "code",
   "execution_count": 15,
   "metadata": {
    "colab": {},
    "colab_type": "code",
    "id": "lcEx-ONPVADe",
    "outputId": "cafb8975-1ba0-4edf-f7f9-1fd0724bcfce"
   },
   "outputs": [
    {
     "name": "stdout",
     "output_type": "stream",
     "text": [
      "(87773, 10)\n"
     ]
    },
    {
     "data": {
      "text/plain": [
       "1    73592\n",
       "0    14181\n",
       "Name: Score, dtype: int64"
      ]
     },
     "execution_count": 15,
     "metadata": {},
     "output_type": "execute_result"
    }
   ],
   "source": [
    "#Before starting the next phase of preprocessing lets see the number of entries left\n",
    "print(final.shape)\n",
    "\n",
    "#How many positive and negative reviews are present in our dataset?\n",
    "final['Score'].value_counts()"
   ]
  },
  {
   "cell_type": "code",
   "execution_count": 16,
   "metadata": {
    "colab": {},
    "colab_type": "code",
    "id": "5c2CbXxLVADt"
   },
   "outputs": [],
   "source": [
    "Score=final['Score']"
   ]
  },
  {
   "cell_type": "markdown",
   "metadata": {
    "colab_type": "text",
    "id": "GDMA5mUZVAD0"
   },
   "source": [
    "#  [3] Preprocessing"
   ]
  },
  {
   "cell_type": "markdown",
   "metadata": {
    "colab_type": "text",
    "id": "ZV45oWHeVAD3"
   },
   "source": [
    "## [3.1].  Preprocessing Review Text\n",
    "\n",
    "Now that we have finished deduplication our data requires some preprocessing before we go on further with analysis and making the prediction model.\n",
    "\n",
    "Hence in the Preprocessing phase we do the following in the order below:-\n",
    "\n",
    "1. Begin by removing the html tags\n",
    "2. Remove any punctuations or limited set of special characters like , or . or # etc.\n",
    "3. Check if the word is made up of english letters and is not alpha-numeric\n",
    "4. Check to see if the length of the word is greater than 2 (as it was researched that there is no adjective in 2-letters)\n",
    "5. Convert the word to lowercase\n",
    "6. Remove Stopwords\n",
    "7. Finally Snowball Stemming the word (it was obsereved to be better than Porter Stemming)<br>\n",
    "\n",
    "After which we collect the words used to describe positive and negative reviews"
   ]
  },
  {
   "cell_type": "code",
   "execution_count": 17,
   "metadata": {
    "colab": {},
    "colab_type": "code",
    "id": "EsXq4FxHVAD6",
    "outputId": "a3aef2fa-29b9-4092-c8d9-3659c985f7d5"
   },
   "outputs": [
    {
     "name": "stdout",
     "output_type": "stream",
     "text": [
      "I bought a few of these after my apartment was infested with fruit flies. After only a few hours, the trap had &quot;attracted&quot; many flies and within a few days they were practically gone. This may not be a long term  solution, but if flies are driving you crazy, consider buying this. One  caution- the surface is very sticky, so try to avoid touching it.\n",
      "==================================================\n",
      "This is a very good bar. There are lots of nuts and different kinds of fruit, but there is a bit too much sweetener (honey, etc). Good for breakfast, or half of one as a snack to get me through to lunch/dinner.<br /><br />Great price! Cheaper than Kind bars, although not as many different kinds available.\n",
      "==================================================\n",
      "Taylor's of Hargate Irish Breakfast tea is the only way to start you day.  The flavor is robust without being overdone and offers the little caffine kick I know I need to jump-start my morning.  Taylor's Tea also is lovely in the afternoon with a little sweet something.  Fine tea.\n",
      "==================================================\n",
      "Great flavor and love the snap!  When your looking for something crunchy that isn't high in calories (a litle high in carbs though) these are amazing and you can have 17 crackers in a serving.  I was buying them at an natural health food store for $2.79 a package.  A much better deal for a case here on Amazon (about 1.00 less per package)\n",
      "==================================================\n"
     ]
    }
   ],
   "source": [
    "# printing some random reviews\n",
    "sent_0 = final['Text'].values[0]\n",
    "print(sent_0)\n",
    "print(\"=\"*50)\n",
    "\n",
    "sent_1000 = final['Text'].values[1000]\n",
    "print(sent_1000)\n",
    "print(\"=\"*50)\n",
    "\n",
    "sent_1500 = final['Text'].values[1500]\n",
    "print(sent_1500)\n",
    "print(\"=\"*50)\n",
    "\n",
    "sent_4900 = final['Text'].values[4900]\n",
    "print(sent_4900)\n",
    "print(\"=\"*50)"
   ]
  },
  {
   "cell_type": "code",
   "execution_count": 18,
   "metadata": {
    "colab": {},
    "colab_type": "code",
    "id": "-79QG_T-VAEI",
    "outputId": "b78e4ca2-3015-46b3-867e-7ef494aa6dff"
   },
   "outputs": [
    {
     "name": "stdout",
     "output_type": "stream",
     "text": [
      "I bought a few of these after my apartment was infested with fruit flies. After only a few hours, the trap had &quot;attracted&quot; many flies and within a few days they were practically gone. This may not be a long term  solution, but if flies are driving you crazy, consider buying this. One  caution- the surface is very sticky, so try to avoid touching it.\n"
     ]
    }
   ],
   "source": [
    "# remove urls from text python: https://stackoverflow.com/a/40823105/4084039\n",
    "sent_0 = re.sub(r\"http\\S+\", \"\", sent_0)\n",
    "sent_1000 = re.sub(r\"http\\S+\", \"\", sent_1000)\n",
    "sent_150 = re.sub(r\"http\\S+\", \"\", sent_1500)\n",
    "sent_4900 = re.sub(r\"http\\S+\", \"\", sent_4900)\n",
    "\n",
    "print(sent_0)"
   ]
  },
  {
   "cell_type": "code",
   "execution_count": 19,
   "metadata": {
    "colab": {},
    "colab_type": "code",
    "id": "cxatRYZ5VAEQ",
    "outputId": "b6855b69-0771-4fdb-98c9-04af048fbeb8"
   },
   "outputs": [
    {
     "name": "stdout",
     "output_type": "stream",
     "text": [
      "I bought a few of these after my apartment was infested with fruit flies. After only a few hours, the trap had \"attracted\" many flies and within a few days they were practically gone. This may not be a long term  solution, but if flies are driving you crazy, consider buying this. One  caution- the surface is very sticky, so try to avoid touching it.\n",
      "==================================================\n",
      "This is a very good bar. There are lots of nuts and different kinds of fruit, but there is a bit too much sweetener (honey, etc). Good for breakfast, or half of one as a snack to get me through to lunch/dinner.Great price! Cheaper than Kind bars, although not as many different kinds available.\n",
      "==================================================\n",
      "Taylor's of Hargate Irish Breakfast tea is the only way to start you day.  The flavor is robust without being overdone and offers the little caffine kick I know I need to jump-start my morning.  Taylor's Tea also is lovely in the afternoon with a little sweet something.  Fine tea.\n",
      "==================================================\n",
      "Great flavor and love the snap!  When your looking for something crunchy that isn't high in calories (a litle high in carbs though) these are amazing and you can have 17 crackers in a serving.  I was buying them at an natural health food store for $2.79 a package.  A much better deal for a case here on Amazon (about 1.00 less per package)\n"
     ]
    }
   ],
   "source": [
    "# https://stackoverflow.com/questions/16206380/python-beautifulsoup-how-to-remove-all-tags-from-an-element\n",
    "from bs4 import BeautifulSoup\n",
    "\n",
    "soup = BeautifulSoup(sent_0, 'lxml')\n",
    "text = soup.get_text()\n",
    "print(text)\n",
    "print(\"=\"*50)\n",
    "\n",
    "soup = BeautifulSoup(sent_1000, 'lxml')\n",
    "text = soup.get_text()\n",
    "print(text)\n",
    "print(\"=\"*50)\n",
    "\n",
    "soup = BeautifulSoup(sent_1500, 'lxml')\n",
    "text = soup.get_text()\n",
    "print(text)\n",
    "print(\"=\"*50)\n",
    "\n",
    "soup = BeautifulSoup(sent_4900, 'lxml')\n",
    "text = soup.get_text()\n",
    "print(text)"
   ]
  },
  {
   "cell_type": "code",
   "execution_count": 20,
   "metadata": {
    "colab": {},
    "colab_type": "code",
    "id": "_K7xsrmSVAEV"
   },
   "outputs": [],
   "source": [
    "# https://stackoverflow.com/a/47091490/4084039\n",
    "import re\n",
    "\n",
    "def decontracted(phrase):\n",
    "    # specific\n",
    "    phrase = re.sub(r\"won't\", \"will not\", phrase)\n",
    "    phrase = re.sub(r\"can\\'t\", \"can not\", phrase)\n",
    "\n",
    "    # general\n",
    "    phrase = re.sub(r\"n\\'t\", \" not\", phrase)\n",
    "    phrase = re.sub(r\"\\'re\", \" are\", phrase)\n",
    "    phrase = re.sub(r\"\\'s\", \" is\", phrase)\n",
    "    phrase = re.sub(r\"\\'d\", \" would\", phrase)\n",
    "    phrase = re.sub(r\"\\'ll\", \" will\", phrase)\n",
    "    phrase = re.sub(r\"\\'t\", \" not\", phrase)\n",
    "    phrase = re.sub(r\"\\'ve\", \" have\", phrase)\n",
    "    phrase = re.sub(r\"\\'m\", \" am\", phrase)\n",
    "    return phrase"
   ]
  },
  {
   "cell_type": "code",
   "execution_count": 21,
   "metadata": {
    "colab": {},
    "colab_type": "code",
    "id": "xTY95kteVAEZ",
    "outputId": "a64869a8-a25b-4bcc-ef57-3d5dd9886821"
   },
   "outputs": [
    {
     "name": "stdout",
     "output_type": "stream",
     "text": [
      "Taylor is of Hargate Irish Breakfast tea is the only way to start you day.  The flavor is robust without being overdone and offers the little caffine kick I know I need to jump-start my morning.  Taylor is Tea also is lovely in the afternoon with a little sweet something.  Fine tea.\n",
      "==================================================\n"
     ]
    }
   ],
   "source": [
    "sent_1500 = decontracted(sent_1500)\n",
    "print(sent_1500)\n",
    "print(\"=\"*50)"
   ]
  },
  {
   "cell_type": "code",
   "execution_count": 22,
   "metadata": {
    "colab": {},
    "colab_type": "code",
    "id": "2iehTUTmVAEg",
    "outputId": "6088a719-3f9a-4cbf-b64c-e8ee060efb08"
   },
   "outputs": [
    {
     "name": "stdout",
     "output_type": "stream",
     "text": [
      "I bought a few of these after my apartment was infested with fruit flies. After only a few hours, the trap had &quot;attracted&quot; many flies and within a few days they were practically gone. This may not be a long term  solution, but if flies are driving you crazy, consider buying this. One  caution- the surface is very sticky, so try to avoid touching it.\n"
     ]
    }
   ],
   "source": [
    "#remove words with numbers python: https://stackoverflow.com/a/18082370/4084039\n",
    "sent_0 = re.sub(\"\\S*\\d\\S*\", \"\", sent_0).strip()\n",
    "print(sent_0)"
   ]
  },
  {
   "cell_type": "code",
   "execution_count": 23,
   "metadata": {
    "colab": {},
    "colab_type": "code",
    "id": "4Bq3rdwJVAEt",
    "outputId": "edf3dffd-d1b7-437e-e649-a4e674782202"
   },
   "outputs": [
    {
     "name": "stdout",
     "output_type": "stream",
     "text": [
      "Taylor is of Hargate Irish Breakfast tea is the only way to start you day The flavor is robust without being overdone and offers the little caffine kick I know I need to jump start my morning Taylor is Tea also is lovely in the afternoon with a little sweet something Fine tea \n"
     ]
    }
   ],
   "source": [
    "#remove spacial character: https://stackoverflow.com/a/5843547/4084039\n",
    "sent_1500 = re.sub('[^A-Za-z0-9]+', ' ', sent_1500)\n",
    "print(sent_1500)"
   ]
  },
  {
   "cell_type": "code",
   "execution_count": 24,
   "metadata": {
    "colab": {},
    "colab_type": "code",
    "id": "iM8m3kc-VAE0"
   },
   "outputs": [],
   "source": [
    "# https://gist.github.com/sebleier/554280\n",
    "# we are removing the words from the stop words list: 'no', 'nor', 'not'\n",
    "# <br /><br /> ==> after the above steps, we are getting \"br br\"\n",
    "# we are including them into stop words list\n",
    "# instead of <br /> if we have <br/> these tags would have revmoved in the 1st step\n",
    "\n",
    "stopwords= set(['br', 'the', 'i', 'me', 'my', 'myself', 'we', 'our', 'ours', 'ourselves', 'you', \"you're\", \"you've\",\\\n",
    "            \"you'll\", \"you'd\", 'your', 'yours', 'yourself', 'yourselves', 'he', 'him', 'his', 'himself', \\\n",
    "            'she', \"she's\", 'her', 'hers', 'herself', 'it', \"it's\", 'its', 'itself', 'they', 'them', 'their',\\\n",
    "            'theirs', 'themselves', 'what', 'which', 'who', 'whom', 'this', 'that', \"that'll\", 'these', 'those', \\\n",
    "            'am', 'is', 'are', 'was', 'were', 'be', 'been', 'being', 'have', 'has', 'had', 'having', 'do', 'does', \\\n",
    "            'did', 'doing', 'a', 'an', 'the', 'and', 'but', 'if', 'or', 'because', 'as', 'until', 'while', 'of', \\\n",
    "            'at', 'by', 'for', 'with', 'about', 'against', 'between', 'into', 'through', 'during', 'before', 'after',\\\n",
    "            'above', 'below', 'to', 'from', 'up', 'down', 'in', 'out', 'on', 'off', 'over', 'under', 'again', 'further',\\\n",
    "            'then', 'once', 'here', 'there', 'when', 'where', 'why', 'how', 'all', 'any', 'both', 'each', 'few', 'more',\\\n",
    "            'most', 'other', 'some', 'such', 'only', 'own', 'same', 'so', 'than', 'too', 'very', \\\n",
    "            's', 't', 'can', 'will', 'just', 'don', \"don't\", 'should', \"should've\", 'now', 'd', 'll', 'm', 'o', 're', \\\n",
    "            've', 'y', 'ain', 'aren', \"aren't\", 'couldn', \"couldn't\", 'didn', \"didn't\", 'doesn', \"doesn't\", 'hadn',\\\n",
    "            \"hadn't\", 'hasn', \"hasn't\", 'haven', \"haven't\", 'isn', \"isn't\", 'ma', 'mightn', \"mightn't\", 'mustn',\\\n",
    "            \"mustn't\", 'needn', \"needn't\", 'shan', \"shan't\", 'shouldn', \"shouldn't\", 'wasn', \"wasn't\", 'weren', \"weren't\", \\\n",
    "            'won', \"won't\", 'wouldn', \"wouldn't\"])"
   ]
  },
  {
   "cell_type": "code",
   "execution_count": 25,
   "metadata": {
    "colab": {},
    "colab_type": "code",
    "id": "RGBgrtEGVAE3",
    "outputId": "1c13e438-f5f5-45d9-d2e6-61af58f9d5d7"
   },
   "outputs": [
    {
     "name": "stderr",
     "output_type": "stream",
     "text": [
      "100%|██████████| 87773/87773 [01:07<00:00, 1309.76it/s]\n"
     ]
    }
   ],
   "source": [
    "# Combining all the above stundents \n",
    "from tqdm import tqdm\n",
    "preprocessed_reviews = []\n",
    "# tqdm is for printing the status bar\n",
    "for sentance in tqdm(final['Text'].values):\n",
    "    sentance = re.sub(r\"http\\S+\", \"\", sentance)\n",
    "    sentance = BeautifulSoup(sentance, 'lxml').get_text()\n",
    "    sentance = decontracted(sentance)\n",
    "    sentance = re.sub(\"\\S*\\d\\S*\", \"\", sentance).strip()\n",
    "    sentance = re.sub('[^A-Za-z]+', ' ', sentance)\n",
    "    # https://gist.github.com/sebleier/554280\n",
    "    sentance = ' '.join(e.lower() for e in sentance.split() if e.lower() not in stopwords)\n",
    "    preprocessed_reviews.append(sentance.strip())"
   ]
  },
  {
   "cell_type": "code",
   "execution_count": 26,
   "metadata": {
    "colab": {},
    "colab_type": "code",
    "id": "rOqBg-IdVAFE",
    "outputId": "2a0e1b69-12fa-44a8-a304-1bee8a65d70b"
   },
   "outputs": [
    {
     "data": {
      "text/plain": [
       "'taylor hargate irish breakfast tea way start day flavor robust without overdone offers little caffine kick know need jump start morning taylor tea also lovely afternoon little sweet something fine tea'"
      ]
     },
     "execution_count": 26,
     "metadata": {},
     "output_type": "execute_result"
    }
   ],
   "source": [
    "preprocessed_reviews[1500]"
   ]
  },
  {
   "cell_type": "markdown",
   "metadata": {
    "colab_type": "text",
    "id": "3JD5W2j_VAFM"
   },
   "source": [
    "<h2><font color='red'>[3.2] Preprocessing Review Summary</font></h2>"
   ]
  },
  {
   "cell_type": "code",
   "execution_count": 27,
   "metadata": {
    "colab": {},
    "colab_type": "code",
    "id": "n0gN1RkSVAFO",
    "outputId": "165924ee-aaf1-4bcc-b77f-ca93b6a7ac46"
   },
   "outputs": [
    {
     "name": "stderr",
     "output_type": "stream",
     "text": [
      "100%|██████████| 87773/87773 [01:06<00:00, 1315.49it/s]\n"
     ]
    }
   ],
   "source": [
    "preprocessed_summary = []\n",
    "# tqdm is for printing the status bar\n",
    "for sentance in tqdm(final['Summary'].values):\n",
    "    sentance = re.sub(r\"http\\S+\", \"\", sentance)\n",
    "    sentance = BeautifulSoup(sentance, 'lxml').get_text()\n",
    "    sentance = decontracted(sentance)\n",
    "    sentance = re.sub(\"\\S*\\d\\S*\", \"\", sentance).strip()\n",
    "    sentance = re.sub('[^A-Za-z]+', ' ', sentance)\n",
    "    # https://gist.github.com/sebleier/554280\n",
    "    sentance = ' '.join(e.lower() for e in sentance.split() if e.lower() not in stopwords)\n",
    "    preprocessed_summary.append(sentance.strip())"
   ]
  },
  {
   "cell_type": "markdown",
   "metadata": {
    "colab_type": "text",
    "id": "PuoKEzxEVAFe"
   },
   "source": [
    "# [4] Featurization"
   ]
  },
  {
   "cell_type": "code",
   "execution_count": 28,
   "metadata": {
    "colab": {},
    "colab_type": "code",
    "id": "y2LVSqGbVAFf",
    "outputId": "01db274a-78df-4be4-cd0a-7eb5951eb58f"
   },
   "outputs": [
    {
     "name": "stdout",
     "output_type": "stream",
     "text": [
      "61442\n",
      "26331\n",
      "(61442,)\n",
      "(26331,)\n"
     ]
    }
   ],
   "source": [
    "preprocessed_reviews=np.array(preprocessed_reviews)\n",
    "preprocessed_summary=np.array(preprocessed_summary)\n",
    "x_train=[]\n",
    "x_test=[]\n",
    "for i in range(int((preprocessed_reviews.shape[0]*0.7))+1):\n",
    "    x_train.append(preprocessed_reviews[i]+\" \"+preprocessed_summary[i])\n",
    "for i in range(int((preprocessed_reviews.shape[0]*0.7))+1,preprocessed_reviews.shape[0]):\n",
    "    x_test.append(preprocessed_reviews[i]+\" \"+preprocessed_summary[i])\n",
    "y_train=Score[:int((Score.shape[0]*0.7))+1]\n",
    "y_test=Score[int((Score.shape[0]*0.7))+1:]\n",
    "print(len(x_train))\n",
    "print(len(x_test))\n",
    "print(y_train.shape)\n",
    "print(y_test.shape)"
   ]
  },
  {
   "cell_type": "markdown",
   "metadata": {
    "colab_type": "text",
    "id": "NWdTU8xyVAFn"
   },
   "source": [
    "## [4.1] BAG OF WORDS"
   ]
  },
  {
   "cell_type": "code",
   "execution_count": 29,
   "metadata": {
    "colab": {},
    "colab_type": "code",
    "id": "LFwq1R6rVAFr"
   },
   "outputs": [],
   "source": [
    "#BoW\n",
    "count_vect = CountVectorizer(min_df= 0.01) #in scikit-learn\n",
    "final_counts_train=count_vect.fit_transform(x_train)\n",
    "final_counts_test=count_vect.transform(x_test)"
   ]
  },
  {
   "cell_type": "markdown",
   "metadata": {
    "colab_type": "text",
    "id": "pJmRiXbsVAFv"
   },
   "source": [
    "## [4.3] TF-IDF"
   ]
  },
  {
   "cell_type": "code",
   "execution_count": 30,
   "metadata": {
    "colab": {},
    "colab_type": "code",
    "id": "QclL7-ahVAFw"
   },
   "outputs": [],
   "source": [
    "tf_idf_vect = TfidfVectorizer(min_df= 0.01)\n",
    "final_tfidf_train= tf_idf_vect.fit_transform(x_train)\n",
    "final_tfidf_test=tf_idf_vect.transform(x_test)"
   ]
  },
  {
   "cell_type": "markdown",
   "metadata": {
    "colab_type": "text",
    "id": "3c0B5WbwVAF0"
   },
   "source": [
    "## [4.4] Word2Vec"
   ]
  },
  {
   "cell_type": "code",
   "execution_count": 31,
   "metadata": {
    "colab": {},
    "colab_type": "code",
    "id": "pWst6bHuVAF1",
    "outputId": "008f8ef4-d235-416d-dd65-855268ddfd64"
   },
   "outputs": [
    {
     "name": "stderr",
     "output_type": "stream",
     "text": [
      "100%|██████████| 61442/61442 [00:00<00:00, 94373.90it/s] \n"
     ]
    }
   ],
   "source": [
    "# Train your own Word2Vec model using your own text corpus\n",
    "i=0\n",
    "list_of_sentance=[]\n",
    "for sentance in tqdm((x_train)):\n",
    "    list_of_sentance.append(sentance.split())"
   ]
  },
  {
   "cell_type": "code",
   "execution_count": 32,
   "metadata": {
    "colab": {},
    "colab_type": "code",
    "id": "rY_yThVgVAF7",
    "outputId": "08868001-99f5-46b9-9834-2bc0e5c8c7b9",
    "scrolled": true
   },
   "outputs": [
    {
     "name": "stdout",
     "output_type": "stream",
     "text": [
      "[('excellent', 0.784703254699707), ('fantastic', 0.7825158834457397), ('terrific', 0.7568631768226624), ('awesome', 0.749326229095459), ('good', 0.7091716527938843), ('wonderful', 0.7013852596282959), ('nice', 0.6126043796539307), ('fabulous', 0.5998133420944214), ('decent', 0.5994043946266174), ('amazing', 0.5928020477294922)]\n",
      "==================================================\n",
      "[('greatest', 0.7014682292938232), ('nastiest', 0.6683268547058105), ('best', 0.660970151424408), ('tastiest', 0.6580258011817932), ('coolest', 0.6400653123855591), ('disgusting', 0.635493278503418), ('horrible', 0.6195787191390991), ('softest', 0.5737954378128052), ('closest', 0.5700803995132446), ('awful', 0.5627397894859314)]\n"
     ]
    }
   ],
   "source": [
    "# Using Google News Word2Vectors\n",
    "\n",
    "# in this project we are using a pretrained model by google\n",
    "# its 3.3G file, once you load this into your memory \n",
    "# it occupies ~9Gb, so please do this step only if you have >12G of ram\n",
    "# we will provide a pickle file wich contains a dict , \n",
    "# and it contains all our courpus words as keys and  model[word] as values\n",
    "# To use this code-snippet, download \"GoogleNews-vectors-negative300.bin\" \n",
    "# from https://drive.google.com/file/d/0B7XkCwpI5KDYNlNUTTlSS21pQmM/edit\n",
    "# it's 1.9GB in size.\n",
    "\n",
    "\n",
    "# http://kavita-ganesan.com/gensim-word2vec-tutorial-starter-code/#.W17SRFAzZPY\n",
    "# you can comment this whole cell\n",
    "# or change these varible according to your need\n",
    "\n",
    "is_your_ram_gt_16g=False\n",
    "want_to_use_google_w2v = False\n",
    "want_to_train_w2v = True\n",
    "\n",
    "if want_to_train_w2v:\n",
    "    # min_count = 5 considers only words that occured atleast 5 times\n",
    "    w2v_model=Word2Vec(list_of_sentance[:int((preprocessed_reviews.shape[0]*0.7))+1],min_count=5,size=100, workers=4)\n",
    "    print(w2v_model.wv.most_similar('great'))\n",
    "    print('='*50)\n",
    "    print(w2v_model.wv.most_similar('worst'))\n",
    "    \n",
    "elif want_to_use_google_w2v and is_your_ram_gt_16g:\n",
    "    if os.path.isfile('GoogleNews-vectors-negative300.bin'):\n",
    "        w2v_model=KeyedVectors.load_word2vec_format('GoogleNews-vectors-negative300.bin', binary=True)\n",
    "        print(w2v_model.wv.most_similar('great'))\n",
    "        print(w2v_model.wv.most_similar('worst'))\n",
    "    else:\n",
    "        print(\"you don't have gogole's word2vec file, keep want_to_train_w2v = True, to train your own w2v \")"
   ]
  },
  {
   "cell_type": "code",
   "execution_count": 33,
   "metadata": {
    "colab": {},
    "colab_type": "code",
    "id": "k4rwssBEVAGF",
    "outputId": "f65e3930-487f-486e-8f50-c5ff6537927d"
   },
   "outputs": [
    {
     "name": "stdout",
     "output_type": "stream",
     "text": [
      "number of words that occured minimum 5 times  15254\n",
      "sample words  ['bought', 'apartment', 'infested', 'fruit', 'flies', 'hours', 'trap', 'attracted', 'many', 'within', 'days', 'practically', 'gone', 'may', 'not', 'long', 'term', 'solution', 'driving', 'crazy', 'consider', 'buying', 'one', 'caution', 'surface', 'sticky', 'try', 'avoid', 'touching', 'sure', 'death', 'really', 'good', 'idea', 'final', 'product', 'outstanding', 'use', 'car', 'window', 'everybody', 'asks', 'made', 'two', 'thumbs', 'great', 'received', 'shipment', 'could', 'hardly']\n"
     ]
    }
   ],
   "source": [
    "w2v_words = list(w2v_model.wv.vocab)\n",
    "print(\"number of words that occured minimum 5 times \",len(w2v_words))\n",
    "print(\"sample words \", w2v_words[0:50])"
   ]
  },
  {
   "cell_type": "markdown",
   "metadata": {
    "colab_type": "text",
    "id": "sAuqE1BNVAGa"
   },
   "source": [
    "## [4.4.1] Converting text into vectors using Avg W2V, TFIDF-W2V"
   ]
  },
  {
   "cell_type": "markdown",
   "metadata": {
    "colab_type": "text",
    "id": "2Aejp52iVAGc"
   },
   "source": [
    "#### [4.4.1.1] Avg W2v"
   ]
  },
  {
   "cell_type": "markdown",
   "metadata": {},
   "source": [
    "###### Train"
   ]
  },
  {
   "cell_type": "code",
   "execution_count": 34,
   "metadata": {
    "colab": {},
    "colab_type": "code",
    "id": "m78sZyllVAGr",
    "outputId": "abeecef9-5832-4aba-bb67-1719d2b7d6ae"
   },
   "outputs": [
    {
     "name": "stderr",
     "output_type": "stream",
     "text": [
      "100%|██████████| 61442/61442 [02:28<00:00, 414.92it/s]"
     ]
    },
    {
     "name": "stdout",
     "output_type": "stream",
     "text": [
      "61442\n",
      "100\n"
     ]
    },
    {
     "name": "stderr",
     "output_type": "stream",
     "text": [
      "\n"
     ]
    }
   ],
   "source": [
    "# average Word2Vec\n",
    "# compute average word2vec for each review.\n",
    "sent_vectors_train = []; # the avg-w2v for each sentence/review is stored in this list\n",
    "for sent in tqdm(list_of_sentance): # for each review/sentence\n",
    "    sent_vec = np.zeros(100) # as word vectors are of zero length 100, you might need to change this to 300 if you use google's w2v\n",
    "    cnt_words =0; # num of words with a valid vector in the sentence/review\n",
    "    for word in sent: # for each word in a review/sentence\n",
    "        if word in w2v_words:\n",
    "            vec = w2v_model.wv[word]\n",
    "            sent_vec += vec\n",
    "            cnt_words += 1\n",
    "    if cnt_words != 0:\n",
    "        sent_vec /= cnt_words\n",
    "    sent_vectors_train.append(sent_vec)\n",
    "print(len(sent_vectors_train))\n",
    "print(len(sent_vectors_train[0]))"
   ]
  },
  {
   "cell_type": "markdown",
   "metadata": {},
   "source": [
    "###### Test"
   ]
  },
  {
   "cell_type": "code",
   "execution_count": 35,
   "metadata": {
    "colab": {},
    "colab_type": "code",
    "id": "jcbaIYm0VAGy",
    "outputId": "790ff065-2776-4bd2-c2e5-fe1d71d3122c"
   },
   "outputs": [
    {
     "name": "stderr",
     "output_type": "stream",
     "text": [
      "100%|██████████| 26331/26331 [00:00<00:00, 171664.82it/s]\n",
      "100%|██████████| 26331/26331 [01:05<00:00, 403.06it/s]"
     ]
    },
    {
     "name": "stdout",
     "output_type": "stream",
     "text": [
      "26331\n",
      "100\n"
     ]
    },
    {
     "name": "stderr",
     "output_type": "stream",
     "text": [
      "\n"
     ]
    }
   ],
   "source": [
    "i=0\n",
    "list_of_sentance=[]\n",
    "for sentance in tqdm((x_test)):\n",
    "    list_of_sentance.append(sentance.split())\n",
    "# average Word2Vec\n",
    "# compute average word2vec for each review.\n",
    "sent_vectors_test = []; # the avg-w2v for each sentence/review is stored in this list\n",
    "for sent in tqdm(list_of_sentance): # for each review/sentence\n",
    "    sent_vec = np.zeros(100) # as word vectors are of zero length 100, you might need to change this to 300 if you use google's w2v\n",
    "    cnt_words =0; # num of words with a valid vector in the sentence/review\n",
    "    for word in sent: # for each word in a review/sentence\n",
    "        if word in w2v_words:\n",
    "            vec = w2v_model.wv[word]\n",
    "            sent_vec += vec\n",
    "            cnt_words += 1\n",
    "    if cnt_words != 0:\n",
    "        sent_vec /= cnt_words\n",
    "    sent_vectors_test.append(sent_vec)\n",
    "print(len(sent_vectors_test))\n",
    "print(len(sent_vectors_test[0]))"
   ]
  },
  {
   "cell_type": "markdown",
   "metadata": {
    "colab_type": "text",
    "id": "-kjWab59VAHB"
   },
   "source": [
    "#### [4.4.1.2] TFIDF weighted W2v"
   ]
  },
  {
   "cell_type": "code",
   "execution_count": 36,
   "metadata": {
    "colab": {},
    "colab_type": "code",
    "id": "uenGRmrTVAHD"
   },
   "outputs": [],
   "source": [
    "# S = [\"abc def pqr\", \"def def def abc\", \"pqr pqr def\"]\n",
    "model = TfidfVectorizer()\n",
    "tf_idf_matrix = model.fit_transform(x_train)\n",
    "# we are converting a dictionary with word as a key, and the idf as a value\n",
    "dictionary = dict(zip(model.get_feature_names(), list(model.idf_)))"
   ]
  },
  {
   "cell_type": "markdown",
   "metadata": {},
   "source": [
    "###### Train"
   ]
  },
  {
   "cell_type": "code",
   "execution_count": 37,
   "metadata": {
    "colab": {},
    "colab_type": "code",
    "id": "B8gB97lIVAHK",
    "outputId": "2305a88e-feba-47a0-be8b-46f0a30772d6",
    "scrolled": true
   },
   "outputs": [
    {
     "name": "stderr",
     "output_type": "stream",
     "text": [
      "100%|██████████| 61442/61442 [00:00<00:00, 108232.58it/s]\n",
      "100%|██████████| 61442/61442 [34:41<00:00, 26.74it/s]  \n"
     ]
    }
   ],
   "source": [
    "i=0\n",
    "list_of_sentance=[]\n",
    "for sentance in tqdm((x_train)):\n",
    "    list_of_sentance.append(sentance.split())\n",
    "# TF-IDF weighted Word2Vec\n",
    "tfidf_feat = model.get_feature_names() # tfidf words/col-names\n",
    "# final_tf_idf is the sparse matrix with row= sentence, col=word and cell_val = tfidf\n",
    "\n",
    "tfidf_sent_vectors_train = []; # the tfidf-w2v for each sentence/review is stored in this list\n",
    "row=0;\n",
    "for sent in tqdm(list_of_sentance): # for each review/sentence \n",
    "    sent_vec = np.zeros(100) # as word vectors are of zero length\n",
    "    weight_sum =0; # num of words with a valid vector in the sentence/review\n",
    "    for word in sent: # for each word in a review/sentence\n",
    "        if word in w2v_words and word in tfidf_feat:\n",
    "            vec = w2v_model.wv[word]\n",
    "#             tf_idf = tf_idf_matrix[row, tfidf_feat.index(word)]\n",
    "            # to reduce the computation we are \n",
    "            # dictionary[word] = idf value of word in whole courpus\n",
    "            # sent.count(word) = tf valeus of word in this review\n",
    "            tf_idf = dictionary[word]*(sent.count(word)/len(sent))\n",
    "            sent_vec += (vec * tf_idf)\n",
    "            weight_sum += tf_idf\n",
    "    if weight_sum != 0:\n",
    "        sent_vec /= weight_sum\n",
    "    tfidf_sent_vectors_train.append(sent_vec)\n",
    "    row += 1"
   ]
  },
  {
   "cell_type": "markdown",
   "metadata": {},
   "source": [
    "###### Test"
   ]
  },
  {
   "cell_type": "code",
   "execution_count": 38,
   "metadata": {
    "colab": {},
    "colab_type": "code",
    "id": "qizDe07aVAHR",
    "outputId": "b6f69772-e9b4-435c-bc46-e4ec65974ed1"
   },
   "outputs": [
    {
     "name": "stderr",
     "output_type": "stream",
     "text": [
      "100%|██████████| 26331/26331 [00:00<00:00, 73714.73it/s] \n",
      "100%|██████████| 26331/26331 [15:13<00:00, 39.36it/s]\n"
     ]
    }
   ],
   "source": [
    "i=0\n",
    "list_of_sentance=[]\n",
    "for sentance in tqdm((x_test)):\n",
    "    list_of_sentance.append(sentance.split())\n",
    "# TF-IDF weighted Word2Vec\n",
    "tfidf_feat = model.get_feature_names() # tfidf words/col-names\n",
    "# final_tf_idf is the sparse matrix with row= sentence, col=word and cell_val = tfidf\n",
    "\n",
    "tfidf_sent_vectors_test = []; # the tfidf-w2v for each sentence/review is stored in this list\n",
    "row=0;\n",
    "for sent in tqdm(list_of_sentance): # for each review/sentence \n",
    "    sent_vec = np.zeros(100) # as word vectors are of zero length\n",
    "    weight_sum =0; # num of words with a valid vector in the sentence/review\n",
    "    for word in sent: # for each word in a review/sentence\n",
    "        if word in w2v_words and word in tfidf_feat:\n",
    "            vec = w2v_model.wv[word]\n",
    "#             tf_idf = tf_idf_matrix[row, tfidf_feat.index(word)]\n",
    "            # to reduce the computation we are \n",
    "            # dictionary[word] = idf value of word in whole courpus\n",
    "            # sent.count(word) = tf valeus of word in this review\n",
    "            tf_idf = dictionary[word]*(sent.count(word)/len(sent))\n",
    "            sent_vec += (vec * tf_idf)\n",
    "            weight_sum += tf_idf\n",
    "    if weight_sum != 0:\n",
    "        sent_vec /= weight_sum\n",
    "    tfidf_sent_vectors_test.append(sent_vec)\n",
    "    row += 1"
   ]
  },
  {
   "cell_type": "markdown",
   "metadata": {
    "colab_type": "text",
    "id": "z1zEIzQhVAHZ"
   },
   "source": [
    "# [5] Assignment 9: Random Forests"
   ]
  },
  {
   "cell_type": "markdown",
   "metadata": {
    "colab_type": "text",
    "id": "5jAhAmzrVAHa"
   },
   "source": [
    "<ol>\n",
    "    <li><strong>Apply Random Forests & GBDT on these feature sets</strong>\n",
    "        <ul>\n",
    "            <li><font color='red'>SET 1:</font>Review text, preprocessed one converted into vectors using (BOW)</li>\n",
    "            <li><font color='red'>SET 2:</font>Review text, preprocessed one converted into vectors using (TFIDF)</li>\n",
    "            <li><font color='red'>SET 3:</font>Review text, preprocessed one converted into vectors using (AVG W2v)</li>\n",
    "            <li><font color='red'>SET 4:</font>Review text, preprocessed one converted into vectors using (TFIDF W2v)</li>\n",
    "        </ul>\n",
    "    </li>\n",
    "    <br>\n",
    "    <li><strong>The hyper paramter tuning (Consider any two hyper parameters)</strong>\n",
    "        <ul>\n",
    "    <li>Find the best hyper parameter which will give the maximum <a href='https://www.appliedaicourse.com/course/applied-ai-course-online/lessons/receiver-operating-characteristic-curve-roc-curve-and-auc-1/'>AUC</a> value</li>\n",
    "    <li>Find the best hyper paramter using k-fold cross validation or simple cross validation data</li>\n",
    "    <li>Use gridsearch cv or randomsearch cv or you can also write your own for loops to do this task of hyperparameter tuning</li>          \n",
    "        </ul>\n",
    "    </li>\n",
    "    <br>\n",
    "    <li><strong>Feature importance</strong>\n",
    "        <ul>\n",
    "    <li>Get top 20 important features and represent them in a word cloud. Do this for BOW & TFIDF.</li>\n",
    "        </ul>\n",
    "    </li>\n",
    "    <br>\n",
    "    <li><strong>Feature engineering</strong>\n",
    "        <ul>\n",
    "    <li>To increase the performance of your model, you can also experiment with with feature engineering like :</li>\n",
    "            <ul>\n",
    "            <li>Taking length of reviews as another feature.</li>\n",
    "            <li>Considering some features from review summary as well.</li>\n",
    "        </ul>\n",
    "        </ul>\n",
    "    </li>\n",
    "    <br>\n",
    "    <li><strong>Representation of results</strong>\n",
    "        <ul>\n",
    "    <li>You need to plot the performance of model both on train data and cross validation data for each hyper parameter, like shown in the figure\n",
    "    <img src='3d_plot.JPG' width=500px> with X-axis as <strong>n_estimators</strong>, Y-axis as <strong>max_depth</strong>, and Z-axis as <strong>AUC Score</strong> , we have given the notebook which explains how to plot this 3d plot, you can find it in the same drive <i>3d_scatter_plot.ipynb</i></li>\n",
    "            <p style=\"text-align:center;font-size:30px;color:red;\"><strong>(or)</strong></p> <br>\n",
    "    <li>You need to plot the performance of model both on train data and cross validation data for each hyper parameter, like shown in the figure\n",
    "    <img src='heat_map.JPG' width=300px> <a href='https://seaborn.pydata.org/generated/seaborn.heatmap.html'>seaborn heat maps</a> with rows as <strong>n_estimators</strong>, columns as <strong>max_depth</strong>, and values inside the cell representing <strong>AUC Score</strong> </li>\n",
    "    <li>You choose either of the plotting techniques out of 3d plot or heat map</li>\n",
    "    <li>Once after you found the best hyper parameter, you need to train your model with it, and find the AUC on test data and plot the ROC curve on both train and test.\n",
    "    <img src='train_test_auc.JPG' width=300px></li>\n",
    "    <li>Along with plotting ROC curve, you need to print the <a href='https://www.appliedaicourse.com/course/applied-ai-course-online/lessons/confusion-matrix-tpr-fpr-fnr-tnr-1/'>confusion matrix</a> with predicted and original labels of test data points. Please visualize your confusion matrices using <a href='https://seaborn.pydata.org/generated/seaborn.heatmap.html'>seaborn heatmaps.\n",
    "    <img src='confusion_matrix.png' width=300px></li>\n",
    "        </ul>\n",
    "    </li>\n",
    "    <br>\n",
    "    <li><strong>Conclusion</strong>\n",
    "        <ul>\n",
    "    <li>You need to summarize the results at the end of the notebook, summarize it in the table format. To print out a table please refer to this prettytable library<a href='http://zetcode.com/python/prettytable/'>  link</a> \n",
    "        <img src='summary.JPG' width=400px>\n",
    "    </li>\n",
    "        </ul>\n",
    "</ol>"
   ]
  },
  {
   "cell_type": "markdown",
   "metadata": {
    "colab_type": "text",
    "id": "gOGFj2o3VAHj"
   },
   "source": [
    "<h4><font color='red'>Note: Data Leakage</font></h4>\n",
    "\n",
    "1. There will be an issue of data-leakage if you vectorize the entire data and then split it into train/cv/test.\n",
    "2. To avoid the issue of data-leakag, make sure to split your data first and then vectorize it. \n",
    "3. While vectorizing your data, apply the method fit_transform() on you train data, and apply the method transform() on cv/test data.\n",
    "4. For more details please go through this <a href='https://soundcloud.com/applied-ai-course/leakage-bow-and-tfidf'>link.</a>"
   ]
  },
  {
   "cell_type": "markdown",
   "metadata": {
    "colab_type": "text",
    "id": "3K98USk9VAHm"
   },
   "source": [
    "## [5.1] Applying RF"
   ]
  },
  {
   "cell_type": "markdown",
   "metadata": {
    "colab_type": "text",
    "id": "cpWa_z8SVAHn"
   },
   "source": [
    "### [5.1.1] Applying Random Forests on BOW,<font color='red'> SET 1</font>"
   ]
  },
  {
   "cell_type": "code",
   "execution_count": 39,
   "metadata": {
    "colab": {},
    "colab_type": "code",
    "id": "mQkzdNRbVAHs"
   },
   "outputs": [],
   "source": [
    "# Please write all the code with proper documentation\n",
    "import warnings\n",
    "warnings.filterwarnings(\"ignore\")\n",
    "from sklearn.ensemble import RandomForestClassifier\n",
    "from sklearn.model_selection import GridSearchCV\n",
    "from sklearn.model_selection import TimeSeriesSplit"
   ]
  },
  {
   "cell_type": "code",
   "execution_count": 40,
   "metadata": {},
   "outputs": [],
   "source": [
    "my_cv = TimeSeriesSplit(n_splits=10)\n",
    "param_grid= {'n_estimators': [5,10,50,100,250,500]}\n",
    "grid=GridSearchCV(RandomForestClassifier(max_depth=5), param_grid, cv=my_cv, scoring=\"roc_auc\",n_jobs=-1)"
   ]
  },
  {
   "cell_type": "code",
   "execution_count": 41,
   "metadata": {},
   "outputs": [
    {
     "name": "stdout",
     "output_type": "stream",
     "text": [
      "CPU times: user 7.41 s, sys: 456 ms, total: 7.87 s\n",
      "Wall time: 1min 11s\n"
     ]
    },
    {
     "data": {
      "text/plain": [
       "GridSearchCV(cv=TimeSeriesSplit(max_train_size=None, n_splits=10),\n",
       "       error_score='raise-deprecating',\n",
       "       estimator=RandomForestClassifier(bootstrap=True, class_weight=None, criterion='gini',\n",
       "            max_depth=5, max_features='auto', max_leaf_nodes=None,\n",
       "            min_impurity_decrease=0.0, min_impurity_split=None,\n",
       "            min_samples_leaf=1, min_samples_split=2,\n",
       "            min_weight_fraction_leaf=0.0, n_estimators='warn', n_jobs=None,\n",
       "            oob_score=False, random_state=None, verbose=0,\n",
       "            warm_start=False),\n",
       "       fit_params=None, iid='warn', n_jobs=-1,\n",
       "       param_grid={'n_estimators': [5, 10, 50, 100, 250, 500]},\n",
       "       pre_dispatch='2*n_jobs', refit=True, return_train_score='warn',\n",
       "       scoring='roc_auc', verbose=0)"
      ]
     },
     "execution_count": 41,
     "metadata": {},
     "output_type": "execute_result"
    }
   ],
   "source": [
    "%time grid.fit(final_counts_train,y_train)"
   ]
  },
  {
   "cell_type": "code",
   "execution_count": 42,
   "metadata": {},
   "outputs": [
    {
     "data": {
      "image/png": "[encoded data removed]",
      "text/plain": [
       "<Figure size 432x288 with 1 Axes>"
      ]
     },
     "metadata": {},
     "output_type": "display_data"
    }
   ],
   "source": [
    "cv_scores=grid.cv_results_ ['mean_test_score']\n",
    "train_scores=grid.cv_results_ ['mean_train_score']\n",
    "lines = plt.plot(param_grid[\"n_estimators\"],cv_scores, param_grid[\"n_estimators\"],train_scores )\n",
    "plt.setp(lines[0], color='r', linewidth=2.0, label=\"cv score\")\n",
    "plt.setp(lines[1], color='g', linewidth=2.0,label=\"train score\")\n",
    "plt.legend()\n",
    "plt.show()"
   ]
  },
  {
   "cell_type": "code",
   "execution_count": 44,
   "metadata": {},
   "outputs": [],
   "source": [
    "my_cv = TimeSeriesSplit(n_splits=10)\n",
    "param_grid= {'max_depth': [20,22,24,26]}\n",
    "grid=GridSearchCV(RandomForestClassifier(n_estimators=100), param_grid, cv=my_cv, scoring=\"roc_auc\",n_jobs=-1)"
   ]
  },
  {
   "cell_type": "code",
   "execution_count": 45,
   "metadata": {},
   "outputs": [
    {
     "name": "stdout",
     "output_type": "stream",
     "text": [
      "CPU times: user 40.5 s, sys: 112 ms, total: 40.6 s\n",
      "Wall time: 3min 52s\n"
     ]
    },
    {
     "data": {
      "text/plain": [
       "GridSearchCV(cv=TimeSeriesSplit(max_train_size=None, n_splits=10),\n",
       "       error_score='raise-deprecating',\n",
       "       estimator=RandomForestClassifier(bootstrap=True, class_weight=None, criterion='gini',\n",
       "            max_depth=None, max_features='auto', max_leaf_nodes=None,\n",
       "            min_impurity_decrease=0.0, min_impurity_split=None,\n",
       "            min_samples_leaf=1, min_samples_split=2,\n",
       "            min_weight_fraction_leaf=0.0, n_estimators=100, n_jobs=None,\n",
       "            oob_score=False, random_state=None, verbose=0,\n",
       "            warm_start=False),\n",
       "       fit_params=None, iid='warn', n_jobs=-1,\n",
       "       param_grid={'max_depth': [20, 22, 24, 26]}, pre_dispatch='2*n_jobs',\n",
       "       refit=True, return_train_score='warn', scoring='roc_auc', verbose=0)"
      ]
     },
     "execution_count": 45,
     "metadata": {},
     "output_type": "execute_result"
    }
   ],
   "source": [
    "%time grid.fit(final_counts_train,y_train)"
   ]
  },
  {
   "cell_type": "code",
   "execution_count": 46,
   "metadata": {},
   "outputs": [
    {
     "data": {
      "image/png": "[encoded data removed]",
      "text/plain": [
       "<Figure size 432x288 with 1 Axes>"
      ]
     },
     "metadata": {},
     "output_type": "display_data"
    }
   ],
   "source": [
    "cv_scores=grid.cv_results_ ['mean_test_score']\n",
    "train_scores=grid.cv_results_ ['mean_train_score']\n",
    "lines = plt.plot(param_grid[\"max_depth\"],cv_scores, param_grid[\"max_depth\"],train_scores )\n",
    "plt.setp(lines[0], color='r', linewidth=2.0, label=\"cv score\")\n",
    "plt.setp(lines[1], color='g', linewidth=2.0,label=\"train score\")\n",
    "plt.legend()\n",
    "plt.show()"
   ]
  },
  {
   "cell_type": "code",
   "execution_count": 47,
   "metadata": {},
   "outputs": [
    {
     "name": "stdout",
     "output_type": "stream",
     "text": [
      "mean test scores [0.90723574 0.90807042 0.9072536  0.9078436  0.9071161 ]\n",
      "mean train scores [0.98412878 0.98602445 0.98408939 0.9859219  0.98417826]\n"
     ]
    }
   ],
   "source": [
    "from scipy.stats import randint as sp_randint\n",
    "from scipy.stats import uniform\n",
    "from sklearn.model_selection import RandomizedSearchCV\n",
    "param_dist = {\"n_estimators\":sp_randint(90,120),\n",
    "              \"max_depth\": sp_randint(24,30)}\n",
    "\n",
    "clf = RandomForestClassifier(random_state=25,n_jobs=-1)\n",
    "\n",
    "rf_random = RandomizedSearchCV(clf, param_distributions=param_dist,\n",
    "                                   n_iter=5,cv=10,scoring='roc_auc',random_state=25)\n",
    "\n",
    "rf_random.fit(final_counts_train,y_train)\n",
    "print('mean test scores',rf_random.cv_results_['mean_test_score'])\n",
    "print('mean train scores',rf_random.cv_results_['mean_train_score'])"
   ]
  },
  {
   "cell_type": "code",
   "execution_count": 48,
   "metadata": {},
   "outputs": [
    {
     "data": {
      "text/plain": [
       "{'max_depth': 29, 'n_estimators': 112}"
      ]
     },
     "execution_count": 48,
     "metadata": {},
     "output_type": "execute_result"
    }
   ],
   "source": [
    "rf_random.best_params_ "
   ]
  },
  {
   "cell_type": "code",
   "execution_count": 49,
   "metadata": {
    "colab": {},
    "colab_type": "code",
    "id": "gj7p4L2pVAHw"
   },
   "outputs": [
    {
     "name": "stdout",
     "output_type": "stream",
     "text": [
      "Accuracy for max_depth: 29 ,n_estimators: 112\n",
      "86.13041661919411\n",
      "[[  978  3583]\n",
      " [   69 21701]]\n"
     ]
    },
    {
     "data": {
      "image/png": "[encoded data removed]",
      "text/plain": [
       "<Figure size 432x288 with 2 Axes>"
      ]
     },
     "metadata": {},
     "output_type": "display_data"
    }
   ],
   "source": [
    "from sklearn.metrics import accuracy_score\n",
    "optimal_param=rf_random.best_params_ \n",
    "pre=rf_random.predict(final_counts_test)\n",
    "acc = accuracy_score(y_test, pre) * 100\n",
    "print(\"Accuracy for max_depth:\",optimal_param['max_depth'],',n_estimators:',optimal_param['n_estimators'])\n",
    "print(acc)\n",
    "import sklearn.metrics\n",
    "import seaborn\n",
    "conf_matr=confusion_matrix(y_test,pre)\n",
    "seaborn.heatmap(conf_matr,annot=True,fmt='g')\n",
    "print(conf_matr)"
   ]
  },
  {
   "cell_type": "code",
   "execution_count": 50,
   "metadata": {},
   "outputs": [
    {
     "name": "stdout",
     "output_type": "stream",
     "text": [
      "Accuracy for max_depth: 29 ,n_estimators: 112\n",
      "92.14543797402428\n",
      "[[ 4808  4812]\n",
      " [   14 51808]]\n"
     ]
    },
    {
     "data": {
      "image/png": "[encoded data removed]",
      "text/plain": [
       "<Figure size 432x288 with 2 Axes>"
      ]
     },
     "metadata": {},
     "output_type": "display_data"
    }
   ],
   "source": [
    "from sklearn.metrics import accuracy_score\n",
    "optimal_param=rf_random.best_params_ \n",
    "pre=rf_random.predict(final_counts_train)\n",
    "acc = accuracy_score(y_train, pre) * 100\n",
    "print(\"Accuracy for max_depth:\",optimal_param['max_depth'],',n_estimators:',optimal_param['n_estimators'])\n",
    "print(acc)\n",
    "import sklearn.metrics\n",
    "import seaborn\n",
    "conf_matr=confusion_matrix(y_train,pre)\n",
    "seaborn.heatmap(conf_matr,annot=True,fmt='g')\n",
    "print(conf_matr)"
   ]
  },
  {
   "cell_type": "code",
   "execution_count": 51,
   "metadata": {},
   "outputs": [
    {
     "data": {
      "image/png": "[encoded data removed]",
      "text/plain": [
       "<Figure size 432x288 with 1 Axes>"
      ]
     },
     "metadata": {},
     "output_type": "display_data"
    }
   ],
   "source": [
    "from sklearn.calibration import CalibratedClassifierCV\n",
    "caliberated=CalibratedClassifierCV(rf_random.best_estimator_, method='sigmoid', cv=5)\n",
    "caliberated.fit(final_counts_train,y_train)\n",
    "train_calb_probs=caliberated.predict_proba(final_counts_train)\n",
    "calb_probs=caliberated.predict_proba(final_counts_test)\n",
    "from sklearn.metrics import roc_curve,roc_auc_score\n",
    "fpr_train, tpr_train, _ = roc_curve(y_train,train_calb_probs[:,1])\n",
    "fpr_test, tpr_test, _ = roc_curve(y_test,calb_probs[:,1])\n",
    "roc_auc_train =roc_auc_score(y_train,train_calb_probs[:,1])\n",
    "roc_auc_test = roc_auc_score(y_test,calb_probs[:,1])\n",
    "plt.figure()\n",
    "plt.plot(fpr_test, tpr_test, color='darkorange', label='ROC curve for test data(area = %0.2f)' % roc_auc_test)\n",
    "plt.plot(fpr_train, tpr_train, color='red', label='ROC curve for train data (area = %0.2f)' % roc_auc_train)\n",
    "plt.plot([0, 1], [0, 1], color='navy', linestyle='--')\n",
    "plt.xlim([0.0, 1.0])\n",
    "plt.ylim([0.0, 1.05])\n",
    "plt.xlabel('False Positive Rate')\n",
    "plt.ylabel('True Positive Rate')\n",
    "plt.title('Receiver operating characteristic')\n",
    "plt.legend(loc=\"lower right\")\n",
    "plt.show()"
   ]
  },
  {
   "cell_type": "markdown",
   "metadata": {
    "colab_type": "text",
    "id": "w3Fqcu7_VAIr"
   },
   "source": [
    "### [5.1.2] Wordcloud of top 20 important features from<font color='red'> SET 1</font>"
   ]
  },
  {
   "cell_type": "code",
   "execution_count": 52,
   "metadata": {
    "colab": {},
    "colab_type": "code",
    "id": "AOtbEEw_VAIv",
    "outputId": "1d044527-7c7c-4a52-e136-733f14177d79"
   },
   "outputs": [
    {
     "name": "stdout",
     "output_type": "stream",
     "text": [
      "['not' 'great' 'disappointed' 'bad' 'best' 'horrible' 'waste' 'love'\n",
      " 'delicious' 'money' 'good' 'would' 'thought' 'excellent' 'perfect'\n",
      " 'loves' 'away' 'taste' 'received' 'unfortunately']\n"
     ]
    }
   ],
   "source": [
    "print(np.take(count_vect.get_feature_names(),np.argsort(-rf_random.best_estimator_.feature_importances_)[:20]))"
   ]
  },
  {
   "cell_type": "markdown",
   "metadata": {
    "colab_type": "text",
    "id": "UiBUYniMVAIy"
   },
   "source": [
    "### [5.1.3] Applying Random Forests on TFIDF,<font color='red'> SET 2</font>"
   ]
  },
  {
   "cell_type": "code",
   "execution_count": 53,
   "metadata": {
    "colab": {},
    "colab_type": "code",
    "id": "g3qvkJDZVAIz",
    "outputId": "1bd34c14-fd55-4690-9b8f-f594b46e4c54"
   },
   "outputs": [
    {
     "name": "stdout",
     "output_type": "stream",
     "text": [
      "CPU times: user 23.9 s, sys: 76 ms, total: 24 s\n",
      "Wall time: 1min 52s\n"
     ]
    },
    {
     "data": {
      "text/plain": [
       "GridSearchCV(cv=TimeSeriesSplit(max_train_size=None, n_splits=10),\n",
       "       error_score='raise-deprecating',\n",
       "       estimator=RandomForestClassifier(bootstrap=True, class_weight=None, criterion='gini',\n",
       "            max_depth=5, max_features='auto', max_leaf_nodes=None,\n",
       "            min_impurity_decrease=0.0, min_impurity_split=None,\n",
       "            min_samples_leaf=1, min_samples_split=2,\n",
       "            min_weight_fraction_leaf=0.0, n_estimators='warn', n_jobs=None,\n",
       "            oob_score=False, random_state=None, verbose=0,\n",
       "            warm_start=False),\n",
       "       fit_params=None, iid='warn', n_jobs=-1,\n",
       "       param_grid={'n_estimators': [5, 10, 50, 100, 250, 500]},\n",
       "       pre_dispatch='2*n_jobs', refit=True, return_train_score='warn',\n",
       "       scoring='roc_auc', verbose=0)"
      ]
     },
     "execution_count": 53,
     "metadata": {},
     "output_type": "execute_result"
    }
   ],
   "source": [
    "param_grid= {'n_estimators': [5,10,50,100,250,500]}\n",
    "grid=GridSearchCV(RandomForestClassifier(max_depth=5), param_grid, cv=my_cv, scoring=\"roc_auc\",n_jobs=-1)\n",
    "%time grid.fit(final_tfidf_train,y_train)"
   ]
  },
  {
   "cell_type": "code",
   "execution_count": 54,
   "metadata": {
    "colab": {},
    "colab_type": "code",
    "id": "hBKlE9lkXZ7e",
    "outputId": "fa364ba2-eff9-4c64-db44-7104a207e291"
   },
   "outputs": [
    {
     "data": {
      "image/png": "[encoded data removed]",
      "text/plain": [
       "<Figure size 432x288 with 1 Axes>"
      ]
     },
     "metadata": {},
     "output_type": "display_data"
    }
   ],
   "source": [
    "cv_scores=grid.cv_results_ ['mean_test_score']\n",
    "train_scores=grid.cv_results_ ['mean_train_score']\n",
    "lines = plt.plot(param_grid[\"n_estimators\"],cv_scores, param_grid[\"n_estimators\"],train_scores )\n",
    "plt.setp(lines[0], color='r', linewidth=2.0, label=\"cv score\")\n",
    "plt.setp(lines[1], color='g', linewidth=2.0,label=\"train score\")\n",
    "plt.legend()\n",
    "plt.show()"
   ]
  },
  {
   "cell_type": "code",
   "execution_count": 55,
   "metadata": {
    "colab": {},
    "colab_type": "code",
    "id": "ancOakB1Xu0K"
   },
   "outputs": [],
   "source": [
    "#e=grid.best_params_['n_estimators']\n",
    "param_grid= {\"max_depth\":[5,10,15,25,30,35,40]}\n",
    "grid=GridSearchCV(RandomForestClassifier(n_estimators=120), param_grid, cv=my_cv, scoring=\"roc_auc\",n_jobs=-1)"
   ]
  },
  {
   "cell_type": "code",
   "execution_count": 56,
   "metadata": {
    "colab": {},
    "colab_type": "code",
    "id": "hAEmP_IBX0MT",
    "outputId": "7475ca7d-0ba6-40a0-fa41-219668dd53a8"
   },
   "outputs": [
    {
     "name": "stdout",
     "output_type": "stream",
     "text": [
      "CPU times: user 1min 27s, sys: 132 ms, total: 1min 28s\n",
      "Wall time: 9min 10s\n"
     ]
    },
    {
     "data": {
      "text/plain": [
       "GridSearchCV(cv=TimeSeriesSplit(max_train_size=None, n_splits=10),\n",
       "       error_score='raise-deprecating',\n",
       "       estimator=RandomForestClassifier(bootstrap=True, class_weight=None, criterion='gini',\n",
       "            max_depth=None, max_features='auto', max_leaf_nodes=None,\n",
       "            min_impurity_decrease=0.0, min_impurity_split=None,\n",
       "            min_samples_leaf=1, min_samples_split=2,\n",
       "            min_weight_fraction_leaf=0.0, n_estimators=120, n_jobs=None,\n",
       "            oob_score=False, random_state=None, verbose=0,\n",
       "            warm_start=False),\n",
       "       fit_params=None, iid='warn', n_jobs=-1,\n",
       "       param_grid={'max_depth': [5, 10, 15, 25, 30, 35, 40]},\n",
       "       pre_dispatch='2*n_jobs', refit=True, return_train_score='warn',\n",
       "       scoring='roc_auc', verbose=0)"
      ]
     },
     "execution_count": 56,
     "metadata": {},
     "output_type": "execute_result"
    }
   ],
   "source": [
    "%time grid.fit(final_tfidf_train,y_train)"
   ]
  },
  {
   "cell_type": "code",
   "execution_count": 57,
   "metadata": {
    "colab": {},
    "colab_type": "code",
    "id": "o9Y-H7H5X7IJ",
    "outputId": "a5d08ec0-a46d-43e5-e120-cbe3ecd6f1aa"
   },
   "outputs": [
    {
     "data": {
      "image/png": "[encoded data removed]",
      "text/plain": [
       "<Figure size 432x288 with 1 Axes>"
      ]
     },
     "metadata": {},
     "output_type": "display_data"
    }
   ],
   "source": [
    "cv_scores=grid.cv_results_ ['mean_test_score']\n",
    "train_scores=grid.cv_results_ ['mean_train_score']\n",
    "lines = plt.plot(param_grid[\"max_depth\"],cv_scores, param_grid[\"max_depth\"],train_scores )\n",
    "plt.setp(lines[0], color='r', linewidth=2.0, label=\"cv score\")\n",
    "plt.setp(lines[1], color='g', linewidth=2.0,label=\"train score\")\n",
    "plt.legend()\n",
    "plt.show()"
   ]
  },
  {
   "cell_type": "code",
   "execution_count": 58,
   "metadata": {},
   "outputs": [
    {
     "name": "stdout",
     "output_type": "stream",
     "text": [
      "CPU times: user 4min 36s, sys: 6.62 s, total: 4min 43s\n",
      "Wall time: 20min 42s\n",
      "mean test scores [0.91380247 0.91657753 0.91518992 0.91485064 0.91612434 0.91316236\n",
      " 0.91099549]\n",
      "mean train scores [0.99152541 0.99743455 0.99699298 0.99699364 0.99578166 0.99135412\n",
      " 0.98713421]\n"
     ]
    }
   ],
   "source": [
    "param_dist = {\"n_estimators\":sp_randint(80,115),\n",
    "              \"max_depth\": sp_randint(25,40)}\n",
    "\n",
    "clf = RandomForestClassifier(random_state=25,n_jobs=-1)\n",
    "\n",
    "rf_random = RandomizedSearchCV(clf, param_distributions=param_dist,\n",
    "                                   n_iter=7,cv=10,scoring='roc_auc',random_state=25)\n",
    "\n",
    "%time rf_random.fit(final_tfidf_train,y_train)\n",
    "print('mean test scores',rf_random.cv_results_['mean_test_score'])\n",
    "print('mean train scores',rf_random.cv_results_['mean_train_score'])"
   ]
  },
  {
   "cell_type": "code",
   "execution_count": 59,
   "metadata": {},
   "outputs": [
    {
     "name": "stdout",
     "output_type": "stream",
     "text": [
      "Accuracy for max_depth: 38 ,n_estimators: 103\n",
      "87.47863734761307\n",
      "[[ 1387  3174]\n",
      " [  123 21647]]\n"
     ]
    },
    {
     "data": {
      "image/png": "[encoded data removed]",
      "text/plain": [
       "<Figure size 432x288 with 2 Axes>"
      ]
     },
     "metadata": {},
     "output_type": "display_data"
    }
   ],
   "source": [
    "from sklearn.metrics import accuracy_score\n",
    "optimal_param=rf_random.best_params_ \n",
    "pre=rf_random.predict(final_tfidf_test)\n",
    "acc = accuracy_score(y_test, pre) * 100\n",
    "print(\"Accuracy for max_depth:\",optimal_param['max_depth'],',n_estimators:',optimal_param['n_estimators'])\n",
    "print(acc)\n",
    "import sklearn.metrics\n",
    "import seaborn\n",
    "conf_matr=confusion_matrix(y_test,pre)\n",
    "seaborn.heatmap(conf_matr,annot=True,fmt='g')\n",
    "print(conf_matr)"
   ]
  },
  {
   "cell_type": "code",
   "execution_count": 60,
   "metadata": {
    "colab": {},
    "colab_type": "code",
    "id": "hfco3J0dVAI-",
    "outputId": "094ee744-ea3c-4060-bd1e-cd907294457f"
   },
   "outputs": [
    {
     "name": "stdout",
     "output_type": "stream",
     "text": [
      "Accuracy for max_depth: 38 ,n_estimators: 103\n",
      "94.95133621952411\n",
      "[[ 6527  3093]\n",
      " [    9 51813]]\n"
     ]
    },
    {
     "data": {
      "image/png": "[encoded data removed]",
      "text/plain": [
       "<Figure size 432x288 with 2 Axes>"
      ]
     },
     "metadata": {},
     "output_type": "display_data"
    }
   ],
   "source": [
    "from sklearn.metrics import accuracy_score\n",
    "optimal_param=rf_random.best_params_ \n",
    "pre=rf_random.predict(final_tfidf_train)\n",
    "acc = accuracy_score(y_train, pre) * 100\n",
    "print(\"Accuracy for max_depth:\",optimal_param['max_depth'],',n_estimators:',optimal_param['n_estimators'])\n",
    "print(acc)\n",
    "import sklearn.metrics\n",
    "import seaborn\n",
    "conf_matr=confusion_matrix(y_train,pre)\n",
    "seaborn.heatmap(conf_matr,annot=True,fmt='g')\n",
    "print(conf_matr)"
   ]
  },
  {
   "cell_type": "code",
   "execution_count": 61,
   "metadata": {
    "colab": {},
    "colab_type": "code",
    "id": "0StzZyrKVAJP",
    "outputId": "bc8cc8a8-98cc-4dbd-d6b0-784c61b4c12d"
   },
   "outputs": [
    {
     "data": {
      "image/png": "[encoded data removed]",
      "text/plain": [
       "<Figure size 432x288 with 1 Axes>"
      ]
     },
     "metadata": {},
     "output_type": "display_data"
    }
   ],
   "source": [
    "from sklearn.calibration import CalibratedClassifierCV\n",
    "caliberated=CalibratedClassifierCV(rf_random.best_estimator_, method='sigmoid', cv=5)\n",
    "caliberated.fit(final_tfidf_train,y_train)\n",
    "train_calb_probs=caliberated.predict_proba(final_tfidf_train)\n",
    "calb_probs=caliberated.predict_proba(final_tfidf_test)\n",
    "from sklearn.metrics import roc_curve,roc_auc_score\n",
    "fpr_train, tpr_train, _ = roc_curve(y_train,train_calb_probs[:,1])\n",
    "fpr_test, tpr_test, _ = roc_curve(y_test,calb_probs[:,1])\n",
    "roc_auc_train =roc_auc_score(y_train,train_calb_probs[:,1])\n",
    "roc_auc_test = roc_auc_score(y_test,calb_probs[:,1])\n",
    "plt.figure()\n",
    "plt.plot(fpr_test, tpr_test, color='darkorange', label='ROC curve for test data(area = %0.2f)' % roc_auc_test)\n",
    "plt.plot(fpr_train, tpr_train, color='red', label='ROC curve for train data (area = %0.2f)' % roc_auc_train)\n",
    "plt.plot([0, 1], [0, 1], color='navy', linestyle='--')\n",
    "plt.xlim([0.0, 1.0])\n",
    "plt.ylim([0.0, 1.05])\n",
    "plt.xlabel('False Positive Rate')\n",
    "plt.ylabel('True Positive Rate')\n",
    "plt.title('Receiver operating characteristic')\n",
    "plt.legend(loc=\"lower right\")\n",
    "plt.show()"
   ]
  },
  {
   "cell_type": "markdown",
   "metadata": {
    "colab_type": "text",
    "id": "PF62LJMVVAJS"
   },
   "source": [
    "### [5.1.4] Wordcloud of top 20 important features from<font color='red'> SET 2</font>"
   ]
  },
  {
   "cell_type": "code",
   "execution_count": 62,
   "metadata": {
    "colab": {},
    "colab_type": "code",
    "id": "CjVJjj2eVAJT",
    "outputId": "fc66b60a-3c64-43cb-9b66-4500df975911"
   },
   "outputs": [
    {
     "name": "stdout",
     "output_type": "stream",
     "text": [
      "['not' 'great' 'disappointed' 'bad' 'horrible' 'best' 'good' 'money'\n",
      " 'love' 'waste' 'delicious' 'would' 'taste' 'thought' 'away' 'received'\n",
      " 'product' 'like' 'perfect' 'excellent']\n"
     ]
    }
   ],
   "source": [
    "# Please write all the code with proper documentation\n",
    "# Please write all the code with proper documentation\n",
    "print(np.take(tf_idf_vect.get_feature_names(),np.argsort(-rf_random.best_estimator_.feature_importances_)[:20]))"
   ]
  },
  {
   "cell_type": "markdown",
   "metadata": {
    "colab_type": "text",
    "id": "YG9pusSbVAJY"
   },
   "source": [
    "### [5.1.5] Applying Random Forests on AVG W2V,<font color='red'> SET 3</font>"
   ]
  },
  {
   "cell_type": "code",
   "execution_count": 63,
   "metadata": {
    "colab": {},
    "colab_type": "code",
    "id": "YWAXVLYfVAJc",
    "outputId": "14e151fc-db88-4d1e-c5ae-4bf3f39e37b3"
   },
   "outputs": [
    {
     "name": "stdout",
     "output_type": "stream",
     "text": [
      "CPU times: user 9min 55s, sys: 4.81 s, total: 10min\n",
      "Wall time: 30min 50s\n"
     ]
    },
    {
     "data": {
      "text/plain": [
       "GridSearchCV(cv=TimeSeriesSplit(max_train_size=None, n_splits=10),\n",
       "       error_score='raise-deprecating',\n",
       "       estimator=RandomForestClassifier(bootstrap=True, class_weight=None, criterion='gini',\n",
       "            max_depth=None, max_features='auto', max_leaf_nodes=None,\n",
       "            min_impurity_decrease=0.0, min_impurity_split=None,\n",
       "            min_samples_leaf=1, min_samples_split=2,\n",
       "            min_weight_fraction_leaf=0.0, n_estimators='warn', n_jobs=None,\n",
       "            oob_score=False, random_state=None, verbose=0,\n",
       "            warm_start=False),\n",
       "       fit_params=None, iid='warn', n_jobs=-1,\n",
       "       param_grid={'n_estimators': [5, 10, 50, 100, 250, 500]},\n",
       "       pre_dispatch='2*n_jobs', refit=True, return_train_score='warn',\n",
       "       scoring='roc_auc', verbose=0)"
      ]
     },
     "execution_count": 63,
     "metadata": {},
     "output_type": "execute_result"
    }
   ],
   "source": [
    "param_grid= {'n_estimators': [5,10,50,100,250,500]}\n",
    "grid=GridSearchCV(RandomForestClassifier(), param_grid, cv=my_cv, scoring=\"roc_auc\",n_jobs=-1)\n",
    "%time grid.fit(sent_vectors_train,y_train)"
   ]
  },
  {
   "cell_type": "code",
   "execution_count": 64,
   "metadata": {
    "colab": {},
    "colab_type": "code",
    "id": "0gvxzVeTYbhb",
    "outputId": "2ffc4b32-d054-4eb3-decc-405d020e1089"
   },
   "outputs": [
    {
     "data": {
      "image/png": "[encoded data removed]",
      "text/plain": [
       "<Figure size 432x288 with 1 Axes>"
      ]
     },
     "metadata": {},
     "output_type": "display_data"
    }
   ],
   "source": [
    "cv_scores=grid.cv_results_ ['mean_test_score']\n",
    "train_scores=grid.cv_results_ ['mean_train_score']\n",
    "lines = plt.plot(param_grid[\"n_estimators\"],cv_scores, param_grid[\"n_estimators\"],train_scores )\n",
    "plt.setp(lines[0], color='r', linewidth=2.0, label=\"cv score\")\n",
    "plt.setp(lines[1], color='g', linewidth=2.0,label=\"train score\")\n",
    "plt.xscale(\"log\")\n",
    "plt.legend()\n",
    "plt.show()"
   ]
  },
  {
   "cell_type": "code",
   "execution_count": 65,
   "metadata": {
    "colab": {},
    "colab_type": "code",
    "id": "eG6xgfk7Yjoo"
   },
   "outputs": [],
   "source": [
    "param_grid= {\"max_depth\":[5,10,15,25,30,35,40]}\n",
    "grid=GridSearchCV(RandomForestClassifier(n_estimators=100), param_grid, cv=my_cv, scoring=\"roc_auc\",n_jobs=-1)"
   ]
  },
  {
   "cell_type": "code",
   "execution_count": 66,
   "metadata": {
    "colab": {},
    "colab_type": "code",
    "id": "oGVrY-NjYn6c",
    "outputId": "42f817a0-cf2c-43cd-8784-0272cef0645e"
   },
   "outputs": [
    {
     "name": "stdout",
     "output_type": "stream",
     "text": [
      "CPU times: user 4min 41s, sys: 4.48 s, total: 4min 45s\n",
      "Wall time: 15min 55s\n"
     ]
    },
    {
     "data": {
      "text/plain": [
       "GridSearchCV(cv=TimeSeriesSplit(max_train_size=None, n_splits=10),\n",
       "       error_score='raise-deprecating',\n",
       "       estimator=RandomForestClassifier(bootstrap=True, class_weight=None, criterion='gini',\n",
       "            max_depth=None, max_features='auto', max_leaf_nodes=None,\n",
       "            min_impurity_decrease=0.0, min_impurity_split=None,\n",
       "            min_samples_leaf=1, min_samples_split=2,\n",
       "            min_weight_fraction_leaf=0.0, n_estimators=100, n_jobs=None,\n",
       "            oob_score=False, random_state=None, verbose=0,\n",
       "            warm_start=False),\n",
       "       fit_params=None, iid='warn', n_jobs=-1,\n",
       "       param_grid={'max_depth': [5, 10, 15, 25, 30, 35, 40]},\n",
       "       pre_dispatch='2*n_jobs', refit=True, return_train_score='warn',\n",
       "       scoring='roc_auc', verbose=0)"
      ]
     },
     "execution_count": 66,
     "metadata": {},
     "output_type": "execute_result"
    }
   ],
   "source": [
    "%time grid.fit(sent_vectors_train,y_train)"
   ]
  },
  {
   "cell_type": "code",
   "execution_count": 67,
   "metadata": {
    "colab": {},
    "colab_type": "code",
    "id": "oyOz6BvkYxDU",
    "outputId": "5c191c6b-0fb1-43fd-d5c7-c887dfbb75c4"
   },
   "outputs": [
    {
     "data": {
      "image/png": "[encoded data removed]",
      "text/plain": [
       "<Figure size 432x288 with 1 Axes>"
      ]
     },
     "metadata": {},
     "output_type": "display_data"
    }
   ],
   "source": [
    "cv_scores=grid.cv_results_ ['mean_test_score']\n",
    "train_scores=grid.cv_results_ ['mean_train_score']\n",
    "lines = plt.plot(param_grid[\"max_depth\"],cv_scores, param_grid[\"max_depth\"],train_scores )\n",
    "plt.setp(lines[0], color='r', linewidth=2.0, label=\"cv score\")\n",
    "plt.setp(lines[1], color='g', linewidth=2.0,label=\"train score\")\n",
    "plt.xscale(\"log\")\n",
    "plt.legend()\n",
    "plt.show()"
   ]
  },
  {
   "cell_type": "code",
   "execution_count": 68,
   "metadata": {},
   "outputs": [
    {
     "name": "stdout",
     "output_type": "stream",
     "text": [
      "CPU times: user 4min 7s, sys: 7.27 s, total: 4min 15s\n",
      "Wall time: 29min 35s\n",
      "mean test scores [0.92570217 0.92536255 0.9249318  0.9264489  0.92418721 0.92476973\n",
      " 0.92428245]\n",
      "mean train scores [0.99934561 1.         0.99999034 0.99489705 1.         0.99999984\n",
      " 0.99979355]\n"
     ]
    }
   ],
   "source": [
    "param_dist = {\"n_estimators\":sp_randint(90,115),\n",
    "              \"max_depth\": sp_randint(10,25)}\n",
    "\n",
    "clf = RandomForestClassifier(random_state=25,n_jobs=-1)\n",
    "\n",
    "rf_random = RandomizedSearchCV(clf, param_distributions=param_dist,\n",
    "                                   n_iter=7,cv=10,scoring='roc_auc',random_state=25)\n",
    "\n",
    "%time rf_random.fit(sent_vectors_train,y_train)\n",
    "print('mean test scores',rf_random.cv_results_['mean_test_score'])\n",
    "print('mean train scores',rf_random.cv_results_['mean_train_score'])"
   ]
  },
  {
   "cell_type": "code",
   "execution_count": 69,
   "metadata": {
    "colab": {},
    "colab_type": "code",
    "id": "0QvdV0S0VAJg",
    "outputId": "39f406ef-8413-49fa-ee46-669067006ad3"
   },
   "outputs": [
    {
     "name": "stdout",
     "output_type": "stream",
     "text": [
      "Accuracy for depth: 12 ,n_estimators: 98\n",
      "88.65975466180548\n",
      "[[ 1885  2676]\n",
      " [  310 21460]]\n"
     ]
    },
    {
     "data": {
      "image/png": "[encoded data removed]",
      "text/plain": [
       "<Figure size 432x288 with 2 Axes>"
      ]
     },
     "metadata": {},
     "output_type": "display_data"
    }
   ],
   "source": [
    "from sklearn.metrics import accuracy_score\n",
    "optimal_param=rf_random.best_params_ \n",
    "pre=rf_random.predict(sent_vectors_test)\n",
    "acc = accuracy_score(y_test, pre) * 100\n",
    "print(\"Accuracy for depth:\",optimal_param['max_depth'],',n_estimators:',optimal_param['n_estimators'])\n",
    "print(acc)\n",
    "import sklearn.metrics\n",
    "import seaborn\n",
    "conf_matr=confusion_matrix(y_test,pre)\n",
    "seaborn.heatmap(conf_matr,annot=True,fmt='g')\n",
    "print(conf_matr)"
   ]
  },
  {
   "cell_type": "code",
   "execution_count": 70,
   "metadata": {
    "colab": {},
    "colab_type": "code",
    "id": "36SS17rZY3za",
    "outputId": "a43a9e69-3ab1-47fd-ec61-eb96656c3476"
   },
   "outputs": [
    {
     "name": "stdout",
     "output_type": "stream",
     "text": [
      "Accuracy for depth: 12 ,n_estimators: 98\n",
      "95.58770873343967\n",
      "[[ 7024  2596]\n",
      " [  115 51707]]\n"
     ]
    },
    {
     "data": {
      "image/png": "[encoded data removed]",
      "text/plain": [
       "<Figure size 432x288 with 2 Axes>"
      ]
     },
     "metadata": {},
     "output_type": "display_data"
    }
   ],
   "source": [
    "from sklearn.metrics import accuracy_score\n",
    "optimal_param=rf_random.best_params_ \n",
    "pre=rf_random.predict(sent_vectors_train)\n",
    "acc = accuracy_score(y_train, pre) * 100\n",
    "print(\"Accuracy for depth:\",optimal_param['max_depth'],',n_estimators:',optimal_param['n_estimators'])\n",
    "print(acc)\n",
    "import sklearn.metrics\n",
    "import seaborn\n",
    "conf_matr=confusion_matrix(y_train,pre)\n",
    "seaborn.heatmap(conf_matr,annot=True,fmt='g')\n",
    "print(conf_matr)"
   ]
  },
  {
   "cell_type": "code",
   "execution_count": 71,
   "metadata": {
    "colab": {},
    "colab_type": "code",
    "id": "Api9yHj-VAJu",
    "outputId": "43912061-ffb6-472c-8427-15ce4391e8d8"
   },
   "outputs": [
    {
     "data": {
      "image/png": "[encoded data removed]",
      "text/plain": [
       "<Figure size 432x288 with 1 Axes>"
      ]
     },
     "metadata": {},
     "output_type": "display_data"
    }
   ],
   "source": [
    "from sklearn.calibration import CalibratedClassifierCV\n",
    "caliberated=CalibratedClassifierCV(rf_random.best_estimator_, method='sigmoid', cv=5)\n",
    "caliberated.fit(sent_vectors_train,y_train)\n",
    "train_calb_probs=caliberated.predict_proba(sent_vectors_train)\n",
    "calb_probs=caliberated.predict_proba(sent_vectors_test)\n",
    "from sklearn.metrics import roc_curve,roc_auc_score\n",
    "fpr_train, tpr_train, _ = roc_curve(y_train,train_calb_probs[:,1])\n",
    "fpr_test, tpr_test, _ = roc_curve(y_test,calb_probs[:,1])\n",
    "roc_auc_train =roc_auc_score(y_train,train_calb_probs[:,1])\n",
    "roc_auc_test = roc_auc_score(y_test,calb_probs[:,1])\n",
    "plt.figure()\n",
    "plt.plot(fpr_test, tpr_test, color='darkorange', label='ROC curve for test data(area = %0.2f)' % roc_auc_test)\n",
    "plt.plot(fpr_train, tpr_train, color='red', label='ROC curve for train data (area = %0.2f)' % roc_auc_train)\n",
    "plt.plot([0, 1], [0, 1], color='navy', linestyle='--')\n",
    "plt.xlim([0.0, 1.0])\n",
    "plt.ylim([0.0, 1.05])\n",
    "plt.xlabel('False Positive Rate')\n",
    "plt.ylabel('True Positive Rate')\n",
    "plt.title('Receiver operating characteristic')\n",
    "plt.legend(loc=\"lower right\")\n",
    "plt.show()"
   ]
  },
  {
   "cell_type": "markdown",
   "metadata": {
    "colab_type": "text",
    "id": "jYe6I6ibVAJx"
   },
   "source": [
    "### [5.1.6] Applying Random Forests on TFIDF W2V,<font color='red'> SET 4</font>"
   ]
  },
  {
   "cell_type": "code",
   "execution_count": 72,
   "metadata": {
    "colab": {},
    "colab_type": "code",
    "id": "tzilSY-VVAJy",
    "outputId": "4332941f-da21-4989-c990-592e0f660de8"
   },
   "outputs": [
    {
     "name": "stdout",
     "output_type": "stream",
     "text": [
      "CPU times: user 5min 53s, sys: 3.64 s, total: 5min 57s\n",
      "Wall time: 13min 59s\n"
     ]
    },
    {
     "data": {
      "text/plain": [
       "GridSearchCV(cv=TimeSeriesSplit(max_train_size=None, n_splits=10),\n",
       "       error_score='raise-deprecating',\n",
       "       estimator=RandomForestClassifier(bootstrap=True, class_weight=None, criterion='gini',\n",
       "            max_depth=5, max_features='auto', max_leaf_nodes=None,\n",
       "            min_impurity_decrease=0.0, min_impurity_split=None,\n",
       "            min_samples_leaf=1, min_samples_split=2,\n",
       "            min_weight_fraction_leaf=0.0, n_estimators='warn', n_jobs=None,\n",
       "            oob_score=False, random_state=None, verbose=0,\n",
       "            warm_start=False),\n",
       "       fit_params=None, iid='warn', n_jobs=-1,\n",
       "       param_grid={'n_estimators': [5, 10, 50, 100, 250, 500]},\n",
       "       pre_dispatch='2*n_jobs', refit=True, return_train_score='warn',\n",
       "       scoring='roc_auc', verbose=0)"
      ]
     },
     "execution_count": 72,
     "metadata": {},
     "output_type": "execute_result"
    }
   ],
   "source": [
    "# Please write all the code with proper documentation\n",
    "param_grid= {'n_estimators': [5,10,50,100,250,500]}\n",
    "grid=GridSearchCV(RandomForestClassifier(max_depth=5), param_grid, cv=my_cv, scoring=\"roc_auc\",n_jobs=-1)\n",
    "%time grid.fit(tfidf_sent_vectors_train,y_train)"
   ]
  },
  {
   "cell_type": "code",
   "execution_count": 73,
   "metadata": {},
   "outputs": [
    {
     "data": {
      "image/png": "[encoded data removed]",
      "text/plain": [
       "<Figure size 432x288 with 1 Axes>"
      ]
     },
     "metadata": {},
     "output_type": "display_data"
    }
   ],
   "source": [
    "cv_scores=grid.cv_results_ ['mean_test_score']\n",
    "train_scores=grid.cv_results_ ['mean_train_score']\n",
    "lines = plt.plot(param_grid[\"n_estimators\"],cv_scores, param_grid[\"n_estimators\"],train_scores )\n",
    "plt.setp(lines[0], color='r', linewidth=2.0, label=\"cv score\")\n",
    "plt.setp(lines[1], color='g', linewidth=2.0,label=\"train score\")\n",
    "plt.xscale(\"log\")\n",
    "plt.legend()\n",
    "plt.show()"
   ]
  },
  {
   "cell_type": "code",
   "execution_count": 74,
   "metadata": {},
   "outputs": [],
   "source": [
    "param_grid= {\"max_depth\":[5,10,15,25,30,35,40]}\n",
    "grid=GridSearchCV(RandomForestClassifier(n_estimators=120), param_grid, cv=my_cv, scoring=\"roc_auc\",n_jobs=-1)"
   ]
  },
  {
   "cell_type": "code",
   "execution_count": 75,
   "metadata": {},
   "outputs": [
    {
     "name": "stdout",
     "output_type": "stream",
     "text": [
      "CPU times: user 4min 51s, sys: 4.29 s, total: 4min 55s\n",
      "Wall time: 19min 12s\n"
     ]
    },
    {
     "data": {
      "text/plain": [
       "GridSearchCV(cv=TimeSeriesSplit(max_train_size=None, n_splits=10),\n",
       "       error_score='raise-deprecating',\n",
       "       estimator=RandomForestClassifier(bootstrap=True, class_weight=None, criterion='gini',\n",
       "            max_depth=None, max_features='auto', max_leaf_nodes=None,\n",
       "            min_impurity_decrease=0.0, min_impurity_split=None,\n",
       "            min_samples_leaf=1, min_samples_split=2,\n",
       "            min_weight_fraction_leaf=0.0, n_estimators=120, n_jobs=None,\n",
       "            oob_score=False, random_state=None, verbose=0,\n",
       "            warm_start=False),\n",
       "       fit_params=None, iid='warn', n_jobs=-1,\n",
       "       param_grid={'max_depth': [5, 10, 15, 25, 30, 35, 40]},\n",
       "       pre_dispatch='2*n_jobs', refit=True, return_train_score='warn',\n",
       "       scoring='roc_auc', verbose=0)"
      ]
     },
     "execution_count": 75,
     "metadata": {},
     "output_type": "execute_result"
    }
   ],
   "source": [
    "%time grid.fit(tfidf_sent_vectors_train,y_train)"
   ]
  },
  {
   "cell_type": "code",
   "execution_count": 76,
   "metadata": {},
   "outputs": [
    {
     "data": {
      "image/png": "[encoded data removed]",
      "text/plain": [
       "<Figure size 432x288 with 1 Axes>"
      ]
     },
     "metadata": {},
     "output_type": "display_data"
    }
   ],
   "source": [
    "cv_scores=grid.cv_results_ ['mean_test_score']\n",
    "train_scores=grid.cv_results_ ['mean_train_score']\n",
    "lines = plt.plot(param_grid[\"max_depth\"],cv_scores, param_grid[\"max_depth\"],train_scores )\n",
    "plt.setp(lines[0], color='r', linewidth=2.0, label=\"cv score\")\n",
    "plt.setp(lines[1], color='g', linewidth=2.0,label=\"train score\")\n",
    "plt.xscale(\"log\")\n",
    "plt.legend()\n",
    "plt.show()"
   ]
  },
  {
   "cell_type": "code",
   "execution_count": 77,
   "metadata": {},
   "outputs": [
    {
     "name": "stdout",
     "output_type": "stream",
     "text": [
      "CPU times: user 4min 31s, sys: 8.19 s, total: 4min 40s\n",
      "Wall time: 29min 31s\n",
      "mean test scores [0.90165036 0.90135994 0.89915583 0.90160372 0.90087551 0.89740938\n",
      " 0.90080197]\n",
      "mean train scores [0.99255375 0.99895008 0.97124662 0.99255395 0.99238508 0.95503474\n",
      " 0.98441393]\n"
     ]
    }
   ],
   "source": [
    "param_dist = {\"n_estimators\":sp_randint(100,140),\n",
    "              \"max_depth\": sp_randint(8,20)}\n",
    "\n",
    "clf = RandomForestClassifier(random_state=25,n_jobs=-1)\n",
    "\n",
    "rf_random = RandomizedSearchCV(clf, param_distributions=param_dist,\n",
    "                                   n_iter=7,cv=10,scoring='roc_auc',random_state=25)\n",
    "\n",
    "%time rf_random.fit(tfidf_sent_vectors_train,y_train)\n",
    "print('mean test scores',rf_random.cv_results_['mean_test_score'])\n",
    "print('mean train scores',rf_random.cv_results_['mean_train_score'])"
   ]
  },
  {
   "cell_type": "code",
   "execution_count": 78,
   "metadata": {
    "colab": {},
    "colab_type": "code",
    "id": "2Iu9AD1PVAJ1",
    "outputId": "ee29c8ee-319b-4336-a9e6-b67a95b0aa68"
   },
   "outputs": [
    {
     "name": "stdout",
     "output_type": "stream",
     "text": [
      "Accuracy for depth: 12 ,n_estimators: 126\n",
      "87.26216247009229\n",
      "[[ 1480  3081]\n",
      " [  273 21497]]\n"
     ]
    },
    {
     "data": {
      "image/png": "[encoded data removed]",
      "text/plain": [
       "<Figure size 432x288 with 2 Axes>"
      ]
     },
     "metadata": {},
     "output_type": "display_data"
    }
   ],
   "source": [
    "from sklearn.metrics import accuracy_score\n",
    "optimal_param=rf_random.best_params_ \n",
    "pre=rf_random.predict(tfidf_sent_vectors_test)\n",
    "acc = accuracy_score(y_test, pre) * 100\n",
    "print(\"Accuracy for depth:\",optimal_param['max_depth'],',n_estimators:',optimal_param['n_estimators'])\n",
    "print(acc)\n",
    "import sklearn.metrics\n",
    "import seaborn\n",
    "conf_matr=confusion_matrix(y_test,pre)\n",
    "seaborn.heatmap(conf_matr,annot=True,fmt='g')\n",
    "print(conf_matr)"
   ]
  },
  {
   "cell_type": "code",
   "execution_count": 79,
   "metadata": {
    "colab": {},
    "colab_type": "code",
    "id": "LamQXJBwVAJ-"
   },
   "outputs": [
    {
     "name": "stdout",
     "output_type": "stream",
     "text": [
      "Accuracy for depth: 12 ,n_estimators: 126\n",
      "94.0415351062791\n",
      "[[ 6075  3545]\n",
      " [  116 51706]]\n"
     ]
    },
    {
     "data": {
      "image/png": "[encoded data removed]",
      "text/plain": [
       "<Figure size 432x288 with 2 Axes>"
      ]
     },
     "metadata": {},
     "output_type": "display_data"
    }
   ],
   "source": [
    "from sklearn.metrics import accuracy_score\n",
    "optimal_param=rf_random.best_params_ \n",
    "pre=rf_random.predict(tfidf_sent_vectors_train)\n",
    "acc = accuracy_score(y_train, pre) * 100\n",
    "print(\"Accuracy for depth:\",optimal_param['max_depth'],',n_estimators:',optimal_param['n_estimators'])\n",
    "print(acc)\n",
    "import sklearn.metrics\n",
    "import seaborn\n",
    "conf_matr=confusion_matrix(y_train,pre)\n",
    "seaborn.heatmap(conf_matr,annot=True,fmt='g')\n",
    "print(conf_matr)"
   ]
  },
  {
   "cell_type": "code",
   "execution_count": 80,
   "metadata": {
    "colab": {},
    "colab_type": "code",
    "id": "pkjo8JKSVAKD"
   },
   "outputs": [
    {
     "data": {
      "image/png": "[encoded data removed]",
      "text/plain": [
       "<Figure size 432x288 with 1 Axes>"
      ]
     },
     "metadata": {},
     "output_type": "display_data"
    }
   ],
   "source": [
    "from sklearn.calibration import CalibratedClassifierCV\n",
    "caliberated=CalibratedClassifierCV(rf_random.best_estimator_, method='sigmoid', cv=5)\n",
    "caliberated.fit(tfidf_sent_vectors_train,y_train)\n",
    "train_calb_probs=caliberated.predict_proba(tfidf_sent_vectors_train)\n",
    "calb_probs=caliberated.predict_proba(tfidf_sent_vectors_test)\n",
    "from sklearn.metrics import roc_curve,roc_auc_score\n",
    "fpr_train, tpr_train, _ = roc_curve(y_train,train_calb_probs[:,1])\n",
    "fpr_test, tpr_test, _ = roc_curve(y_test,calb_probs[:,1])\n",
    "roc_auc_train =roc_auc_score(y_train,train_calb_probs[:,1])\n",
    "roc_auc_test = roc_auc_score(y_test,calb_probs[:,1])\n",
    "plt.figure()\n",
    "plt.plot(fpr_test, tpr_test, color='darkorange', label='ROC curve for test data(area = %0.2f)' % roc_auc_test)\n",
    "plt.plot(fpr_train, tpr_train, color='red', label='ROC curve for train data (area = %0.2f)' % roc_auc_train)\n",
    "plt.plot([0, 1], [0, 1], color='navy', linestyle='--')\n",
    "plt.xlim([0.0, 1.0])\n",
    "plt.ylim([0.0, 1.05])\n",
    "plt.xlabel('False Positive Rate')\n",
    "plt.ylabel('True Positive Rate')\n",
    "plt.title('Receiver operating characteristic')\n",
    "plt.legend(loc=\"lower right\")\n",
    "plt.show()"
   ]
  },
  {
   "cell_type": "markdown",
   "metadata": {
    "colab_type": "text",
    "id": "_eQ2zIeyVAKJ"
   },
   "source": [
    "## [5.2] Applying GBDT using XGBOOST"
   ]
  },
  {
   "cell_type": "markdown",
   "metadata": {
    "colab_type": "text",
    "id": "ygdBZo5dVAKK"
   },
   "source": [
    "### [5.2.1] Applying XGBOOST on BOW,<font color='red'> SET 1</font>"
   ]
  },
  {
   "cell_type": "code",
   "execution_count": 82,
   "metadata": {},
   "outputs": [
    {
     "name": "stdout",
     "output_type": "stream",
     "text": [
      "[0]\tvalidation_0-auc:0.71659\tvalidation_1-auc:0.733196\n",
      "Multiple eval metrics have been passed: 'validation_1-auc' will be used for early stopping.\n",
      "\n",
      "Will train until validation_1-auc hasn't improved in 10 rounds.\n",
      "[1]\tvalidation_0-auc:0.746886\tvalidation_1-auc:0.759752\n",
      "[2]\tvalidation_0-auc:0.805721\tvalidation_1-auc:0.814524\n",
      "[3]\tvalidation_0-auc:0.812634\tvalidation_1-auc:0.821069\n",
      "[4]\tvalidation_0-auc:0.81487\tvalidation_1-auc:0.823486\n",
      "[5]\tvalidation_0-auc:0.816305\tvalidation_1-auc:0.824286\n",
      "[6]\tvalidation_0-auc:0.815191\tvalidation_1-auc:0.82133\n",
      "[7]\tvalidation_0-auc:0.812901\tvalidation_1-auc:0.819268\n",
      "[8]\tvalidation_0-auc:0.820527\tvalidation_1-auc:0.827061\n",
      "[9]\tvalidation_0-auc:0.824069\tvalidation_1-auc:0.831021\n",
      "[10]\tvalidation_0-auc:0.82504\tvalidation_1-auc:0.830789\n",
      "[11]\tvalidation_0-auc:0.823286\tvalidation_1-auc:0.828878\n",
      "[12]\tvalidation_0-auc:0.820826\tvalidation_1-auc:0.826266\n",
      "[13]\tvalidation_0-auc:0.826925\tvalidation_1-auc:0.832333\n",
      "[14]\tvalidation_0-auc:0.827928\tvalidation_1-auc:0.832453\n",
      "[15]\tvalidation_0-auc:0.824023\tvalidation_1-auc:0.828796\n",
      "[16]\tvalidation_0-auc:0.825771\tvalidation_1-auc:0.831202\n",
      "[17]\tvalidation_0-auc:0.827175\tvalidation_1-auc:0.832361\n",
      "[18]\tvalidation_0-auc:0.825778\tvalidation_1-auc:0.831389\n",
      "[19]\tvalidation_0-auc:0.826539\tvalidation_1-auc:0.832109\n",
      "[20]\tvalidation_0-auc:0.826485\tvalidation_1-auc:0.832921\n",
      "[21]\tvalidation_0-auc:0.82708\tvalidation_1-auc:0.833721\n",
      "[22]\tvalidation_0-auc:0.827998\tvalidation_1-auc:0.8344\n",
      "[23]\tvalidation_0-auc:0.828695\tvalidation_1-auc:0.834735\n",
      "[24]\tvalidation_0-auc:0.827589\tvalidation_1-auc:0.83436\n",
      "[25]\tvalidation_0-auc:0.827454\tvalidation_1-auc:0.834888\n",
      "[26]\tvalidation_0-auc:0.825341\tvalidation_1-auc:0.83264\n",
      "[27]\tvalidation_0-auc:0.82595\tvalidation_1-auc:0.833679\n",
      "[28]\tvalidation_0-auc:0.825226\tvalidation_1-auc:0.832857\n",
      "[29]\tvalidation_0-auc:0.826436\tvalidation_1-auc:0.833989\n",
      "[30]\tvalidation_0-auc:0.826564\tvalidation_1-auc:0.834054\n",
      "[31]\tvalidation_0-auc:0.828874\tvalidation_1-auc:0.836215\n",
      "[32]\tvalidation_0-auc:0.829768\tvalidation_1-auc:0.837029\n",
      "[33]\tvalidation_0-auc:0.829719\tvalidation_1-auc:0.837188\n",
      "[34]\tvalidation_0-auc:0.83058\tvalidation_1-auc:0.837592\n",
      "[35]\tvalidation_0-auc:0.830991\tvalidation_1-auc:0.837759\n",
      "[36]\tvalidation_0-auc:0.829462\tvalidation_1-auc:0.836061\n",
      "[37]\tvalidation_0-auc:0.829633\tvalidation_1-auc:0.836222\n",
      "[38]\tvalidation_0-auc:0.82974\tvalidation_1-auc:0.836538\n",
      "[39]\tvalidation_0-auc:0.830229\tvalidation_1-auc:0.837163\n",
      "[40]\tvalidation_0-auc:0.830154\tvalidation_1-auc:0.83674\n",
      "[41]\tvalidation_0-auc:0.832219\tvalidation_1-auc:0.838721\n",
      "[42]\tvalidation_0-auc:0.835113\tvalidation_1-auc:0.841588\n",
      "[43]\tvalidation_0-auc:0.83424\tvalidation_1-auc:0.840697\n",
      "[44]\tvalidation_0-auc:0.834475\tvalidation_1-auc:0.841262\n",
      "[45]\tvalidation_0-auc:0.833584\tvalidation_1-auc:0.840606\n",
      "[46]\tvalidation_0-auc:0.834089\tvalidation_1-auc:0.841026\n",
      "[47]\tvalidation_0-auc:0.834382\tvalidation_1-auc:0.841267\n",
      "[48]\tvalidation_0-auc:0.834811\tvalidation_1-auc:0.841772\n",
      "[49]\tvalidation_0-auc:0.834926\tvalidation_1-auc:0.841773\n",
      "[50]\tvalidation_0-auc:0.834391\tvalidation_1-auc:0.841271\n",
      "[51]\tvalidation_0-auc:0.835167\tvalidation_1-auc:0.841776\n",
      "[52]\tvalidation_0-auc:0.834406\tvalidation_1-auc:0.840899\n",
      "[53]\tvalidation_0-auc:0.835278\tvalidation_1-auc:0.841687\n",
      "[54]\tvalidation_0-auc:0.835219\tvalidation_1-auc:0.841941\n",
      "[55]\tvalidation_0-auc:0.834872\tvalidation_1-auc:0.841628\n",
      "[56]\tvalidation_0-auc:0.834861\tvalidation_1-auc:0.84156\n",
      "[57]\tvalidation_0-auc:0.834465\tvalidation_1-auc:0.841353\n",
      "[58]\tvalidation_0-auc:0.834472\tvalidation_1-auc:0.841147\n",
      "[59]\tvalidation_0-auc:0.834671\tvalidation_1-auc:0.841245\n",
      "[60]\tvalidation_0-auc:0.83475\tvalidation_1-auc:0.841381\n",
      "[61]\tvalidation_0-auc:0.835454\tvalidation_1-auc:0.842341\n",
      "[62]\tvalidation_0-auc:0.836448\tvalidation_1-auc:0.843084\n",
      "[63]\tvalidation_0-auc:0.836644\tvalidation_1-auc:0.843021\n",
      "[64]\tvalidation_0-auc:0.837703\tvalidation_1-auc:0.843972\n",
      "[65]\tvalidation_0-auc:0.837806\tvalidation_1-auc:0.844126\n",
      "[66]\tvalidation_0-auc:0.839581\tvalidation_1-auc:0.845744\n",
      "[67]\tvalidation_0-auc:0.841352\tvalidation_1-auc:0.847728\n",
      "[68]\tvalidation_0-auc:0.840618\tvalidation_1-auc:0.847052\n",
      "[69]\tvalidation_0-auc:0.839739\tvalidation_1-auc:0.846333\n",
      "[70]\tvalidation_0-auc:0.840298\tvalidation_1-auc:0.846813\n",
      "[71]\tvalidation_0-auc:0.840252\tvalidation_1-auc:0.846796\n",
      "[72]\tvalidation_0-auc:0.83999\tvalidation_1-auc:0.846545\n",
      "[73]\tvalidation_0-auc:0.839384\tvalidation_1-auc:0.846035\n",
      "[74]\tvalidation_0-auc:0.840676\tvalidation_1-auc:0.847487\n",
      "[75]\tvalidation_0-auc:0.839549\tvalidation_1-auc:0.846349\n",
      "[76]\tvalidation_0-auc:0.840287\tvalidation_1-auc:0.846992\n",
      "[77]\tvalidation_0-auc:0.840566\tvalidation_1-auc:0.847047\n",
      "Stopping. Best iteration:\n",
      "[67]\tvalidation_0-auc:0.841352\tvalidation_1-auc:0.847728\n",
      "\n",
      "CPU times: user 9.12 s, sys: 56 ms, total: 9.18 s\n",
      "Wall time: 9.09 s\n"
     ]
    },
    {
     "data": {
      "text/plain": [
       "XGBClassifier(base_score=0.5, booster='gbtree', colsample_bylevel=1,\n",
       "       colsample_bytree=0.4, gamma=10, learning_rate=0.01,\n",
       "       max_delta_step=0, max_depth=4, min_child_weight=1, missing=None,\n",
       "       n_estimators=1000, n_jobs=1, nthread=None,\n",
       "       objective='binary:logistic', random_state=0, reg_alpha=0.3,\n",
       "       reg_lambda=1, scale_pos_weight=1, seed=None, silent=False,\n",
       "       subsample=0.8)"
      ]
     },
     "execution_count": 82,
     "metadata": {},
     "output_type": "execute_result"
    }
   ],
   "source": [
    "from xgboost import XGBClassifier\n",
    "model = XGBClassifier(silent=False, \n",
    "                      scale_pos_weight=1,\n",
    "                      learning_rate=0.01,  \n",
    "                      colsample_bytree = 0.4,\n",
    "                      subsample = 0.8,\n",
    "                      objective='binary:logistic', \n",
    "                      n_estimators=1000, \n",
    "                      reg_alpha = 0.3,\n",
    "                      max_depth=4, \n",
    "                      gamma=10)\n",
    "eval_set = [(final_counts_train, y_train), (final_counts_test, y_test)]\n",
    "eval_metric = [\"auc\"]\n",
    "%time model.fit(final_counts_train, y_train, eval_metric=eval_metric, eval_set=eval_set,early_stopping_rounds=10, verbose=True)\n"
   ]
  },
  {
   "cell_type": "code",
   "execution_count": 89,
   "metadata": {},
   "outputs": [
    {
     "name": "stdout",
     "output_type": "stream",
     "text": [
      "[0]\tvalidation_0-auc:0.728787\tvalidation_1-auc:0.743807\n",
      "Multiple eval metrics have been passed: 'validation_1-auc' will be used for early stopping.\n",
      "\n",
      "Will train until validation_1-auc hasn't improved in 10 rounds.\n",
      "[1]\tvalidation_0-auc:0.760565\tvalidation_1-auc:0.768325\n",
      "[2]\tvalidation_0-auc:0.817292\tvalidation_1-auc:0.823744\n",
      "[3]\tvalidation_0-auc:0.824556\tvalidation_1-auc:0.829255\n",
      "[4]\tvalidation_0-auc:0.832324\tvalidation_1-auc:0.83751\n",
      "[5]\tvalidation_0-auc:0.834409\tvalidation_1-auc:0.838847\n",
      "[6]\tvalidation_0-auc:0.833071\tvalidation_1-auc:0.833448\n",
      "[7]\tvalidation_0-auc:0.830901\tvalidation_1-auc:0.832658\n",
      "[8]\tvalidation_0-auc:0.836009\tvalidation_1-auc:0.837282\n",
      "[9]\tvalidation_0-auc:0.837854\tvalidation_1-auc:0.840237\n",
      "[10]\tvalidation_0-auc:0.835346\tvalidation_1-auc:0.837189\n",
      "[11]\tvalidation_0-auc:0.837848\tvalidation_1-auc:0.839575\n",
      "[12]\tvalidation_0-auc:0.836379\tvalidation_1-auc:0.838109\n",
      "[13]\tvalidation_0-auc:0.843583\tvalidation_1-auc:0.845393\n",
      "[14]\tvalidation_0-auc:0.843394\tvalidation_1-auc:0.844319\n",
      "[15]\tvalidation_0-auc:0.840581\tvalidation_1-auc:0.842136\n",
      "[16]\tvalidation_0-auc:0.84147\tvalidation_1-auc:0.843597\n",
      "[17]\tvalidation_0-auc:0.841235\tvalidation_1-auc:0.842575\n",
      "[18]\tvalidation_0-auc:0.840537\tvalidation_1-auc:0.842458\n",
      "[19]\tvalidation_0-auc:0.841528\tvalidation_1-auc:0.843648\n",
      "[20]\tvalidation_0-auc:0.841284\tvalidation_1-auc:0.84412\n",
      "[21]\tvalidation_0-auc:0.840391\tvalidation_1-auc:0.843375\n",
      "[22]\tvalidation_0-auc:0.840735\tvalidation_1-auc:0.84372\n",
      "[23]\tvalidation_0-auc:0.843156\tvalidation_1-auc:0.846136\n",
      "[24]\tvalidation_0-auc:0.843059\tvalidation_1-auc:0.846313\n",
      "[25]\tvalidation_0-auc:0.844353\tvalidation_1-auc:0.848333\n",
      "[26]\tvalidation_0-auc:0.842026\tvalidation_1-auc:0.845974\n",
      "[27]\tvalidation_0-auc:0.842666\tvalidation_1-auc:0.847023\n",
      "[28]\tvalidation_0-auc:0.841119\tvalidation_1-auc:0.845622\n",
      "[29]\tvalidation_0-auc:0.842581\tvalidation_1-auc:0.846991\n",
      "[30]\tvalidation_0-auc:0.843185\tvalidation_1-auc:0.847422\n",
      "[31]\tvalidation_0-auc:0.84552\tvalidation_1-auc:0.849954\n",
      "[32]\tvalidation_0-auc:0.846786\tvalidation_1-auc:0.851212\n",
      "[33]\tvalidation_0-auc:0.846866\tvalidation_1-auc:0.851319\n",
      "[34]\tvalidation_0-auc:0.847802\tvalidation_1-auc:0.852015\n",
      "[35]\tvalidation_0-auc:0.848279\tvalidation_1-auc:0.852131\n",
      "[36]\tvalidation_0-auc:0.84663\tvalidation_1-auc:0.85039\n",
      "[37]\tvalidation_0-auc:0.845802\tvalidation_1-auc:0.84957\n",
      "[38]\tvalidation_0-auc:0.845915\tvalidation_1-auc:0.849766\n",
      "[39]\tvalidation_0-auc:0.84696\tvalidation_1-auc:0.850851\n",
      "[40]\tvalidation_0-auc:0.846901\tvalidation_1-auc:0.850607\n",
      "[41]\tvalidation_0-auc:0.848592\tvalidation_1-auc:0.852532\n",
      "[42]\tvalidation_0-auc:0.849753\tvalidation_1-auc:0.853358\n",
      "[43]\tvalidation_0-auc:0.848598\tvalidation_1-auc:0.852156\n",
      "[44]\tvalidation_0-auc:0.849057\tvalidation_1-auc:0.852955\n",
      "[45]\tvalidation_0-auc:0.84792\tvalidation_1-auc:0.851937\n",
      "[46]\tvalidation_0-auc:0.848726\tvalidation_1-auc:0.852531\n",
      "[47]\tvalidation_0-auc:0.848794\tvalidation_1-auc:0.852567\n",
      "[48]\tvalidation_0-auc:0.849855\tvalidation_1-auc:0.853926\n",
      "[49]\tvalidation_0-auc:0.849764\tvalidation_1-auc:0.853874\n",
      "[50]\tvalidation_0-auc:0.849277\tvalidation_1-auc:0.853338\n",
      "[51]\tvalidation_0-auc:0.849647\tvalidation_1-auc:0.853495\n",
      "[52]\tvalidation_0-auc:0.849004\tvalidation_1-auc:0.852916\n",
      "[53]\tvalidation_0-auc:0.849822\tvalidation_1-auc:0.853893\n",
      "[54]\tvalidation_0-auc:0.850167\tvalidation_1-auc:0.854279\n",
      "[55]\tvalidation_0-auc:0.849697\tvalidation_1-auc:0.85381\n",
      "[56]\tvalidation_0-auc:0.849746\tvalidation_1-auc:0.853973\n",
      "[57]\tvalidation_0-auc:0.84908\tvalidation_1-auc:0.85366\n",
      "[58]\tvalidation_0-auc:0.849432\tvalidation_1-auc:0.853892\n",
      "[59]\tvalidation_0-auc:0.849479\tvalidation_1-auc:0.853949\n",
      "[60]\tvalidation_0-auc:0.849549\tvalidation_1-auc:0.854044\n",
      "[61]\tvalidation_0-auc:0.850622\tvalidation_1-auc:0.855096\n",
      "[62]\tvalidation_0-auc:0.851243\tvalidation_1-auc:0.855491\n",
      "[63]\tvalidation_0-auc:0.851438\tvalidation_1-auc:0.855678\n",
      "[64]\tvalidation_0-auc:0.852795\tvalidation_1-auc:0.857083\n",
      "[65]\tvalidation_0-auc:0.852973\tvalidation_1-auc:0.857323\n",
      "[66]\tvalidation_0-auc:0.854209\tvalidation_1-auc:0.858397\n",
      "[67]\tvalidation_0-auc:0.855861\tvalidation_1-auc:0.860109\n",
      "[68]\tvalidation_0-auc:0.854778\tvalidation_1-auc:0.859071\n",
      "[69]\tvalidation_0-auc:0.854111\tvalidation_1-auc:0.85849\n",
      "[70]\tvalidation_0-auc:0.854652\tvalidation_1-auc:0.858864\n",
      "[71]\tvalidation_0-auc:0.854559\tvalidation_1-auc:0.858793\n",
      "[72]\tvalidation_0-auc:0.854416\tvalidation_1-auc:0.858636\n",
      "[73]\tvalidation_0-auc:0.854264\tvalidation_1-auc:0.858586\n",
      "[74]\tvalidation_0-auc:0.855142\tvalidation_1-auc:0.859474\n",
      "[75]\tvalidation_0-auc:0.854632\tvalidation_1-auc:0.859084\n",
      "[76]\tvalidation_0-auc:0.855237\tvalidation_1-auc:0.859633\n",
      "[77]\tvalidation_0-auc:0.855474\tvalidation_1-auc:0.859663\n",
      "Stopping. Best iteration:\n",
      "[67]\tvalidation_0-auc:0.855861\tvalidation_1-auc:0.860109\n",
      "\n",
      "CPU times: user 10 s, sys: 48 ms, total: 10.1 s\n",
      "Wall time: 9.97 s\n"
     ]
    },
    {
     "data": {
      "text/plain": [
       "XGBClassifier(base_score=0.5, booster='gbtree', colsample_bylevel=1,\n",
       "       colsample_bytree=0.4, gamma=10, learning_rate=0.01,\n",
       "       max_delta_step=0, max_depth=5, min_child_weight=1, missing=None,\n",
       "       n_estimators=1000, n_jobs=1, nthread=None,\n",
       "       objective='binary:logistic', random_state=0, reg_alpha=0.3,\n",
       "       reg_lambda=1, scale_pos_weight=1, seed=None, silent=False,\n",
       "       subsample=0.8)"
      ]
     },
     "execution_count": 89,
     "metadata": {},
     "output_type": "execute_result"
    }
   ],
   "source": [
    "from xgboost import XGBClassifier\n",
    "model = XGBClassifier(silent=False, \n",
    "                      scale_pos_weight=1,\n",
    "                      learning_rate=0.01,  \n",
    "                      colsample_bytree = 0.4,\n",
    "                      subsample = 0.8,\n",
    "                      objective='binary:logistic', \n",
    "                      n_estimators=1000, \n",
    "                      reg_alpha = 0.3,\n",
    "                      max_depth=5, \n",
    "                      gamma=10)\n",
    "eval_set = [(final_counts_train, y_train), (final_counts_test, y_test)]\n",
    "eval_metric = [\"auc\"]\n",
    "%time model.fit(final_counts_train, y_train, eval_metric=eval_metric, eval_set=eval_set,early_stopping_rounds=10, verbose=True)\n"
   ]
  },
  {
   "cell_type": "code",
   "execution_count": 90,
   "metadata": {},
   "outputs": [
    {
     "data": {
      "image/png": "[encoded data removed]",
      "text/plain": [
       "<Figure size 432x288 with 1 Axes>"
      ]
     },
     "metadata": {},
     "output_type": "display_data"
    }
   ],
   "source": [
    "results = model.evals_result()\n",
    "epochs = len(results['validation_0']['auc'])\n",
    "x_axis = range(0, epochs)\n",
    "\n",
    "fig, ax = plt.subplots()\n",
    "ax.plot(x_axis, results['validation_0']['auc'], label='Train')\n",
    "ax.plot(x_axis, results['validation_1']['auc'], label='Test')\n",
    "ax.legend()\n",
    "plt.ylabel('Auc')\n",
    "plt.title('XGBoost Auc')\n",
    "plt.show()\n"
   ]
  },
  {
   "cell_type": "code",
   "execution_count": 91,
   "metadata": {},
   "outputs": [
    {
     "name": "stdout",
     "output_type": "stream",
     "text": [
      "CPU times: user 31.3 s, sys: 604 ms, total: 31.9 s\n",
      "Wall time: 3min 56s\n"
     ]
    },
    {
     "data": {
      "text/plain": [
       "GridSearchCV(cv='warn', error_score='raise-deprecating',\n",
       "       estimator=XGBClassifier(base_score=0.5, booster='gbtree', colsample_bylevel=1,\n",
       "       colsample_bytree=1, gamma=0, learning_rate=0.1, max_delta_step=0,\n",
       "       max_depth=3, min_child_weight=1, missing=None, n_estimators=67,\n",
       "       n_jobs=1, nthread=None, objective='binary:logistic', random_state=0,\n",
       "       reg_alpha=0, reg_lambda=1, scale_pos_weight=1, seed=None,\n",
       "       silent=True, subsample=1),\n",
       "       fit_params=None, iid='warn', n_jobs=-1,\n",
       "       param_grid={'max_depth': [5, 6, 7, 8, 9, 10, 11, 12, 13, 14, 15, 16, 17]},\n",
       "       pre_dispatch='2*n_jobs', refit=True, return_train_score='warn',\n",
       "       scoring='f1', verbose=0)"
      ]
     },
     "execution_count": 91,
     "metadata": {},
     "output_type": "execute_result"
    }
   ],
   "source": [
    "param_grid= {'max_depth': [5,6,7,8,9,10,11,12,13,14,15,16,17]}\n",
    "from sklearn.model_selection import GridSearchCV\n",
    "grid=GridSearchCV(XGBClassifier(n_estimators=67), param_grid, scoring=\"f1\",n_jobs=-1)\n",
    "%time grid.fit(final_counts_train,y_train)\n"
   ]
  },
  {
   "cell_type": "code",
   "execution_count": 92,
   "metadata": {},
   "outputs": [
    {
     "data": {
      "image/png": "[encoded data removed]",
      "text/plain": [
       "<Figure size 432x288 with 1 Axes>"
      ]
     },
     "metadata": {},
     "output_type": "display_data"
    }
   ],
   "source": [
    "cv_scores=grid.cv_results_ ['mean_test_score']\n",
    "train_scores=grid.cv_results_ ['mean_train_score']\n",
    "lines = plt.plot(param_grid[\"max_depth\"],cv_scores, param_grid[\"max_depth\"],train_scores )\n",
    "plt.setp(lines[0], color='r', linewidth=2.0, label=\"cv score\")\n",
    "plt.setp(lines[1], color='g', linewidth=2.0,label=\"train score\")\n",
    "plt.legend()\n",
    "plt.show()"
   ]
  },
  {
   "cell_type": "code",
   "execution_count": 93,
   "metadata": {},
   "outputs": [
    {
     "name": "stdout",
     "output_type": "stream",
     "text": [
      "CPU times: user 10min 10s, sys: 2.51 s, total: 10min 13s\n",
      "Wall time: 10min 13s\n"
     ]
    },
    {
     "data": {
      "text/plain": [
       "RandomizedSearchCV(cv='warn', error_score='raise-deprecating',\n",
       "          estimator=XGBClassifier(base_score=0.5, booster='gbtree', colsample_bylevel=1,\n",
       "       colsample_bytree=1, gamma=0, learning_rate=0.1, max_delta_step=0,\n",
       "       max_depth=14, min_child_weight=1, missing=None, n_estimators=67,\n",
       "       n_jobs=1, nthread=None, objective='binary:logistic', random_state=0,\n",
       "       reg_alpha=0, reg_lambda=1, scale_pos_weight=1, seed=None,\n",
       "       silent=True, subsample=1),\n",
       "          fit_params=None, iid='warn', n_iter=10, n_jobs=None,\n",
       "          param_distributions={'gamma': [0, 1, 5], 'learning_rate': [0.01, 0.05, 0.1], 'subsample': [0.8, 0.9, 1]},\n",
       "          pre_dispatch='2*n_jobs', random_state=None, refit=True,\n",
       "          return_train_score='warn', scoring='f1', verbose=0)"
      ]
     },
     "execution_count": 93,
     "metadata": {},
     "output_type": "execute_result"
    }
   ],
   "source": [
    "from sklearn.model_selection import RandomizedSearchCV\n",
    "params = {\n",
    "        'gamma': [0, 1, 5],\n",
    "        'learning_rate': [0.01,0.05,0.1],\n",
    "        'subsample':[0.8,0.9,1]\n",
    "        }\n",
    "random_search = RandomizedSearchCV(XGBClassifier(n_estimators=67,max_depth=14), param_distributions=params, n_iter=10, scoring='f1')\n",
    "%time random_search.fit(final_counts_train,y_train)"
   ]
  },
  {
   "cell_type": "code",
   "execution_count": 94,
   "metadata": {
    "colab": {},
    "colab_type": "code",
    "id": "q0k8xs7mVAKP",
    "outputId": "0719c1db-e3ac-4939-ca88-b9e158c2ba91"
   },
   "outputs": [
    {
     "name": "stdout",
     "output_type": "stream",
     "text": [
      "XGBClassifier(base_score=0.5, booster='gbtree', colsample_bylevel=1,\n",
      "       colsample_bytree=1, gamma=0, learning_rate=0.1, max_delta_step=0,\n",
      "       max_depth=14, min_child_weight=1, missing=None, n_estimators=67,\n",
      "       n_jobs=1, nthread=None, objective='binary:logistic', random_state=0,\n",
      "       reg_alpha=0, reg_lambda=1, scale_pos_weight=1, seed=None,\n",
      "       silent=True, subsample=0.8)\n"
     ]
    }
   ],
   "source": [
    "print(random_search.best_estimator_)"
   ]
  },
  {
   "cell_type": "code",
   "execution_count": 95,
   "metadata": {
    "colab": {},
    "colab_type": "code",
    "id": "9QU-FbQ6VAKS",
    "outputId": "80cc256d-8fbb-4a25-8c9c-70bcf336f288"
   },
   "outputs": [
    {
     "name": "stdout",
     "output_type": "stream",
     "text": [
      "Accuracy for learning rate: 0.1 ,n_estimators: 0\n",
      "89.52945197675743\n",
      "[[ 2380  2181]\n",
      " [  576 21194]]\n"
     ]
    },
    {
     "data": {
      "image/png": "[encoded data removed]",
      "text/plain": [
       "<Figure size 432x288 with 2 Axes>"
      ]
     },
     "metadata": {},
     "output_type": "display_data"
    }
   ],
   "source": [
    "from sklearn.metrics import accuracy_score\n",
    "optimal_param=random_search.best_params_ \n",
    "pre=random_search.predict(final_counts_test)\n",
    "acc = accuracy_score(y_test, pre) * 100\n",
    "print(\"Accuracy for learning rate:\",optimal_param['learning_rate'],',n_estimators:',optimal_param['gamma'])\n",
    "print(acc)\n",
    "import sklearn.metrics\n",
    "import seaborn\n",
    "conf_matr=confusion_matrix(y_test,pre)\n",
    "seaborn.heatmap(conf_matr,annot=True,fmt='g')\n",
    "print(conf_matr)"
   ]
  },
  {
   "cell_type": "code",
   "execution_count": 96,
   "metadata": {
    "colab": {},
    "colab_type": "code",
    "id": "AZGQTZywVAKd",
    "outputId": "3780d636-b43f-45e7-98ba-341b9f22819c"
   },
   "outputs": [
    {
     "name": "stdout",
     "output_type": "stream",
     "text": [
      "Accuracy for learning rate: 0.1 ,n_estimators: 0\n",
      "94.18150450831678\n",
      "[[ 6797  2823]\n",
      " [  752 51070]]\n"
     ]
    },
    {
     "data": {
      "image/png": "[encoded data removed]",
      "text/plain": [
       "<Figure size 432x288 with 2 Axes>"
      ]
     },
     "metadata": {},
     "output_type": "display_data"
    }
   ],
   "source": [
    "from sklearn.metrics import accuracy_score\n",
    "optimal_param=random_search.best_params_ \n",
    "pre=random_search.predict(final_counts_train)\n",
    "acc = accuracy_score(y_train, pre) * 100\n",
    "print(\"Accuracy for learning rate:\",optimal_param['learning_rate'],',n_estimators:',optimal_param['gamma'])\n",
    "print(acc)\n",
    "import sklearn.metrics\n",
    "import seaborn\n",
    "conf_matr=confusion_matrix(y_train,pre)\n",
    "seaborn.heatmap(conf_matr,annot=True,fmt='g')\n",
    "print(conf_matr)"
   ]
  },
  {
   "cell_type": "code",
   "execution_count": 97,
   "metadata": {
    "colab": {},
    "colab_type": "code",
    "id": "NW4UGBq_VAK1",
    "outputId": "6d48de23-3864-469d-9ca6-c60c82679f7d"
   },
   "outputs": [
    {
     "data": {
      "image/png": "[encoded data removed]",
      "text/plain": [
       "<Figure size 432x288 with 1 Axes>"
      ]
     },
     "metadata": {},
     "output_type": "display_data"
    }
   ],
   "source": [
    "from sklearn.calibration import CalibratedClassifierCV\n",
    "caliberated=CalibratedClassifierCV(random_search.best_estimator_, method='sigmoid', cv=5)\n",
    "caliberated.fit(final_counts_train,y_train)\n",
    "train_calb_probs=caliberated.predict_proba(final_counts_train)\n",
    "calb_probs=caliberated.predict_proba(final_counts_test)\n",
    "from sklearn.metrics import roc_curve,roc_auc_score\n",
    "fpr_train, tpr_train, _ = roc_curve(y_train,train_calb_probs[:,1])\n",
    "fpr_test, tpr_test, _ = roc_curve(y_test,calb_probs[:,1])\n",
    "roc_auc_train =roc_auc_score(y_train,train_calb_probs[:,1])\n",
    "roc_auc_test = roc_auc_score(y_test,calb_probs[:,1])\n",
    "plt.figure()\n",
    "plt.plot(fpr_test, tpr_test, color='darkorange', label='ROC curve for test data(area = %0.2f)' % roc_auc_test)\n",
    "plt.plot(fpr_train, tpr_train, color='red', label='ROC curve for train data (area = %0.2f)' % roc_auc_train)\n",
    "plt.plot([0, 1], [0, 1], color='navy', linestyle='--')\n",
    "plt.xlim([0.0, 1.0])\n",
    "plt.ylim([0.0, 1.05])\n",
    "plt.xlabel('False Positive Rate')\n",
    "plt.ylabel('True Positive Rate')\n",
    "plt.title('Receiver operating characteristic')\n",
    "plt.legend(loc=\"lower right\")\n",
    "plt.show()"
   ]
  },
  {
   "cell_type": "code",
   "execution_count": 4,
   "metadata": {},
   "outputs": [
    {
     "name": "stdout",
     "output_type": "stream",
     "text": [
      "['not' 'great' 'disappointed' 'bad' 'horrible' 'best' 'good' 'money''love' 'waste' 'delicious' 'would' 'taste' 'thought' 'away' 'received''product' 'like' 'perfect' 'excellent']\n"
     ]
    }
   ],
   "source": [
    "print(np.take(count_vect.get_feature_names(),np.argsort(-rf_random.best_estimator_.feature_importances_)[:20]))"
   ]
  },
  {
   "cell_type": "markdown",
   "metadata": {
    "colab_type": "text",
    "id": "7GZ1FZo8VAK8"
   },
   "source": [
    "### [5.2.2] Applying XGBOOST on TFIDF,<font color='red'> SET 2</font>"
   ]
  },
  {
   "cell_type": "code",
   "execution_count": 98,
   "metadata": {
    "colab": {},
    "colab_type": "code",
    "id": "yltl5takVAK9",
    "outputId": "13070903-2ac1-406d-fce5-2c0cd718426d"
   },
   "outputs": [
    {
     "name": "stdout",
     "output_type": "stream",
     "text": [
      "[0]\tvalidation_0-auc:0.73564\tvalidation_1-auc:0.749244\n",
      "Multiple eval metrics have been passed: 'validation_1-auc' will be used for early stopping.\n",
      "\n",
      "Will train until validation_1-auc hasn't improved in 10 rounds.\n",
      "[1]\tvalidation_0-auc:0.765164\tvalidation_1-auc:0.769369\n",
      "[2]\tvalidation_0-auc:0.825292\tvalidation_1-auc:0.83055\n",
      "[3]\tvalidation_0-auc:0.831872\tvalidation_1-auc:0.834713\n",
      "[4]\tvalidation_0-auc:0.834431\tvalidation_1-auc:0.838456\n",
      "[5]\tvalidation_0-auc:0.836522\tvalidation_1-auc:0.840144\n",
      "[6]\tvalidation_0-auc:0.835254\tvalidation_1-auc:0.83559\n",
      "[7]\tvalidation_0-auc:0.835652\tvalidation_1-auc:0.837664\n",
      "[8]\tvalidation_0-auc:0.839988\tvalidation_1-auc:0.842157\n",
      "[9]\tvalidation_0-auc:0.841601\tvalidation_1-auc:0.844802\n",
      "[10]\tvalidation_0-auc:0.84042\tvalidation_1-auc:0.842562\n",
      "[11]\tvalidation_0-auc:0.843837\tvalidation_1-auc:0.845878\n",
      "[12]\tvalidation_0-auc:0.842371\tvalidation_1-auc:0.844185\n",
      "[13]\tvalidation_0-auc:0.850215\tvalidation_1-auc:0.851676\n",
      "[14]\tvalidation_0-auc:0.850759\tvalidation_1-auc:0.851299\n",
      "[15]\tvalidation_0-auc:0.8475\tvalidation_1-auc:0.848293\n",
      "[16]\tvalidation_0-auc:0.84795\tvalidation_1-auc:0.849247\n",
      "[17]\tvalidation_0-auc:0.847556\tvalidation_1-auc:0.848371\n",
      "[18]\tvalidation_0-auc:0.847044\tvalidation_1-auc:0.847981\n",
      "[19]\tvalidation_0-auc:0.846082\tvalidation_1-auc:0.847176\n",
      "[20]\tvalidation_0-auc:0.846065\tvalidation_1-auc:0.847554\n",
      "[21]\tvalidation_0-auc:0.845365\tvalidation_1-auc:0.846614\n",
      "[22]\tvalidation_0-auc:0.845857\tvalidation_1-auc:0.84713\n",
      "[23]\tvalidation_0-auc:0.848414\tvalidation_1-auc:0.849734\n",
      "Stopping. Best iteration:\n",
      "[13]\tvalidation_0-auc:0.850215\tvalidation_1-auc:0.851676\n",
      "\n",
      "CPU times: user 5.2 s, sys: 96 ms, total: 5.29 s\n",
      "Wall time: 5.19 s\n"
     ]
    },
    {
     "data": {
      "text/plain": [
       "XGBClassifier(base_score=0.5, booster='gbtree', colsample_bylevel=1,\n",
       "       colsample_bytree=0.4, gamma=10, learning_rate=0.01,\n",
       "       max_delta_step=0, max_depth=5, min_child_weight=1, missing=None,\n",
       "       n_estimators=1000, n_jobs=1, nthread=None,\n",
       "       objective='binary:logistic', random_state=0, reg_alpha=0.3,\n",
       "       reg_lambda=1, scale_pos_weight=1, seed=None, silent=False,\n",
       "       subsample=0.8)"
      ]
     },
     "execution_count": 98,
     "metadata": {},
     "output_type": "execute_result"
    }
   ],
   "source": [
    "from xgboost import XGBClassifier\n",
    "model = XGBClassifier(silent=False, \n",
    "                      scale_pos_weight=1,\n",
    "                      learning_rate=0.01,  \n",
    "                      colsample_bytree = 0.4,\n",
    "                      subsample = 0.8,\n",
    "                      objective='binary:logistic', \n",
    "                      n_estimators=1000, \n",
    "                      reg_alpha = 0.3,\n",
    "                      max_depth=5, \n",
    "                      gamma=10)\n",
    "eval_set = [(final_tfidf_train, y_train), (final_tfidf_test, y_test)]\n",
    "eval_metric = [\"auc\"]\n",
    "%time model.fit(final_tfidf_train, y_train, eval_metric=eval_metric, eval_set=eval_set,early_stopping_rounds=10, verbose=True)\n"
   ]
  },
  {
   "cell_type": "code",
   "execution_count": 99,
   "metadata": {
    "colab": {},
    "colab_type": "code",
    "id": "75sCyhQVVALC",
    "outputId": "6d374862-5892-477a-ab59-4af1d67eeca0"
   },
   "outputs": [
    {
     "data": {
      "image/png": "[encoded data removed]",
      "text/plain": [
       "<Figure size 432x288 with 1 Axes>"
      ]
     },
     "metadata": {},
     "output_type": "display_data"
    }
   ],
   "source": [
    "results = model.evals_result()\n",
    "epochs = len(results['validation_0']['auc'])\n",
    "x_axis = range(0, epochs)\n",
    "\n",
    "fig, ax = plt.subplots()\n",
    "ax.plot(x_axis, results['validation_0']['auc'], label='Train')\n",
    "ax.plot(x_axis, results['validation_1']['auc'], label='Test')\n",
    "ax.legend()\n",
    "plt.ylabel('Auc')\n",
    "plt.title('XGBoost Auc')\n",
    "plt.show()\n"
   ]
  },
  {
   "cell_type": "code",
   "execution_count": 100,
   "metadata": {
    "colab": {},
    "colab_type": "code",
    "id": "GZe4moc1VALH",
    "outputId": "27a8e6ec-a037-4573-ee4c-c9f5fd1f6d2b"
   },
   "outputs": [
    {
     "name": "stdout",
     "output_type": "stream",
     "text": [
      "CPU times: user 13.2 s, sys: 532 ms, total: 13.7 s\n",
      "Wall time: 2min 7s\n"
     ]
    },
    {
     "data": {
      "text/plain": [
       "GridSearchCV(cv='warn', error_score='raise-deprecating',\n",
       "       estimator=XGBClassifier(base_score=0.5, booster='gbtree', colsample_bylevel=1,\n",
       "       colsample_bytree=1, gamma=0, learning_rate=0.1, max_delta_step=0,\n",
       "       max_depth=3, min_child_weight=1, missing=None, n_estimators=13,\n",
       "       n_jobs=1, nthread=None, objective='binary:logistic', random_state=0,\n",
       "       reg_alpha=0, reg_lambda=1, scale_pos_weight=1, seed=None,\n",
       "       silent=True, subsample=1),\n",
       "       fit_params=None, iid='warn', n_jobs=-1,\n",
       "       param_grid={'max_depth': [5, 6, 7, 8, 9, 10, 11, 12, 13, 14, 15, 16, 17]},\n",
       "       pre_dispatch='2*n_jobs', refit=True, return_train_score='warn',\n",
       "       scoring='f1', verbose=0)"
      ]
     },
     "execution_count": 100,
     "metadata": {},
     "output_type": "execute_result"
    }
   ],
   "source": [
    "param_grid= {'max_depth': [5,6,7,8,9,10,11,12,13,14,15,16,17]}\n",
    "from sklearn.model_selection import GridSearchCV\n",
    "grid=GridSearchCV(XGBClassifier(n_estimators=13), param_grid, scoring=\"f1\",n_jobs=-1)\n",
    "%time grid.fit(final_tfidf_train,y_train)\n"
   ]
  },
  {
   "cell_type": "code",
   "execution_count": 101,
   "metadata": {
    "colab": {},
    "colab_type": "code",
    "id": "KJ159K_5VALK",
    "outputId": "b0df1c90-b568-4196-97fa-fd90800762d3"
   },
   "outputs": [
    {
     "data": {
      "image/png": "[encoded data removed]",
      "text/plain": [
       "<Figure size 432x288 with 1 Axes>"
      ]
     },
     "metadata": {},
     "output_type": "display_data"
    }
   ],
   "source": [
    "cv_scores=grid.cv_results_ ['mean_test_score']\n",
    "train_scores=grid.cv_results_ ['mean_train_score']\n",
    "lines = plt.plot(param_grid[\"max_depth\"],cv_scores, param_grid[\"max_depth\"],train_scores )\n",
    "plt.setp(lines[0], color='r', linewidth=2.0, label=\"cv score\")\n",
    "plt.setp(lines[1], color='g', linewidth=2.0,label=\"train score\")\n",
    "plt.legend()\n",
    "plt.show()"
   ]
  },
  {
   "cell_type": "code",
   "execution_count": 102,
   "metadata": {
    "colab": {},
    "colab_type": "code",
    "id": "H9fmGu6EVALi",
    "outputId": "db2bacf6-465c-46bd-fc02-5ed31205b40d"
   },
   "outputs": [
    {
     "name": "stdout",
     "output_type": "stream",
     "text": [
      "CPU times: user 3min 2s, sys: 264 ms, total: 3min 3s\n",
      "Wall time: 3min 3s\n"
     ]
    },
    {
     "data": {
      "text/plain": [
       "RandomizedSearchCV(cv='warn', error_score='raise-deprecating',\n",
       "          estimator=XGBClassifier(base_score=0.5, booster='gbtree', colsample_bylevel=1,\n",
       "       colsample_bytree=1, gamma=0, learning_rate=0.1, max_delta_step=0,\n",
       "       max_depth=10, min_child_weight=1, missing=None, n_estimators=13,\n",
       "       n_jobs=1, nthread=None, objective='binary:logistic', random_state=0,\n",
       "       reg_alpha=0, reg_lambda=1, scale_pos_weight=1, seed=None,\n",
       "       silent=True, subsample=1),\n",
       "          fit_params=None, iid='warn', n_iter=10, n_jobs=None,\n",
       "          param_distributions={'gamma': [0, 1, 5], 'learning_rate': [0.01, 0.05, 0.1], 'subsample': [0.8, 0.9, 1]},\n",
       "          pre_dispatch='2*n_jobs', random_state=None, refit=True,\n",
       "          return_train_score='warn', scoring='f1', verbose=0)"
      ]
     },
     "execution_count": 102,
     "metadata": {},
     "output_type": "execute_result"
    }
   ],
   "source": [
    "from sklearn.model_selection import RandomizedSearchCV\n",
    "params = {\n",
    "        'gamma': [0, 1, 5],\n",
    "        'learning_rate': [0.01,0.05,0.1],\n",
    "        'subsample':[0.8,0.9,1]\n",
    "        }\n",
    "random_search = RandomizedSearchCV(XGBClassifier(n_estimators=13,max_depth=10), param_distributions=params, n_iter=10, scoring='f1')\n",
    "%time random_search.fit(final_tfidf_train,y_train)"
   ]
  },
  {
   "cell_type": "code",
   "execution_count": 103,
   "metadata": {
    "colab": {},
    "colab_type": "code",
    "id": "EPO3EgQlVALk",
    "outputId": "df17af7a-bf6f-4ef8-f06e-5ea889a42dce"
   },
   "outputs": [
    {
     "name": "stdout",
     "output_type": "stream",
     "text": [
      "Accuracy for learning rate: 0.1 ,n_estimators: 5\n",
      "87.05328320230906\n",
      "[[ 1670  2891]\n",
      " [  518 21252]]\n"
     ]
    },
    {
     "data": {
      "image/png": "[encoded data removed]",
      "text/plain": [
       "<Figure size 432x288 with 2 Axes>"
      ]
     },
     "metadata": {},
     "output_type": "display_data"
    }
   ],
   "source": [
    "from sklearn.metrics import accuracy_score\n",
    "optimal_param=random_search.best_params_ \n",
    "pre=random_search.predict(final_tfidf_test)\n",
    "acc = accuracy_score(y_test, pre) * 100\n",
    "print(\"Accuracy for learning rate:\",optimal_param['learning_rate'],',n_estimators:',optimal_param['gamma'])\n",
    "print(acc)\n",
    "import sklearn.metrics\n",
    "import seaborn\n",
    "conf_matr=confusion_matrix(y_test,pre)\n",
    "seaborn.heatmap(conf_matr,annot=True,fmt='g')\n",
    "print(conf_matr)"
   ]
  },
  {
   "cell_type": "code",
   "execution_count": 104,
   "metadata": {},
   "outputs": [
    {
     "name": "stdout",
     "output_type": "stream",
     "text": [
      "Accuracy for learning rate: 0.1 ,n_estimators: 5\n",
      "88.74385599427102\n",
      "[[ 3603  6017]\n",
      " [  899 50923]]\n"
     ]
    },
    {
     "data": {
      "image/png": "[encoded data removed]",
      "text/plain": [
       "<Figure size 432x288 with 2 Axes>"
      ]
     },
     "metadata": {},
     "output_type": "display_data"
    }
   ],
   "source": [
    "from sklearn.metrics import accuracy_score\n",
    "optimal_param=random_search.best_params_ \n",
    "pre=random_search.predict(final_tfidf_train)\n",
    "acc = accuracy_score(y_train, pre) * 100\n",
    "print(\"Accuracy for learning rate:\",optimal_param['learning_rate'],',n_estimators:',optimal_param['gamma'])\n",
    "print(acc)\n",
    "import sklearn.metrics\n",
    "import seaborn\n",
    "conf_matr=confusion_matrix(y_train,pre)\n",
    "seaborn.heatmap(conf_matr,annot=True,fmt='g')\n",
    "print(conf_matr)"
   ]
  },
  {
   "cell_type": "code",
   "execution_count": 105,
   "metadata": {
    "colab": {},
    "colab_type": "code",
    "id": "R9dVWVLyVALl",
    "outputId": "8604d777-b44f-4dd6-a7fc-10cf5885d0fa"
   },
   "outputs": [
    {
     "data": {
      "image/png": "[encoded data removed]",
      "text/plain": [
       "<Figure size 432x288 with 1 Axes>"
      ]
     },
     "metadata": {},
     "output_type": "display_data"
    }
   ],
   "source": [
    "from sklearn.calibration import CalibratedClassifierCV\n",
    "caliberated=CalibratedClassifierCV(random_search.best_estimator_, method='sigmoid', cv=5)\n",
    "caliberated.fit(final_tfidf_train,y_train)\n",
    "train_calb_probs=caliberated.predict_proba(final_tfidf_train)\n",
    "calb_probs=caliberated.predict_proba(final_tfidf_test)\n",
    "from sklearn.metrics import roc_curve,roc_auc_score\n",
    "fpr_train, tpr_train, _ = roc_curve(y_train,train_calb_probs[:,1])\n",
    "fpr_test, tpr_test, _ = roc_curve(y_test,calb_probs[:,1])\n",
    "roc_auc_train =roc_auc_score(y_train,train_calb_probs[:,1])\n",
    "roc_auc_test = roc_auc_score(y_test,calb_probs[:,1])\n",
    "plt.figure()\n",
    "plt.plot(fpr_test, tpr_test, color='darkorange', label='ROC curve for test data(area = %0.2f)' % roc_auc_test)\n",
    "plt.plot(fpr_train, tpr_train, color='red', label='ROC curve for train data (area = %0.2f)' % roc_auc_train)\n",
    "plt.plot([0, 1], [0, 1], color='navy', linestyle='--')\n",
    "plt.xlim([0.0, 1.0])\n",
    "plt.ylim([0.0, 1.05])\n",
    "plt.xlabel('False Positive Rate')\n",
    "plt.ylabel('True Positive Rate')\n",
    "plt.title('Receiver operating characteristic')\n",
    "plt.legend(loc=\"lower right\")\n",
    "plt.show()"
   ]
  },
  {
   "cell_type": "code",
   "execution_count": 5,
   "metadata": {},
   "outputs": [
    {
     "name": "stdout",
     "output_type": "stream",
     "text": [
      "['not' 'great' 'disappointed' 'bad' 'horrible' 'best' 'good' 'money''love' 'waste' 'delicious' 'would' 'taste' 'thought' 'away' 'received' 'product' 'like' 'perfect' 'excellent']\n"
     ]
    }
   ],
   "source": [
    "print(np.take(tf_idf_vect.get_feature_names(),np.argsort(-rf_random.best_estimator_.feature_importances_)[:20]))"
   ]
  },
  {
   "cell_type": "markdown",
   "metadata": {
    "colab_type": "text",
    "id": "q2xL33Y3VALo"
   },
   "source": [
    "### [5.2.3] Applying XGBOOST on AVG W2V,<font color='red'> SET 3</font>"
   ]
  },
  {
   "cell_type": "code",
   "execution_count": 106,
   "metadata": {
    "colab": {},
    "colab_type": "code",
    "id": "NgB6FJuYVALo",
    "outputId": "0c477c38-5258-446b-f5f4-b7e784e819fd"
   },
   "outputs": [
    {
     "name": "stdout",
     "output_type": "stream",
     "text": [
      "[0]\tvalidation_0-auc:0.820291\tvalidation_1-auc:0.80424\n",
      "Multiple eval metrics have been passed: 'validation_1-auc' will be used for early stopping.\n",
      "\n",
      "Will train until validation_1-auc hasn't improved in 10 rounds.\n",
      "[1]\tvalidation_0-auc:0.860111\tvalidation_1-auc:0.84406\n",
      "[2]\tvalidation_0-auc:0.887923\tvalidation_1-auc:0.872557\n",
      "[3]\tvalidation_0-auc:0.894834\tvalidation_1-auc:0.880576\n",
      "[4]\tvalidation_0-auc:0.897947\tvalidation_1-auc:0.881831\n",
      "[5]\tvalidation_0-auc:0.905811\tvalidation_1-auc:0.890087\n",
      "[6]\tvalidation_0-auc:0.907589\tvalidation_1-auc:0.892202\n",
      "[7]\tvalidation_0-auc:0.909098\tvalidation_1-auc:0.894026\n",
      "[8]\tvalidation_0-auc:0.911817\tvalidation_1-auc:0.89649\n",
      "[9]\tvalidation_0-auc:0.911395\tvalidation_1-auc:0.895684\n",
      "[10]\tvalidation_0-auc:0.911047\tvalidation_1-auc:0.895425\n",
      "[11]\tvalidation_0-auc:0.913134\tvalidation_1-auc:0.897473\n",
      "[12]\tvalidation_0-auc:0.91448\tvalidation_1-auc:0.899184\n",
      "[13]\tvalidation_0-auc:0.914071\tvalidation_1-auc:0.898908\n",
      "[14]\tvalidation_0-auc:0.915039\tvalidation_1-auc:0.899425\n",
      "[15]\tvalidation_0-auc:0.915506\tvalidation_1-auc:0.899784\n",
      "[16]\tvalidation_0-auc:0.91675\tvalidation_1-auc:0.901662\n",
      "[17]\tvalidation_0-auc:0.917123\tvalidation_1-auc:0.901657\n",
      "[18]\tvalidation_0-auc:0.916855\tvalidation_1-auc:0.901689\n",
      "[19]\tvalidation_0-auc:0.9182\tvalidation_1-auc:0.903127\n",
      "[20]\tvalidation_0-auc:0.917726\tvalidation_1-auc:0.903027\n",
      "[21]\tvalidation_0-auc:0.918364\tvalidation_1-auc:0.903973\n",
      "[22]\tvalidation_0-auc:0.918317\tvalidation_1-auc:0.904022\n",
      "[23]\tvalidation_0-auc:0.917746\tvalidation_1-auc:0.90345\n",
      "[24]\tvalidation_0-auc:0.917374\tvalidation_1-auc:0.903092\n",
      "[25]\tvalidation_0-auc:0.917156\tvalidation_1-auc:0.903089\n",
      "[26]\tvalidation_0-auc:0.917997\tvalidation_1-auc:0.904007\n",
      "[27]\tvalidation_0-auc:0.919064\tvalidation_1-auc:0.905104\n",
      "[28]\tvalidation_0-auc:0.918949\tvalidation_1-auc:0.90493\n",
      "[29]\tvalidation_0-auc:0.918743\tvalidation_1-auc:0.904762\n",
      "[30]\tvalidation_0-auc:0.918401\tvalidation_1-auc:0.904472\n",
      "[31]\tvalidation_0-auc:0.917906\tvalidation_1-auc:0.903807\n",
      "[32]\tvalidation_0-auc:0.917775\tvalidation_1-auc:0.903726\n",
      "[33]\tvalidation_0-auc:0.9184\tvalidation_1-auc:0.904407\n",
      "[34]\tvalidation_0-auc:0.918827\tvalidation_1-auc:0.904859\n",
      "[35]\tvalidation_0-auc:0.919163\tvalidation_1-auc:0.905174\n",
      "[36]\tvalidation_0-auc:0.919077\tvalidation_1-auc:0.905212\n",
      "[37]\tvalidation_0-auc:0.919347\tvalidation_1-auc:0.905392\n",
      "[38]\tvalidation_0-auc:0.920072\tvalidation_1-auc:0.906028\n",
      "[39]\tvalidation_0-auc:0.919777\tvalidation_1-auc:0.905807\n",
      "[40]\tvalidation_0-auc:0.920146\tvalidation_1-auc:0.905975\n",
      "[41]\tvalidation_0-auc:0.9198\tvalidation_1-auc:0.905526\n",
      "[42]\tvalidation_0-auc:0.92017\tvalidation_1-auc:0.905845\n",
      "[43]\tvalidation_0-auc:0.920264\tvalidation_1-auc:0.905959\n",
      "[44]\tvalidation_0-auc:0.920341\tvalidation_1-auc:0.905891\n",
      "[45]\tvalidation_0-auc:0.920285\tvalidation_1-auc:0.905846\n",
      "[46]\tvalidation_0-auc:0.920985\tvalidation_1-auc:0.906588\n",
      "[47]\tvalidation_0-auc:0.921554\tvalidation_1-auc:0.907348\n",
      "[48]\tvalidation_0-auc:0.921404\tvalidation_1-auc:0.907353\n",
      "[49]\tvalidation_0-auc:0.921659\tvalidation_1-auc:0.907788\n",
      "[50]\tvalidation_0-auc:0.921853\tvalidation_1-auc:0.907973\n",
      "[51]\tvalidation_0-auc:0.921901\tvalidation_1-auc:0.908059\n",
      "[52]\tvalidation_0-auc:0.921924\tvalidation_1-auc:0.908095\n",
      "[53]\tvalidation_0-auc:0.922649\tvalidation_1-auc:0.908868\n",
      "[54]\tvalidation_0-auc:0.922694\tvalidation_1-auc:0.908945\n",
      "[55]\tvalidation_0-auc:0.922996\tvalidation_1-auc:0.90923\n",
      "[56]\tvalidation_0-auc:0.923163\tvalidation_1-auc:0.909392\n",
      "[57]\tvalidation_0-auc:0.923434\tvalidation_1-auc:0.909734\n",
      "[58]\tvalidation_0-auc:0.923701\tvalidation_1-auc:0.910002\n",
      "[59]\tvalidation_0-auc:0.923999\tvalidation_1-auc:0.91042\n",
      "[60]\tvalidation_0-auc:0.923956\tvalidation_1-auc:0.910349\n",
      "[61]\tvalidation_0-auc:0.923938\tvalidation_1-auc:0.910334\n",
      "[62]\tvalidation_0-auc:0.92408\tvalidation_1-auc:0.910468\n",
      "[63]\tvalidation_0-auc:0.923878\tvalidation_1-auc:0.910304\n",
      "[64]\tvalidation_0-auc:0.923838\tvalidation_1-auc:0.910269\n",
      "[65]\tvalidation_0-auc:0.92368\tvalidation_1-auc:0.910177\n",
      "[66]\tvalidation_0-auc:0.923801\tvalidation_1-auc:0.91027\n",
      "[67]\tvalidation_0-auc:0.924028\tvalidation_1-auc:0.910616\n",
      "[68]\tvalidation_0-auc:0.924068\tvalidation_1-auc:0.910591\n",
      "[69]\tvalidation_0-auc:0.923904\tvalidation_1-auc:0.910432\n",
      "[70]\tvalidation_0-auc:0.923972\tvalidation_1-auc:0.910519\n",
      "[71]\tvalidation_0-auc:0.924126\tvalidation_1-auc:0.91059\n",
      "[72]\tvalidation_0-auc:0.924071\tvalidation_1-auc:0.910515\n",
      "[73]\tvalidation_0-auc:0.924177\tvalidation_1-auc:0.910601\n",
      "[74]\tvalidation_0-auc:0.924316\tvalidation_1-auc:0.910687\n",
      "[75]\tvalidation_0-auc:0.924241\tvalidation_1-auc:0.910597\n",
      "[76]\tvalidation_0-auc:0.924587\tvalidation_1-auc:0.910913\n",
      "[77]\tvalidation_0-auc:0.924716\tvalidation_1-auc:0.91091\n",
      "[78]\tvalidation_0-auc:0.924819\tvalidation_1-auc:0.911096\n",
      "[79]\tvalidation_0-auc:0.924842\tvalidation_1-auc:0.911183\n",
      "[80]\tvalidation_0-auc:0.924944\tvalidation_1-auc:0.911275\n",
      "[81]\tvalidation_0-auc:0.924942\tvalidation_1-auc:0.911286\n",
      "[82]\tvalidation_0-auc:0.924887\tvalidation_1-auc:0.911249\n",
      "[83]\tvalidation_0-auc:0.924779\tvalidation_1-auc:0.911124\n",
      "[84]\tvalidation_0-auc:0.925169\tvalidation_1-auc:0.911557\n",
      "[85]\tvalidation_0-auc:0.925379\tvalidation_1-auc:0.91175\n",
      "[86]\tvalidation_0-auc:0.925528\tvalidation_1-auc:0.911904\n",
      "[87]\tvalidation_0-auc:0.925463\tvalidation_1-auc:0.911786\n",
      "[88]\tvalidation_0-auc:0.92555\tvalidation_1-auc:0.911888\n",
      "[89]\tvalidation_0-auc:0.925509\tvalidation_1-auc:0.911887\n",
      "[90]\tvalidation_0-auc:0.925637\tvalidation_1-auc:0.911994\n",
      "[91]\tvalidation_0-auc:0.925579\tvalidation_1-auc:0.91188\n",
      "[92]\tvalidation_0-auc:0.92542\tvalidation_1-auc:0.911683\n",
      "[93]\tvalidation_0-auc:0.925587\tvalidation_1-auc:0.911777\n",
      "[94]\tvalidation_0-auc:0.925897\tvalidation_1-auc:0.912157\n",
      "[95]\tvalidation_0-auc:0.925937\tvalidation_1-auc:0.912223\n",
      "[96]\tvalidation_0-auc:0.926191\tvalidation_1-auc:0.912366\n",
      "[97]\tvalidation_0-auc:0.926221\tvalidation_1-auc:0.912366\n",
      "[98]\tvalidation_0-auc:0.926357\tvalidation_1-auc:0.912465\n",
      "[99]\tvalidation_0-auc:0.926319\tvalidation_1-auc:0.912389\n",
      "[100]\tvalidation_0-auc:0.926477\tvalidation_1-auc:0.912584\n",
      "[101]\tvalidation_0-auc:0.926677\tvalidation_1-auc:0.912782\n",
      "[102]\tvalidation_0-auc:0.926867\tvalidation_1-auc:0.912863\n",
      "[103]\tvalidation_0-auc:0.926939\tvalidation_1-auc:0.912874\n",
      "[104]\tvalidation_0-auc:0.927116\tvalidation_1-auc:0.913004\n",
      "[105]\tvalidation_0-auc:0.92728\tvalidation_1-auc:0.913181\n",
      "[106]\tvalidation_0-auc:0.927407\tvalidation_1-auc:0.913299\n",
      "[107]\tvalidation_0-auc:0.927481\tvalidation_1-auc:0.913285\n",
      "[108]\tvalidation_0-auc:0.927393\tvalidation_1-auc:0.913195\n",
      "[109]\tvalidation_0-auc:0.927713\tvalidation_1-auc:0.913501\n",
      "[110]\tvalidation_0-auc:0.927654\tvalidation_1-auc:0.913481\n",
      "[111]\tvalidation_0-auc:0.927765\tvalidation_1-auc:0.913608\n",
      "[112]\tvalidation_0-auc:0.928015\tvalidation_1-auc:0.913854\n",
      "[113]\tvalidation_0-auc:0.928082\tvalidation_1-auc:0.913832\n",
      "[114]\tvalidation_0-auc:0.928046\tvalidation_1-auc:0.913798\n",
      "[115]\tvalidation_0-auc:0.928114\tvalidation_1-auc:0.913878\n",
      "[116]\tvalidation_0-auc:0.928054\tvalidation_1-auc:0.91385\n",
      "[117]\tvalidation_0-auc:0.92816\tvalidation_1-auc:0.914006\n",
      "[118]\tvalidation_0-auc:0.928131\tvalidation_1-auc:0.913932\n",
      "[119]\tvalidation_0-auc:0.928179\tvalidation_1-auc:0.914037\n",
      "[120]\tvalidation_0-auc:0.92826\tvalidation_1-auc:0.914109\n",
      "[121]\tvalidation_0-auc:0.928159\tvalidation_1-auc:0.913978\n",
      "[122]\tvalidation_0-auc:0.928383\tvalidation_1-auc:0.914265\n",
      "[123]\tvalidation_0-auc:0.928394\tvalidation_1-auc:0.91421\n",
      "[124]\tvalidation_0-auc:0.928329\tvalidation_1-auc:0.914177\n",
      "[125]\tvalidation_0-auc:0.928319\tvalidation_1-auc:0.914181\n",
      "[126]\tvalidation_0-auc:0.928418\tvalidation_1-auc:0.914255\n",
      "[127]\tvalidation_0-auc:0.928378\tvalidation_1-auc:0.914179\n",
      "[128]\tvalidation_0-auc:0.928362\tvalidation_1-auc:0.914147\n",
      "[129]\tvalidation_0-auc:0.928431\tvalidation_1-auc:0.914177\n",
      "[130]\tvalidation_0-auc:0.928495\tvalidation_1-auc:0.914259\n",
      "[131]\tvalidation_0-auc:0.928621\tvalidation_1-auc:0.914413\n",
      "[132]\tvalidation_0-auc:0.928757\tvalidation_1-auc:0.914547\n",
      "[133]\tvalidation_0-auc:0.928783\tvalidation_1-auc:0.914522\n",
      "[134]\tvalidation_0-auc:0.928836\tvalidation_1-auc:0.914564\n",
      "[135]\tvalidation_0-auc:0.928981\tvalidation_1-auc:0.914772\n",
      "[136]\tvalidation_0-auc:0.92897\tvalidation_1-auc:0.914688\n",
      "[137]\tvalidation_0-auc:0.92909\tvalidation_1-auc:0.914767\n",
      "[138]\tvalidation_0-auc:0.929308\tvalidation_1-auc:0.915022\n",
      "[139]\tvalidation_0-auc:0.929438\tvalidation_1-auc:0.915078\n",
      "[140]\tvalidation_0-auc:0.929449\tvalidation_1-auc:0.915104\n"
     ]
    },
    {
     "name": "stdout",
     "output_type": "stream",
     "text": [
      "[141]\tvalidation_0-auc:0.929467\tvalidation_1-auc:0.915111\n",
      "[142]\tvalidation_0-auc:0.92957\tvalidation_1-auc:0.915167\n",
      "[143]\tvalidation_0-auc:0.929552\tvalidation_1-auc:0.915175\n",
      "[144]\tvalidation_0-auc:0.929655\tvalidation_1-auc:0.915266\n",
      "[145]\tvalidation_0-auc:0.929716\tvalidation_1-auc:0.915332\n",
      "[146]\tvalidation_0-auc:0.929868\tvalidation_1-auc:0.915471\n",
      "[147]\tvalidation_0-auc:0.929936\tvalidation_1-auc:0.915555\n",
      "[148]\tvalidation_0-auc:0.930025\tvalidation_1-auc:0.915664\n",
      "[149]\tvalidation_0-auc:0.930127\tvalidation_1-auc:0.915764\n",
      "[150]\tvalidation_0-auc:0.930122\tvalidation_1-auc:0.915775\n",
      "[151]\tvalidation_0-auc:0.930148\tvalidation_1-auc:0.915809\n",
      "[152]\tvalidation_0-auc:0.930256\tvalidation_1-auc:0.915858\n",
      "[153]\tvalidation_0-auc:0.930419\tvalidation_1-auc:0.916013\n",
      "[154]\tvalidation_0-auc:0.930484\tvalidation_1-auc:0.916063\n",
      "[155]\tvalidation_0-auc:0.93049\tvalidation_1-auc:0.916029\n",
      "[156]\tvalidation_0-auc:0.930611\tvalidation_1-auc:0.91612\n",
      "[157]\tvalidation_0-auc:0.930716\tvalidation_1-auc:0.916217\n",
      "[158]\tvalidation_0-auc:0.930822\tvalidation_1-auc:0.91632\n",
      "[159]\tvalidation_0-auc:0.93096\tvalidation_1-auc:0.916397\n",
      "[160]\tvalidation_0-auc:0.930963\tvalidation_1-auc:0.916423\n",
      "[161]\tvalidation_0-auc:0.931022\tvalidation_1-auc:0.916506\n",
      "[162]\tvalidation_0-auc:0.931075\tvalidation_1-auc:0.916571\n",
      "[163]\tvalidation_0-auc:0.931116\tvalidation_1-auc:0.916584\n",
      "[164]\tvalidation_0-auc:0.93124\tvalidation_1-auc:0.916725\n",
      "[165]\tvalidation_0-auc:0.931292\tvalidation_1-auc:0.916787\n",
      "[166]\tvalidation_0-auc:0.931278\tvalidation_1-auc:0.916748\n",
      "[167]\tvalidation_0-auc:0.931405\tvalidation_1-auc:0.916869\n",
      "[168]\tvalidation_0-auc:0.931453\tvalidation_1-auc:0.916931\n",
      "[169]\tvalidation_0-auc:0.93148\tvalidation_1-auc:0.916967\n",
      "[170]\tvalidation_0-auc:0.93147\tvalidation_1-auc:0.916953\n",
      "[171]\tvalidation_0-auc:0.931585\tvalidation_1-auc:0.917033\n",
      "[172]\tvalidation_0-auc:0.9317\tvalidation_1-auc:0.917125\n",
      "[173]\tvalidation_0-auc:0.931841\tvalidation_1-auc:0.917242\n",
      "[174]\tvalidation_0-auc:0.931869\tvalidation_1-auc:0.917256\n",
      "[175]\tvalidation_0-auc:0.931902\tvalidation_1-auc:0.917294\n",
      "[176]\tvalidation_0-auc:0.931935\tvalidation_1-auc:0.917309\n",
      "[177]\tvalidation_0-auc:0.931948\tvalidation_1-auc:0.917305\n",
      "[178]\tvalidation_0-auc:0.932065\tvalidation_1-auc:0.917405\n",
      "[179]\tvalidation_0-auc:0.932191\tvalidation_1-auc:0.917533\n",
      "[180]\tvalidation_0-auc:0.932279\tvalidation_1-auc:0.91756\n",
      "[181]\tvalidation_0-auc:0.932292\tvalidation_1-auc:0.917563\n",
      "[182]\tvalidation_0-auc:0.932339\tvalidation_1-auc:0.917612\n",
      "[183]\tvalidation_0-auc:0.93233\tvalidation_1-auc:0.91762\n",
      "[184]\tvalidation_0-auc:0.932472\tvalidation_1-auc:0.917725\n",
      "[185]\tvalidation_0-auc:0.932587\tvalidation_1-auc:0.917809\n",
      "[186]\tvalidation_0-auc:0.932581\tvalidation_1-auc:0.917787\n",
      "[187]\tvalidation_0-auc:0.932564\tvalidation_1-auc:0.917769\n",
      "[188]\tvalidation_0-auc:0.932628\tvalidation_1-auc:0.91783\n",
      "[189]\tvalidation_0-auc:0.93275\tvalidation_1-auc:0.91788\n",
      "[190]\tvalidation_0-auc:0.932782\tvalidation_1-auc:0.917918\n",
      "[191]\tvalidation_0-auc:0.932843\tvalidation_1-auc:0.917991\n",
      "[192]\tvalidation_0-auc:0.932889\tvalidation_1-auc:0.91804\n",
      "[193]\tvalidation_0-auc:0.933071\tvalidation_1-auc:0.91823\n",
      "[194]\tvalidation_0-auc:0.933081\tvalidation_1-auc:0.918227\n",
      "[195]\tvalidation_0-auc:0.933119\tvalidation_1-auc:0.918244\n",
      "[196]\tvalidation_0-auc:0.933157\tvalidation_1-auc:0.918275\n",
      "[197]\tvalidation_0-auc:0.933208\tvalidation_1-auc:0.918329\n",
      "[198]\tvalidation_0-auc:0.933221\tvalidation_1-auc:0.918356\n",
      "[199]\tvalidation_0-auc:0.933228\tvalidation_1-auc:0.91832\n",
      "[200]\tvalidation_0-auc:0.933244\tvalidation_1-auc:0.918307\n",
      "[201]\tvalidation_0-auc:0.933318\tvalidation_1-auc:0.918359\n",
      "[202]\tvalidation_0-auc:0.933412\tvalidation_1-auc:0.918428\n",
      "[203]\tvalidation_0-auc:0.933533\tvalidation_1-auc:0.91852\n",
      "[204]\tvalidation_0-auc:0.933637\tvalidation_1-auc:0.918587\n",
      "[205]\tvalidation_0-auc:0.933623\tvalidation_1-auc:0.918558\n",
      "[206]\tvalidation_0-auc:0.933652\tvalidation_1-auc:0.918595\n",
      "[207]\tvalidation_0-auc:0.933709\tvalidation_1-auc:0.918675\n",
      "[208]\tvalidation_0-auc:0.933738\tvalidation_1-auc:0.918702\n",
      "[209]\tvalidation_0-auc:0.933756\tvalidation_1-auc:0.91871\n",
      "[210]\tvalidation_0-auc:0.933793\tvalidation_1-auc:0.918791\n",
      "[211]\tvalidation_0-auc:0.933831\tvalidation_1-auc:0.918845\n",
      "[212]\tvalidation_0-auc:0.933824\tvalidation_1-auc:0.918851\n",
      "[213]\tvalidation_0-auc:0.933903\tvalidation_1-auc:0.91892\n",
      "[214]\tvalidation_0-auc:0.933953\tvalidation_1-auc:0.918983\n",
      "[215]\tvalidation_0-auc:0.933963\tvalidation_1-auc:0.918981\n",
      "[216]\tvalidation_0-auc:0.933989\tvalidation_1-auc:0.919033\n",
      "[217]\tvalidation_0-auc:0.934067\tvalidation_1-auc:0.919104\n",
      "[218]\tvalidation_0-auc:0.934162\tvalidation_1-auc:0.919177\n",
      "[219]\tvalidation_0-auc:0.934211\tvalidation_1-auc:0.919223\n",
      "[220]\tvalidation_0-auc:0.934268\tvalidation_1-auc:0.919293\n",
      "[221]\tvalidation_0-auc:0.93428\tvalidation_1-auc:0.919291\n",
      "[222]\tvalidation_0-auc:0.934296\tvalidation_1-auc:0.919331\n",
      "[223]\tvalidation_0-auc:0.934331\tvalidation_1-auc:0.919387\n",
      "[224]\tvalidation_0-auc:0.934363\tvalidation_1-auc:0.919418\n",
      "[225]\tvalidation_0-auc:0.934355\tvalidation_1-auc:0.919404\n",
      "[226]\tvalidation_0-auc:0.934419\tvalidation_1-auc:0.919456\n",
      "[227]\tvalidation_0-auc:0.934478\tvalidation_1-auc:0.919517\n",
      "[228]\tvalidation_0-auc:0.934522\tvalidation_1-auc:0.919578\n",
      "[229]\tvalidation_0-auc:0.934622\tvalidation_1-auc:0.919657\n",
      "[230]\tvalidation_0-auc:0.934641\tvalidation_1-auc:0.919661\n",
      "[231]\tvalidation_0-auc:0.934667\tvalidation_1-auc:0.919686\n",
      "[232]\tvalidation_0-auc:0.934707\tvalidation_1-auc:0.919705\n",
      "[233]\tvalidation_0-auc:0.934736\tvalidation_1-auc:0.919748\n",
      "[234]\tvalidation_0-auc:0.934843\tvalidation_1-auc:0.919835\n",
      "[235]\tvalidation_0-auc:0.934887\tvalidation_1-auc:0.91986\n",
      "[236]\tvalidation_0-auc:0.934897\tvalidation_1-auc:0.919852\n",
      "[237]\tvalidation_0-auc:0.934975\tvalidation_1-auc:0.919918\n",
      "[238]\tvalidation_0-auc:0.935029\tvalidation_1-auc:0.919964\n",
      "[239]\tvalidation_0-auc:0.935111\tvalidation_1-auc:0.920013\n",
      "[240]\tvalidation_0-auc:0.935125\tvalidation_1-auc:0.92\n",
      "[241]\tvalidation_0-auc:0.935149\tvalidation_1-auc:0.920023\n",
      "[242]\tvalidation_0-auc:0.935203\tvalidation_1-auc:0.920101\n",
      "[243]\tvalidation_0-auc:0.93523\tvalidation_1-auc:0.920135\n",
      "[244]\tvalidation_0-auc:0.935226\tvalidation_1-auc:0.920133\n",
      "[245]\tvalidation_0-auc:0.935255\tvalidation_1-auc:0.920152\n",
      "[246]\tvalidation_0-auc:0.935315\tvalidation_1-auc:0.920196\n",
      "[247]\tvalidation_0-auc:0.935335\tvalidation_1-auc:0.920184\n",
      "[248]\tvalidation_0-auc:0.935421\tvalidation_1-auc:0.920279\n",
      "[249]\tvalidation_0-auc:0.935512\tvalidation_1-auc:0.920351\n",
      "[250]\tvalidation_0-auc:0.935525\tvalidation_1-auc:0.920353\n",
      "[251]\tvalidation_0-auc:0.935561\tvalidation_1-auc:0.920366\n",
      "[252]\tvalidation_0-auc:0.93562\tvalidation_1-auc:0.920407\n",
      "[253]\tvalidation_0-auc:0.935704\tvalidation_1-auc:0.920464\n",
      "[254]\tvalidation_0-auc:0.935721\tvalidation_1-auc:0.920485\n",
      "[255]\tvalidation_0-auc:0.935827\tvalidation_1-auc:0.920568\n",
      "[256]\tvalidation_0-auc:0.935841\tvalidation_1-auc:0.920578\n",
      "[257]\tvalidation_0-auc:0.935914\tvalidation_1-auc:0.920653\n",
      "[258]\tvalidation_0-auc:0.935963\tvalidation_1-auc:0.920697\n",
      "[259]\tvalidation_0-auc:0.93606\tvalidation_1-auc:0.92077\n",
      "[260]\tvalidation_0-auc:0.936102\tvalidation_1-auc:0.920802\n",
      "[261]\tvalidation_0-auc:0.936168\tvalidation_1-auc:0.920837\n",
      "[262]\tvalidation_0-auc:0.936188\tvalidation_1-auc:0.920831\n",
      "[263]\tvalidation_0-auc:0.9362\tvalidation_1-auc:0.920862\n",
      "[264]\tvalidation_0-auc:0.936265\tvalidation_1-auc:0.920926\n",
      "[265]\tvalidation_0-auc:0.936294\tvalidation_1-auc:0.920928\n",
      "[266]\tvalidation_0-auc:0.936398\tvalidation_1-auc:0.921027\n",
      "[267]\tvalidation_0-auc:0.936483\tvalidation_1-auc:0.921111\n",
      "[268]\tvalidation_0-auc:0.936552\tvalidation_1-auc:0.921161\n",
      "[269]\tvalidation_0-auc:0.936617\tvalidation_1-auc:0.921208\n",
      "[270]\tvalidation_0-auc:0.936702\tvalidation_1-auc:0.921266\n",
      "[271]\tvalidation_0-auc:0.936788\tvalidation_1-auc:0.921371\n",
      "[272]\tvalidation_0-auc:0.936871\tvalidation_1-auc:0.92146\n",
      "[273]\tvalidation_0-auc:0.936911\tvalidation_1-auc:0.921505\n",
      "[274]\tvalidation_0-auc:0.936985\tvalidation_1-auc:0.921557\n",
      "[275]\tvalidation_0-auc:0.937068\tvalidation_1-auc:0.921615\n",
      "[276]\tvalidation_0-auc:0.937165\tvalidation_1-auc:0.921699\n",
      "[277]\tvalidation_0-auc:0.937207\tvalidation_1-auc:0.921715\n",
      "[278]\tvalidation_0-auc:0.937214\tvalidation_1-auc:0.921726\n",
      "[279]\tvalidation_0-auc:0.937252\tvalidation_1-auc:0.921784\n",
      "[280]\tvalidation_0-auc:0.937311\tvalidation_1-auc:0.921849\n",
      "[281]\tvalidation_0-auc:0.937364\tvalidation_1-auc:0.921898\n",
      "[282]\tvalidation_0-auc:0.937431\tvalidation_1-auc:0.921961\n"
     ]
    },
    {
     "name": "stdout",
     "output_type": "stream",
     "text": [
      "[283]\tvalidation_0-auc:0.937526\tvalidation_1-auc:0.922041\n",
      "[284]\tvalidation_0-auc:0.937569\tvalidation_1-auc:0.922081\n",
      "[285]\tvalidation_0-auc:0.937674\tvalidation_1-auc:0.922164\n",
      "[286]\tvalidation_0-auc:0.937715\tvalidation_1-auc:0.922216\n",
      "[287]\tvalidation_0-auc:0.937764\tvalidation_1-auc:0.922252\n",
      "[288]\tvalidation_0-auc:0.937841\tvalidation_1-auc:0.922321\n",
      "[289]\tvalidation_0-auc:0.937895\tvalidation_1-auc:0.922349\n",
      "[290]\tvalidation_0-auc:0.937934\tvalidation_1-auc:0.922388\n",
      "[291]\tvalidation_0-auc:0.93799\tvalidation_1-auc:0.922435\n",
      "[292]\tvalidation_0-auc:0.938031\tvalidation_1-auc:0.922466\n",
      "[293]\tvalidation_0-auc:0.938122\tvalidation_1-auc:0.922522\n",
      "[294]\tvalidation_0-auc:0.938188\tvalidation_1-auc:0.922536\n",
      "[295]\tvalidation_0-auc:0.938254\tvalidation_1-auc:0.922583\n",
      "[296]\tvalidation_0-auc:0.938285\tvalidation_1-auc:0.922615\n",
      "[297]\tvalidation_0-auc:0.938321\tvalidation_1-auc:0.922622\n",
      "[298]\tvalidation_0-auc:0.938361\tvalidation_1-auc:0.922656\n",
      "[299]\tvalidation_0-auc:0.938436\tvalidation_1-auc:0.922726\n",
      "[300]\tvalidation_0-auc:0.938519\tvalidation_1-auc:0.922759\n",
      "[301]\tvalidation_0-auc:0.938546\tvalidation_1-auc:0.922778\n",
      "[302]\tvalidation_0-auc:0.938557\tvalidation_1-auc:0.922801\n",
      "[303]\tvalidation_0-auc:0.938594\tvalidation_1-auc:0.922842\n",
      "[304]\tvalidation_0-auc:0.938591\tvalidation_1-auc:0.922839\n",
      "[305]\tvalidation_0-auc:0.938647\tvalidation_1-auc:0.92288\n",
      "[306]\tvalidation_0-auc:0.9387\tvalidation_1-auc:0.922931\n",
      "[307]\tvalidation_0-auc:0.938802\tvalidation_1-auc:0.923007\n",
      "[308]\tvalidation_0-auc:0.938865\tvalidation_1-auc:0.923052\n",
      "[309]\tvalidation_0-auc:0.938941\tvalidation_1-auc:0.923112\n",
      "[310]\tvalidation_0-auc:0.938962\tvalidation_1-auc:0.923128\n",
      "[311]\tvalidation_0-auc:0.939049\tvalidation_1-auc:0.923202\n",
      "[312]\tvalidation_0-auc:0.939066\tvalidation_1-auc:0.923216\n",
      "[313]\tvalidation_0-auc:0.939109\tvalidation_1-auc:0.923261\n",
      "[314]\tvalidation_0-auc:0.939156\tvalidation_1-auc:0.92328\n",
      "[315]\tvalidation_0-auc:0.939212\tvalidation_1-auc:0.923326\n",
      "[316]\tvalidation_0-auc:0.939245\tvalidation_1-auc:0.923353\n",
      "[317]\tvalidation_0-auc:0.939284\tvalidation_1-auc:0.923361\n",
      "[318]\tvalidation_0-auc:0.939312\tvalidation_1-auc:0.923396\n",
      "[319]\tvalidation_0-auc:0.939338\tvalidation_1-auc:0.923434\n",
      "[320]\tvalidation_0-auc:0.939391\tvalidation_1-auc:0.923472\n",
      "[321]\tvalidation_0-auc:0.939438\tvalidation_1-auc:0.923522\n",
      "[322]\tvalidation_0-auc:0.939507\tvalidation_1-auc:0.923575\n",
      "[323]\tvalidation_0-auc:0.939569\tvalidation_1-auc:0.923604\n",
      "[324]\tvalidation_0-auc:0.939603\tvalidation_1-auc:0.923622\n",
      "[325]\tvalidation_0-auc:0.939638\tvalidation_1-auc:0.923643\n",
      "[326]\tvalidation_0-auc:0.939678\tvalidation_1-auc:0.92367\n",
      "[327]\tvalidation_0-auc:0.93975\tvalidation_1-auc:0.923734\n",
      "[328]\tvalidation_0-auc:0.9398\tvalidation_1-auc:0.923761\n",
      "[329]\tvalidation_0-auc:0.93983\tvalidation_1-auc:0.923819\n",
      "[330]\tvalidation_0-auc:0.939863\tvalidation_1-auc:0.923859\n",
      "[331]\tvalidation_0-auc:0.939974\tvalidation_1-auc:0.923963\n",
      "[332]\tvalidation_0-auc:0.940021\tvalidation_1-auc:0.92399\n",
      "[333]\tvalidation_0-auc:0.940082\tvalidation_1-auc:0.924029\n",
      "[334]\tvalidation_0-auc:0.940123\tvalidation_1-auc:0.924084\n",
      "[335]\tvalidation_0-auc:0.940183\tvalidation_1-auc:0.924128\n",
      "[336]\tvalidation_0-auc:0.940203\tvalidation_1-auc:0.924162\n",
      "[337]\tvalidation_0-auc:0.940293\tvalidation_1-auc:0.92427\n",
      "[338]\tvalidation_0-auc:0.94035\tvalidation_1-auc:0.92432\n",
      "[339]\tvalidation_0-auc:0.940399\tvalidation_1-auc:0.924378\n",
      "[340]\tvalidation_0-auc:0.940411\tvalidation_1-auc:0.924396\n",
      "[341]\tvalidation_0-auc:0.940457\tvalidation_1-auc:0.924435\n",
      "[342]\tvalidation_0-auc:0.940518\tvalidation_1-auc:0.924484\n",
      "[343]\tvalidation_0-auc:0.940567\tvalidation_1-auc:0.924524\n",
      "[344]\tvalidation_0-auc:0.940634\tvalidation_1-auc:0.924562\n",
      "[345]\tvalidation_0-auc:0.940664\tvalidation_1-auc:0.92459\n",
      "[346]\tvalidation_0-auc:0.940726\tvalidation_1-auc:0.924657\n",
      "[347]\tvalidation_0-auc:0.940791\tvalidation_1-auc:0.924717\n",
      "[348]\tvalidation_0-auc:0.940836\tvalidation_1-auc:0.924761\n",
      "[349]\tvalidation_0-auc:0.94088\tvalidation_1-auc:0.92478\n",
      "[350]\tvalidation_0-auc:0.940894\tvalidation_1-auc:0.924799\n",
      "[351]\tvalidation_0-auc:0.940935\tvalidation_1-auc:0.924832\n",
      "[352]\tvalidation_0-auc:0.940986\tvalidation_1-auc:0.924897\n",
      "[353]\tvalidation_0-auc:0.941015\tvalidation_1-auc:0.924941\n",
      "[354]\tvalidation_0-auc:0.941088\tvalidation_1-auc:0.924988\n",
      "[355]\tvalidation_0-auc:0.941141\tvalidation_1-auc:0.925032\n",
      "[356]\tvalidation_0-auc:0.941214\tvalidation_1-auc:0.92511\n",
      "[357]\tvalidation_0-auc:0.941262\tvalidation_1-auc:0.925146\n",
      "[358]\tvalidation_0-auc:0.941272\tvalidation_1-auc:0.925169\n",
      "[359]\tvalidation_0-auc:0.941293\tvalidation_1-auc:0.925185\n",
      "[360]\tvalidation_0-auc:0.941365\tvalidation_1-auc:0.925238\n",
      "[361]\tvalidation_0-auc:0.941424\tvalidation_1-auc:0.925284\n",
      "[362]\tvalidation_0-auc:0.941469\tvalidation_1-auc:0.925337\n",
      "[363]\tvalidation_0-auc:0.94152\tvalidation_1-auc:0.925373\n",
      "[364]\tvalidation_0-auc:0.941562\tvalidation_1-auc:0.925404\n",
      "[365]\tvalidation_0-auc:0.941597\tvalidation_1-auc:0.925431\n",
      "[366]\tvalidation_0-auc:0.941654\tvalidation_1-auc:0.92551\n",
      "[367]\tvalidation_0-auc:0.941704\tvalidation_1-auc:0.925549\n",
      "[368]\tvalidation_0-auc:0.941762\tvalidation_1-auc:0.925603\n",
      "[369]\tvalidation_0-auc:0.941812\tvalidation_1-auc:0.925661\n",
      "[370]\tvalidation_0-auc:0.941873\tvalidation_1-auc:0.925707\n",
      "[371]\tvalidation_0-auc:0.941919\tvalidation_1-auc:0.925756\n",
      "[372]\tvalidation_0-auc:0.941926\tvalidation_1-auc:0.925763\n",
      "[373]\tvalidation_0-auc:0.941974\tvalidation_1-auc:0.925787\n",
      "[374]\tvalidation_0-auc:0.942043\tvalidation_1-auc:0.92584\n",
      "[375]\tvalidation_0-auc:0.94212\tvalidation_1-auc:0.925898\n",
      "[376]\tvalidation_0-auc:0.942172\tvalidation_1-auc:0.92596\n",
      "[377]\tvalidation_0-auc:0.942199\tvalidation_1-auc:0.925995\n",
      "[378]\tvalidation_0-auc:0.94222\tvalidation_1-auc:0.926018\n",
      "[379]\tvalidation_0-auc:0.942277\tvalidation_1-auc:0.926069\n",
      "[380]\tvalidation_0-auc:0.942296\tvalidation_1-auc:0.926083\n",
      "[381]\tvalidation_0-auc:0.942313\tvalidation_1-auc:0.926135\n",
      "[382]\tvalidation_0-auc:0.942373\tvalidation_1-auc:0.92617\n",
      "[383]\tvalidation_0-auc:0.942424\tvalidation_1-auc:0.92621\n",
      "[384]\tvalidation_0-auc:0.942473\tvalidation_1-auc:0.92626\n",
      "[385]\tvalidation_0-auc:0.9425\tvalidation_1-auc:0.926296\n",
      "[386]\tvalidation_0-auc:0.942536\tvalidation_1-auc:0.926318\n",
      "[387]\tvalidation_0-auc:0.942577\tvalidation_1-auc:0.926376\n",
      "[388]\tvalidation_0-auc:0.942596\tvalidation_1-auc:0.926378\n",
      "[389]\tvalidation_0-auc:0.94262\tvalidation_1-auc:0.926381\n",
      "[390]\tvalidation_0-auc:0.942681\tvalidation_1-auc:0.926431\n",
      "[391]\tvalidation_0-auc:0.942722\tvalidation_1-auc:0.926447\n",
      "[392]\tvalidation_0-auc:0.942769\tvalidation_1-auc:0.9265\n",
      "[393]\tvalidation_0-auc:0.942822\tvalidation_1-auc:0.926543\n",
      "[394]\tvalidation_0-auc:0.942891\tvalidation_1-auc:0.926597\n",
      "[395]\tvalidation_0-auc:0.942945\tvalidation_1-auc:0.926662\n",
      "[396]\tvalidation_0-auc:0.942992\tvalidation_1-auc:0.926697\n",
      "[397]\tvalidation_0-auc:0.943029\tvalidation_1-auc:0.926739\n",
      "[398]\tvalidation_0-auc:0.943058\tvalidation_1-auc:0.926764\n",
      "[399]\tvalidation_0-auc:0.943095\tvalidation_1-auc:0.92679\n",
      "[400]\tvalidation_0-auc:0.943121\tvalidation_1-auc:0.926815\n",
      "[401]\tvalidation_0-auc:0.943165\tvalidation_1-auc:0.926845\n",
      "[402]\tvalidation_0-auc:0.943223\tvalidation_1-auc:0.926881\n",
      "[403]\tvalidation_0-auc:0.943283\tvalidation_1-auc:0.926944\n",
      "[404]\tvalidation_0-auc:0.943349\tvalidation_1-auc:0.926999\n",
      "[405]\tvalidation_0-auc:0.943407\tvalidation_1-auc:0.927042\n",
      "[406]\tvalidation_0-auc:0.943451\tvalidation_1-auc:0.927069\n",
      "[407]\tvalidation_0-auc:0.943468\tvalidation_1-auc:0.927097\n",
      "[408]\tvalidation_0-auc:0.943534\tvalidation_1-auc:0.927145\n",
      "[409]\tvalidation_0-auc:0.943575\tvalidation_1-auc:0.927167\n",
      "[410]\tvalidation_0-auc:0.943621\tvalidation_1-auc:0.927182\n",
      "[411]\tvalidation_0-auc:0.943652\tvalidation_1-auc:0.927196\n",
      "[412]\tvalidation_0-auc:0.943713\tvalidation_1-auc:0.927249\n",
      "[413]\tvalidation_0-auc:0.943755\tvalidation_1-auc:0.927297\n",
      "[414]\tvalidation_0-auc:0.943801\tvalidation_1-auc:0.927334\n",
      "[415]\tvalidation_0-auc:0.943844\tvalidation_1-auc:0.927364\n",
      "[416]\tvalidation_0-auc:0.943901\tvalidation_1-auc:0.927423\n",
      "[417]\tvalidation_0-auc:0.943941\tvalidation_1-auc:0.92746\n",
      "[418]\tvalidation_0-auc:0.943995\tvalidation_1-auc:0.927512\n",
      "[419]\tvalidation_0-auc:0.944033\tvalidation_1-auc:0.927528\n",
      "[420]\tvalidation_0-auc:0.944074\tvalidation_1-auc:0.927567\n",
      "[421]\tvalidation_0-auc:0.944134\tvalidation_1-auc:0.927598\n",
      "[422]\tvalidation_0-auc:0.944182\tvalidation_1-auc:0.927647\n",
      "[423]\tvalidation_0-auc:0.944212\tvalidation_1-auc:0.927669\n",
      "[424]\tvalidation_0-auc:0.944246\tvalidation_1-auc:0.9277\n"
     ]
    },
    {
     "name": "stdout",
     "output_type": "stream",
     "text": [
      "[425]\tvalidation_0-auc:0.944268\tvalidation_1-auc:0.927717\n",
      "[426]\tvalidation_0-auc:0.944287\tvalidation_1-auc:0.927723\n",
      "[427]\tvalidation_0-auc:0.94431\tvalidation_1-auc:0.927759\n",
      "[428]\tvalidation_0-auc:0.94436\tvalidation_1-auc:0.927803\n",
      "[429]\tvalidation_0-auc:0.944416\tvalidation_1-auc:0.927845\n",
      "[430]\tvalidation_0-auc:0.944481\tvalidation_1-auc:0.927918\n",
      "[431]\tvalidation_0-auc:0.944525\tvalidation_1-auc:0.927953\n",
      "[432]\tvalidation_0-auc:0.944559\tvalidation_1-auc:0.927988\n",
      "[433]\tvalidation_0-auc:0.944609\tvalidation_1-auc:0.92801\n",
      "[434]\tvalidation_0-auc:0.944654\tvalidation_1-auc:0.928051\n",
      "[435]\tvalidation_0-auc:0.944689\tvalidation_1-auc:0.928072\n",
      "[436]\tvalidation_0-auc:0.94472\tvalidation_1-auc:0.928091\n",
      "[437]\tvalidation_0-auc:0.944748\tvalidation_1-auc:0.928103\n",
      "[438]\tvalidation_0-auc:0.944813\tvalidation_1-auc:0.928171\n",
      "[439]\tvalidation_0-auc:0.944843\tvalidation_1-auc:0.928189\n",
      "[440]\tvalidation_0-auc:0.944898\tvalidation_1-auc:0.928241\n",
      "[441]\tvalidation_0-auc:0.944919\tvalidation_1-auc:0.928269\n",
      "[442]\tvalidation_0-auc:0.944964\tvalidation_1-auc:0.928307\n",
      "[443]\tvalidation_0-auc:0.945007\tvalidation_1-auc:0.928343\n",
      "[444]\tvalidation_0-auc:0.945061\tvalidation_1-auc:0.928389\n",
      "[445]\tvalidation_0-auc:0.945087\tvalidation_1-auc:0.928417\n",
      "[446]\tvalidation_0-auc:0.945146\tvalidation_1-auc:0.928474\n",
      "[447]\tvalidation_0-auc:0.945186\tvalidation_1-auc:0.928507\n",
      "[448]\tvalidation_0-auc:0.94524\tvalidation_1-auc:0.928545\n",
      "[449]\tvalidation_0-auc:0.945281\tvalidation_1-auc:0.92857\n",
      "[450]\tvalidation_0-auc:0.945315\tvalidation_1-auc:0.92859\n",
      "[451]\tvalidation_0-auc:0.945362\tvalidation_1-auc:0.928636\n",
      "[452]\tvalidation_0-auc:0.945382\tvalidation_1-auc:0.928656\n",
      "[453]\tvalidation_0-auc:0.945416\tvalidation_1-auc:0.928676\n",
      "[454]\tvalidation_0-auc:0.94547\tvalidation_1-auc:0.928723\n",
      "[455]\tvalidation_0-auc:0.94552\tvalidation_1-auc:0.928767\n",
      "[456]\tvalidation_0-auc:0.945585\tvalidation_1-auc:0.928819\n",
      "[457]\tvalidation_0-auc:0.945621\tvalidation_1-auc:0.928836\n",
      "[458]\tvalidation_0-auc:0.945658\tvalidation_1-auc:0.928867\n",
      "[459]\tvalidation_0-auc:0.945698\tvalidation_1-auc:0.928917\n",
      "[460]\tvalidation_0-auc:0.945731\tvalidation_1-auc:0.928943\n",
      "[461]\tvalidation_0-auc:0.945767\tvalidation_1-auc:0.928974\n",
      "[462]\tvalidation_0-auc:0.945799\tvalidation_1-auc:0.929022\n",
      "[463]\tvalidation_0-auc:0.945837\tvalidation_1-auc:0.929036\n",
      "[464]\tvalidation_0-auc:0.945884\tvalidation_1-auc:0.929082\n",
      "[465]\tvalidation_0-auc:0.945903\tvalidation_1-auc:0.929103\n",
      "[466]\tvalidation_0-auc:0.945928\tvalidation_1-auc:0.929137\n",
      "[467]\tvalidation_0-auc:0.945983\tvalidation_1-auc:0.929183\n",
      "[468]\tvalidation_0-auc:0.946032\tvalidation_1-auc:0.929225\n",
      "[469]\tvalidation_0-auc:0.946062\tvalidation_1-auc:0.929239\n",
      "[470]\tvalidation_0-auc:0.946103\tvalidation_1-auc:0.92926\n",
      "[471]\tvalidation_0-auc:0.94615\tvalidation_1-auc:0.929308\n",
      "[472]\tvalidation_0-auc:0.946169\tvalidation_1-auc:0.929311\n",
      "[473]\tvalidation_0-auc:0.946222\tvalidation_1-auc:0.929359\n",
      "[474]\tvalidation_0-auc:0.946242\tvalidation_1-auc:0.929381\n",
      "[475]\tvalidation_0-auc:0.946255\tvalidation_1-auc:0.929389\n",
      "[476]\tvalidation_0-auc:0.9463\tvalidation_1-auc:0.929434\n",
      "[477]\tvalidation_0-auc:0.946344\tvalidation_1-auc:0.929464\n",
      "[478]\tvalidation_0-auc:0.946392\tvalidation_1-auc:0.929495\n",
      "[479]\tvalidation_0-auc:0.946445\tvalidation_1-auc:0.929541\n",
      "[480]\tvalidation_0-auc:0.946481\tvalidation_1-auc:0.929552\n",
      "[481]\tvalidation_0-auc:0.946512\tvalidation_1-auc:0.929586\n",
      "[482]\tvalidation_0-auc:0.946556\tvalidation_1-auc:0.929626\n",
      "[483]\tvalidation_0-auc:0.946585\tvalidation_1-auc:0.92964\n",
      "[484]\tvalidation_0-auc:0.946638\tvalidation_1-auc:0.92969\n",
      "[485]\tvalidation_0-auc:0.946673\tvalidation_1-auc:0.929733\n",
      "[486]\tvalidation_0-auc:0.946716\tvalidation_1-auc:0.92977\n",
      "[487]\tvalidation_0-auc:0.946762\tvalidation_1-auc:0.929793\n",
      "[488]\tvalidation_0-auc:0.946788\tvalidation_1-auc:0.929825\n",
      "[489]\tvalidation_0-auc:0.946796\tvalidation_1-auc:0.929836\n",
      "[490]\tvalidation_0-auc:0.946827\tvalidation_1-auc:0.929869\n",
      "[491]\tvalidation_0-auc:0.946882\tvalidation_1-auc:0.929927\n",
      "[492]\tvalidation_0-auc:0.94693\tvalidation_1-auc:0.929942\n",
      "[493]\tvalidation_0-auc:0.946985\tvalidation_1-auc:0.929988\n",
      "[494]\tvalidation_0-auc:0.947\tvalidation_1-auc:0.93\n",
      "[495]\tvalidation_0-auc:0.947053\tvalidation_1-auc:0.930027\n",
      "[496]\tvalidation_0-auc:0.947106\tvalidation_1-auc:0.930076\n",
      "[497]\tvalidation_0-auc:0.947136\tvalidation_1-auc:0.930095\n",
      "[498]\tvalidation_0-auc:0.947166\tvalidation_1-auc:0.930104\n",
      "[499]\tvalidation_0-auc:0.947192\tvalidation_1-auc:0.930136\n",
      "[500]\tvalidation_0-auc:0.947219\tvalidation_1-auc:0.930162\n",
      "[501]\tvalidation_0-auc:0.947266\tvalidation_1-auc:0.930208\n",
      "[502]\tvalidation_0-auc:0.947295\tvalidation_1-auc:0.930232\n",
      "[503]\tvalidation_0-auc:0.947326\tvalidation_1-auc:0.930245\n",
      "[504]\tvalidation_0-auc:0.947349\tvalidation_1-auc:0.930268\n",
      "[505]\tvalidation_0-auc:0.947359\tvalidation_1-auc:0.930276\n",
      "[506]\tvalidation_0-auc:0.947395\tvalidation_1-auc:0.930319\n",
      "[507]\tvalidation_0-auc:0.947436\tvalidation_1-auc:0.93035\n",
      "[508]\tvalidation_0-auc:0.94748\tvalidation_1-auc:0.930366\n",
      "[509]\tvalidation_0-auc:0.947513\tvalidation_1-auc:0.930393\n",
      "[510]\tvalidation_0-auc:0.947555\tvalidation_1-auc:0.930446\n",
      "[511]\tvalidation_0-auc:0.947586\tvalidation_1-auc:0.930469\n",
      "[512]\tvalidation_0-auc:0.947618\tvalidation_1-auc:0.930499\n",
      "[513]\tvalidation_0-auc:0.947636\tvalidation_1-auc:0.930515\n",
      "[514]\tvalidation_0-auc:0.947658\tvalidation_1-auc:0.93053\n",
      "[515]\tvalidation_0-auc:0.9477\tvalidation_1-auc:0.930561\n",
      "[516]\tvalidation_0-auc:0.947737\tvalidation_1-auc:0.930599\n",
      "[517]\tvalidation_0-auc:0.947769\tvalidation_1-auc:0.930634\n",
      "[518]\tvalidation_0-auc:0.947795\tvalidation_1-auc:0.930659\n",
      "[519]\tvalidation_0-auc:0.947814\tvalidation_1-auc:0.930672\n",
      "[520]\tvalidation_0-auc:0.947846\tvalidation_1-auc:0.930695\n",
      "[521]\tvalidation_0-auc:0.947882\tvalidation_1-auc:0.930714\n",
      "[522]\tvalidation_0-auc:0.947932\tvalidation_1-auc:0.93075\n",
      "[523]\tvalidation_0-auc:0.947965\tvalidation_1-auc:0.930771\n",
      "[524]\tvalidation_0-auc:0.947999\tvalidation_1-auc:0.930805\n",
      "[525]\tvalidation_0-auc:0.948042\tvalidation_1-auc:0.930834\n",
      "[526]\tvalidation_0-auc:0.948069\tvalidation_1-auc:0.930862\n",
      "[527]\tvalidation_0-auc:0.948105\tvalidation_1-auc:0.930893\n",
      "[528]\tvalidation_0-auc:0.948142\tvalidation_1-auc:0.930905\n",
      "[529]\tvalidation_0-auc:0.948172\tvalidation_1-auc:0.930938\n",
      "[530]\tvalidation_0-auc:0.9482\tvalidation_1-auc:0.930958\n",
      "[531]\tvalidation_0-auc:0.948238\tvalidation_1-auc:0.930986\n",
      "[532]\tvalidation_0-auc:0.948277\tvalidation_1-auc:0.931023\n",
      "[533]\tvalidation_0-auc:0.948309\tvalidation_1-auc:0.931054\n",
      "[534]\tvalidation_0-auc:0.948345\tvalidation_1-auc:0.931084\n",
      "[535]\tvalidation_0-auc:0.948352\tvalidation_1-auc:0.931103\n",
      "[536]\tvalidation_0-auc:0.948391\tvalidation_1-auc:0.931137\n",
      "[537]\tvalidation_0-auc:0.948429\tvalidation_1-auc:0.93116\n",
      "[538]\tvalidation_0-auc:0.948464\tvalidation_1-auc:0.931198\n",
      "[539]\tvalidation_0-auc:0.948484\tvalidation_1-auc:0.931212\n",
      "[540]\tvalidation_0-auc:0.948521\tvalidation_1-auc:0.931244\n",
      "[541]\tvalidation_0-auc:0.948548\tvalidation_1-auc:0.931263\n",
      "[542]\tvalidation_0-auc:0.948585\tvalidation_1-auc:0.931298\n",
      "[543]\tvalidation_0-auc:0.948632\tvalidation_1-auc:0.931329\n",
      "[544]\tvalidation_0-auc:0.948673\tvalidation_1-auc:0.931351\n",
      "[545]\tvalidation_0-auc:0.948705\tvalidation_1-auc:0.931378\n",
      "[546]\tvalidation_0-auc:0.948741\tvalidation_1-auc:0.931407\n",
      "[547]\tvalidation_0-auc:0.948785\tvalidation_1-auc:0.931443\n",
      "[548]\tvalidation_0-auc:0.948813\tvalidation_1-auc:0.931482\n",
      "[549]\tvalidation_0-auc:0.948843\tvalidation_1-auc:0.931511\n",
      "[550]\tvalidation_0-auc:0.948878\tvalidation_1-auc:0.931533\n",
      "[551]\tvalidation_0-auc:0.948922\tvalidation_1-auc:0.931563\n",
      "[552]\tvalidation_0-auc:0.948957\tvalidation_1-auc:0.931598\n",
      "[553]\tvalidation_0-auc:0.948988\tvalidation_1-auc:0.931627\n",
      "[554]\tvalidation_0-auc:0.949023\tvalidation_1-auc:0.931666\n",
      "[555]\tvalidation_0-auc:0.949065\tvalidation_1-auc:0.931694\n",
      "[556]\tvalidation_0-auc:0.949094\tvalidation_1-auc:0.931721\n",
      "[557]\tvalidation_0-auc:0.949134\tvalidation_1-auc:0.931776\n",
      "[558]\tvalidation_0-auc:0.949167\tvalidation_1-auc:0.931803\n",
      "[559]\tvalidation_0-auc:0.949206\tvalidation_1-auc:0.931848\n",
      "[560]\tvalidation_0-auc:0.949232\tvalidation_1-auc:0.931868\n",
      "[561]\tvalidation_0-auc:0.94925\tvalidation_1-auc:0.931879\n",
      "[562]\tvalidation_0-auc:0.94929\tvalidation_1-auc:0.931917\n",
      "[563]\tvalidation_0-auc:0.949324\tvalidation_1-auc:0.931948\n",
      "[564]\tvalidation_0-auc:0.949357\tvalidation_1-auc:0.931977\n",
      "[565]\tvalidation_0-auc:0.949385\tvalidation_1-auc:0.932\n",
      "[566]\tvalidation_0-auc:0.949411\tvalidation_1-auc:0.932027\n"
     ]
    },
    {
     "name": "stdout",
     "output_type": "stream",
     "text": [
      "[567]\tvalidation_0-auc:0.949446\tvalidation_1-auc:0.932046\n",
      "[568]\tvalidation_0-auc:0.949474\tvalidation_1-auc:0.932065\n",
      "[569]\tvalidation_0-auc:0.949503\tvalidation_1-auc:0.93209\n",
      "[570]\tvalidation_0-auc:0.949523\tvalidation_1-auc:0.932113\n",
      "[571]\tvalidation_0-auc:0.949552\tvalidation_1-auc:0.93214\n",
      "[572]\tvalidation_0-auc:0.949566\tvalidation_1-auc:0.93215\n",
      "[573]\tvalidation_0-auc:0.949592\tvalidation_1-auc:0.932177\n",
      "[574]\tvalidation_0-auc:0.949634\tvalidation_1-auc:0.932204\n",
      "[575]\tvalidation_0-auc:0.949676\tvalidation_1-auc:0.932238\n",
      "[576]\tvalidation_0-auc:0.949709\tvalidation_1-auc:0.932255\n",
      "[577]\tvalidation_0-auc:0.949744\tvalidation_1-auc:0.932291\n",
      "[578]\tvalidation_0-auc:0.949778\tvalidation_1-auc:0.932325\n",
      "[579]\tvalidation_0-auc:0.949806\tvalidation_1-auc:0.932366\n",
      "[580]\tvalidation_0-auc:0.949829\tvalidation_1-auc:0.932389\n",
      "[581]\tvalidation_0-auc:0.949872\tvalidation_1-auc:0.932421\n",
      "[582]\tvalidation_0-auc:0.949905\tvalidation_1-auc:0.932436\n",
      "[583]\tvalidation_0-auc:0.949918\tvalidation_1-auc:0.932452\n",
      "[584]\tvalidation_0-auc:0.949955\tvalidation_1-auc:0.932489\n",
      "[585]\tvalidation_0-auc:0.949981\tvalidation_1-auc:0.932507\n",
      "[586]\tvalidation_0-auc:0.950007\tvalidation_1-auc:0.932526\n",
      "[587]\tvalidation_0-auc:0.950042\tvalidation_1-auc:0.932553\n",
      "[588]\tvalidation_0-auc:0.950078\tvalidation_1-auc:0.932575\n",
      "[589]\tvalidation_0-auc:0.950116\tvalidation_1-auc:0.932612\n",
      "[590]\tvalidation_0-auc:0.950143\tvalidation_1-auc:0.932642\n",
      "[591]\tvalidation_0-auc:0.950182\tvalidation_1-auc:0.932664\n",
      "[592]\tvalidation_0-auc:0.950223\tvalidation_1-auc:0.932702\n",
      "[593]\tvalidation_0-auc:0.950252\tvalidation_1-auc:0.932727\n",
      "[594]\tvalidation_0-auc:0.950273\tvalidation_1-auc:0.932736\n",
      "[595]\tvalidation_0-auc:0.950302\tvalidation_1-auc:0.932763\n",
      "[596]\tvalidation_0-auc:0.950316\tvalidation_1-auc:0.932788\n",
      "[597]\tvalidation_0-auc:0.950351\tvalidation_1-auc:0.932825\n",
      "[598]\tvalidation_0-auc:0.950367\tvalidation_1-auc:0.932848\n",
      "[599]\tvalidation_0-auc:0.950391\tvalidation_1-auc:0.932857\n",
      "[600]\tvalidation_0-auc:0.950414\tvalidation_1-auc:0.932881\n",
      "[601]\tvalidation_0-auc:0.950462\tvalidation_1-auc:0.932923\n",
      "[602]\tvalidation_0-auc:0.950502\tvalidation_1-auc:0.932947\n",
      "[603]\tvalidation_0-auc:0.950535\tvalidation_1-auc:0.932978\n",
      "[604]\tvalidation_0-auc:0.950553\tvalidation_1-auc:0.932995\n",
      "[605]\tvalidation_0-auc:0.950571\tvalidation_1-auc:0.933018\n",
      "[606]\tvalidation_0-auc:0.950607\tvalidation_1-auc:0.933048\n",
      "[607]\tvalidation_0-auc:0.950646\tvalidation_1-auc:0.933086\n",
      "[608]\tvalidation_0-auc:0.950663\tvalidation_1-auc:0.933103\n",
      "[609]\tvalidation_0-auc:0.95069\tvalidation_1-auc:0.933129\n",
      "[610]\tvalidation_0-auc:0.950718\tvalidation_1-auc:0.933145\n",
      "[611]\tvalidation_0-auc:0.950754\tvalidation_1-auc:0.933168\n",
      "[612]\tvalidation_0-auc:0.950795\tvalidation_1-auc:0.933199\n",
      "[613]\tvalidation_0-auc:0.950813\tvalidation_1-auc:0.933216\n",
      "[614]\tvalidation_0-auc:0.950846\tvalidation_1-auc:0.933257\n",
      "[615]\tvalidation_0-auc:0.950877\tvalidation_1-auc:0.933285\n",
      "[616]\tvalidation_0-auc:0.95091\tvalidation_1-auc:0.933315\n",
      "[617]\tvalidation_0-auc:0.950947\tvalidation_1-auc:0.933344\n",
      "[618]\tvalidation_0-auc:0.950977\tvalidation_1-auc:0.933373\n",
      "[619]\tvalidation_0-auc:0.951021\tvalidation_1-auc:0.933401\n",
      "[620]\tvalidation_0-auc:0.951052\tvalidation_1-auc:0.933419\n",
      "[621]\tvalidation_0-auc:0.951082\tvalidation_1-auc:0.933449\n",
      "[622]\tvalidation_0-auc:0.951106\tvalidation_1-auc:0.933461\n",
      "[623]\tvalidation_0-auc:0.951139\tvalidation_1-auc:0.933482\n",
      "[624]\tvalidation_0-auc:0.951169\tvalidation_1-auc:0.933517\n",
      "[625]\tvalidation_0-auc:0.95121\tvalidation_1-auc:0.933543\n",
      "[626]\tvalidation_0-auc:0.951232\tvalidation_1-auc:0.933564\n",
      "[627]\tvalidation_0-auc:0.951256\tvalidation_1-auc:0.933588\n",
      "[628]\tvalidation_0-auc:0.951296\tvalidation_1-auc:0.933609\n",
      "[629]\tvalidation_0-auc:0.951332\tvalidation_1-auc:0.933646\n",
      "[630]\tvalidation_0-auc:0.951353\tvalidation_1-auc:0.933657\n",
      "[631]\tvalidation_0-auc:0.951387\tvalidation_1-auc:0.933686\n",
      "[632]\tvalidation_0-auc:0.951431\tvalidation_1-auc:0.933715\n",
      "[633]\tvalidation_0-auc:0.951468\tvalidation_1-auc:0.933751\n",
      "[634]\tvalidation_0-auc:0.951507\tvalidation_1-auc:0.933772\n",
      "[635]\tvalidation_0-auc:0.951537\tvalidation_1-auc:0.933797\n",
      "[636]\tvalidation_0-auc:0.951567\tvalidation_1-auc:0.933826\n",
      "[637]\tvalidation_0-auc:0.951587\tvalidation_1-auc:0.933843\n",
      "[638]\tvalidation_0-auc:0.951611\tvalidation_1-auc:0.933861\n",
      "[639]\tvalidation_0-auc:0.951648\tvalidation_1-auc:0.933887\n",
      "[640]\tvalidation_0-auc:0.951675\tvalidation_1-auc:0.93391\n",
      "[641]\tvalidation_0-auc:0.951706\tvalidation_1-auc:0.933937\n",
      "[642]\tvalidation_0-auc:0.95173\tvalidation_1-auc:0.933953\n",
      "[643]\tvalidation_0-auc:0.95177\tvalidation_1-auc:0.933985\n",
      "[644]\tvalidation_0-auc:0.951813\tvalidation_1-auc:0.934004\n",
      "[645]\tvalidation_0-auc:0.951835\tvalidation_1-auc:0.934031\n",
      "[646]\tvalidation_0-auc:0.951866\tvalidation_1-auc:0.934051\n",
      "[647]\tvalidation_0-auc:0.951892\tvalidation_1-auc:0.934077\n",
      "[648]\tvalidation_0-auc:0.951929\tvalidation_1-auc:0.934106\n",
      "[649]\tvalidation_0-auc:0.95195\tvalidation_1-auc:0.934124\n",
      "[650]\tvalidation_0-auc:0.95199\tvalidation_1-auc:0.93416\n",
      "[651]\tvalidation_0-auc:0.952013\tvalidation_1-auc:0.934182\n",
      "[652]\tvalidation_0-auc:0.952042\tvalidation_1-auc:0.934193\n",
      "[653]\tvalidation_0-auc:0.952067\tvalidation_1-auc:0.934218\n",
      "[654]\tvalidation_0-auc:0.952088\tvalidation_1-auc:0.934239\n",
      "[655]\tvalidation_0-auc:0.952111\tvalidation_1-auc:0.934255\n",
      "[656]\tvalidation_0-auc:0.952139\tvalidation_1-auc:0.934287\n",
      "[657]\tvalidation_0-auc:0.952171\tvalidation_1-auc:0.934321\n",
      "[658]\tvalidation_0-auc:0.952187\tvalidation_1-auc:0.934329\n",
      "[659]\tvalidation_0-auc:0.952222\tvalidation_1-auc:0.93436\n",
      "[660]\tvalidation_0-auc:0.952248\tvalidation_1-auc:0.934391\n",
      "[661]\tvalidation_0-auc:0.952268\tvalidation_1-auc:0.934411\n",
      "[662]\tvalidation_0-auc:0.952295\tvalidation_1-auc:0.934435\n",
      "[663]\tvalidation_0-auc:0.952329\tvalidation_1-auc:0.934457\n",
      "[664]\tvalidation_0-auc:0.952347\tvalidation_1-auc:0.934479\n",
      "[665]\tvalidation_0-auc:0.95236\tvalidation_1-auc:0.934489\n",
      "[666]\tvalidation_0-auc:0.952389\tvalidation_1-auc:0.934507\n",
      "[667]\tvalidation_0-auc:0.952406\tvalidation_1-auc:0.934524\n",
      "[668]\tvalidation_0-auc:0.952429\tvalidation_1-auc:0.934553\n",
      "[669]\tvalidation_0-auc:0.952448\tvalidation_1-auc:0.93457\n",
      "[670]\tvalidation_0-auc:0.952466\tvalidation_1-auc:0.934591\n",
      "[671]\tvalidation_0-auc:0.95249\tvalidation_1-auc:0.934605\n",
      "[672]\tvalidation_0-auc:0.952507\tvalidation_1-auc:0.934627\n",
      "[673]\tvalidation_0-auc:0.952531\tvalidation_1-auc:0.934651\n",
      "[674]\tvalidation_0-auc:0.952575\tvalidation_1-auc:0.934682\n",
      "[675]\tvalidation_0-auc:0.952602\tvalidation_1-auc:0.934706\n",
      "[676]\tvalidation_0-auc:0.952632\tvalidation_1-auc:0.934727\n",
      "[677]\tvalidation_0-auc:0.952658\tvalidation_1-auc:0.934745\n",
      "[678]\tvalidation_0-auc:0.952678\tvalidation_1-auc:0.934762\n",
      "[679]\tvalidation_0-auc:0.952722\tvalidation_1-auc:0.934787\n",
      "[680]\tvalidation_0-auc:0.952745\tvalidation_1-auc:0.934804\n",
      "[681]\tvalidation_0-auc:0.95276\tvalidation_1-auc:0.934817\n",
      "[682]\tvalidation_0-auc:0.952797\tvalidation_1-auc:0.934838\n",
      "[683]\tvalidation_0-auc:0.952819\tvalidation_1-auc:0.93486\n",
      "[684]\tvalidation_0-auc:0.952859\tvalidation_1-auc:0.934884\n",
      "[685]\tvalidation_0-auc:0.952881\tvalidation_1-auc:0.934903\n",
      "[686]\tvalidation_0-auc:0.952893\tvalidation_1-auc:0.934915\n",
      "[687]\tvalidation_0-auc:0.952924\tvalidation_1-auc:0.934939\n",
      "[688]\tvalidation_0-auc:0.952951\tvalidation_1-auc:0.934953\n",
      "[689]\tvalidation_0-auc:0.95298\tvalidation_1-auc:0.934975\n",
      "[690]\tvalidation_0-auc:0.953009\tvalidation_1-auc:0.934984\n",
      "[691]\tvalidation_0-auc:0.953034\tvalidation_1-auc:0.934997\n",
      "[692]\tvalidation_0-auc:0.953055\tvalidation_1-auc:0.93502\n",
      "[693]\tvalidation_0-auc:0.953074\tvalidation_1-auc:0.935042\n",
      "[694]\tvalidation_0-auc:0.953109\tvalidation_1-auc:0.935061\n",
      "[695]\tvalidation_0-auc:0.953127\tvalidation_1-auc:0.93507\n",
      "[696]\tvalidation_0-auc:0.953151\tvalidation_1-auc:0.935094\n",
      "[697]\tvalidation_0-auc:0.953173\tvalidation_1-auc:0.935103\n",
      "[698]\tvalidation_0-auc:0.953207\tvalidation_1-auc:0.935139\n",
      "[699]\tvalidation_0-auc:0.953238\tvalidation_1-auc:0.935165\n",
      "[700]\tvalidation_0-auc:0.953264\tvalidation_1-auc:0.935186\n",
      "[701]\tvalidation_0-auc:0.953299\tvalidation_1-auc:0.935203\n",
      "[702]\tvalidation_0-auc:0.953321\tvalidation_1-auc:0.935218\n",
      "[703]\tvalidation_0-auc:0.953342\tvalidation_1-auc:0.935231\n",
      "[704]\tvalidation_0-auc:0.953369\tvalidation_1-auc:0.935262\n",
      "[705]\tvalidation_0-auc:0.95339\tvalidation_1-auc:0.935281\n",
      "[706]\tvalidation_0-auc:0.953407\tvalidation_1-auc:0.935291\n",
      "[707]\tvalidation_0-auc:0.953435\tvalidation_1-auc:0.935305\n",
      "[708]\tvalidation_0-auc:0.953456\tvalidation_1-auc:0.935311\n"
     ]
    },
    {
     "name": "stdout",
     "output_type": "stream",
     "text": [
      "[709]\tvalidation_0-auc:0.953477\tvalidation_1-auc:0.935325\n",
      "[710]\tvalidation_0-auc:0.953497\tvalidation_1-auc:0.935339\n",
      "[711]\tvalidation_0-auc:0.953529\tvalidation_1-auc:0.935365\n",
      "[712]\tvalidation_0-auc:0.953554\tvalidation_1-auc:0.935382\n",
      "[713]\tvalidation_0-auc:0.953576\tvalidation_1-auc:0.935394\n",
      "[714]\tvalidation_0-auc:0.953598\tvalidation_1-auc:0.93542\n",
      "[715]\tvalidation_0-auc:0.953631\tvalidation_1-auc:0.935444\n",
      "[716]\tvalidation_0-auc:0.953658\tvalidation_1-auc:0.935453\n",
      "[717]\tvalidation_0-auc:0.953678\tvalidation_1-auc:0.93546\n",
      "[718]\tvalidation_0-auc:0.953707\tvalidation_1-auc:0.935481\n",
      "[719]\tvalidation_0-auc:0.953727\tvalidation_1-auc:0.935498\n",
      "[720]\tvalidation_0-auc:0.95376\tvalidation_1-auc:0.935516\n",
      "[721]\tvalidation_0-auc:0.953782\tvalidation_1-auc:0.935538\n",
      "[722]\tvalidation_0-auc:0.953798\tvalidation_1-auc:0.935557\n",
      "[723]\tvalidation_0-auc:0.953821\tvalidation_1-auc:0.935569\n",
      "[724]\tvalidation_0-auc:0.953845\tvalidation_1-auc:0.935582\n",
      "[725]\tvalidation_0-auc:0.953871\tvalidation_1-auc:0.935598\n",
      "[726]\tvalidation_0-auc:0.953894\tvalidation_1-auc:0.935621\n",
      "[727]\tvalidation_0-auc:0.953906\tvalidation_1-auc:0.935633\n",
      "[728]\tvalidation_0-auc:0.953943\tvalidation_1-auc:0.935651\n",
      "[729]\tvalidation_0-auc:0.953969\tvalidation_1-auc:0.935672\n",
      "[730]\tvalidation_0-auc:0.953993\tvalidation_1-auc:0.935687\n",
      "[731]\tvalidation_0-auc:0.954012\tvalidation_1-auc:0.935703\n",
      "[732]\tvalidation_0-auc:0.954048\tvalidation_1-auc:0.93573\n",
      "[733]\tvalidation_0-auc:0.954069\tvalidation_1-auc:0.935737\n",
      "[734]\tvalidation_0-auc:0.954104\tvalidation_1-auc:0.935753\n",
      "[735]\tvalidation_0-auc:0.954136\tvalidation_1-auc:0.935771\n",
      "[736]\tvalidation_0-auc:0.954151\tvalidation_1-auc:0.935782\n",
      "[737]\tvalidation_0-auc:0.954163\tvalidation_1-auc:0.935795\n",
      "[738]\tvalidation_0-auc:0.954189\tvalidation_1-auc:0.935803\n",
      "[739]\tvalidation_0-auc:0.954211\tvalidation_1-auc:0.935816\n",
      "[740]\tvalidation_0-auc:0.954223\tvalidation_1-auc:0.935821\n",
      "[741]\tvalidation_0-auc:0.954257\tvalidation_1-auc:0.935852\n",
      "[742]\tvalidation_0-auc:0.954273\tvalidation_1-auc:0.935861\n",
      "[743]\tvalidation_0-auc:0.954289\tvalidation_1-auc:0.935868\n",
      "[744]\tvalidation_0-auc:0.954316\tvalidation_1-auc:0.935887\n",
      "[745]\tvalidation_0-auc:0.95434\tvalidation_1-auc:0.935904\n",
      "[746]\tvalidation_0-auc:0.954368\tvalidation_1-auc:0.935913\n",
      "[747]\tvalidation_0-auc:0.954403\tvalidation_1-auc:0.93594\n",
      "[748]\tvalidation_0-auc:0.954421\tvalidation_1-auc:0.935942\n",
      "[749]\tvalidation_0-auc:0.954454\tvalidation_1-auc:0.935971\n",
      "[750]\tvalidation_0-auc:0.954476\tvalidation_1-auc:0.935987\n",
      "[751]\tvalidation_0-auc:0.954493\tvalidation_1-auc:0.936005\n",
      "[752]\tvalidation_0-auc:0.954507\tvalidation_1-auc:0.936012\n",
      "[753]\tvalidation_0-auc:0.954528\tvalidation_1-auc:0.936034\n",
      "[754]\tvalidation_0-auc:0.954542\tvalidation_1-auc:0.936048\n",
      "[755]\tvalidation_0-auc:0.954555\tvalidation_1-auc:0.936057\n",
      "[756]\tvalidation_0-auc:0.954579\tvalidation_1-auc:0.93607\n",
      "[757]\tvalidation_0-auc:0.954603\tvalidation_1-auc:0.936087\n",
      "[758]\tvalidation_0-auc:0.954621\tvalidation_1-auc:0.9361\n",
      "[759]\tvalidation_0-auc:0.954641\tvalidation_1-auc:0.936103\n",
      "[760]\tvalidation_0-auc:0.954666\tvalidation_1-auc:0.936116\n",
      "[761]\tvalidation_0-auc:0.954687\tvalidation_1-auc:0.936133\n",
      "[762]\tvalidation_0-auc:0.954704\tvalidation_1-auc:0.936162\n",
      "[763]\tvalidation_0-auc:0.954723\tvalidation_1-auc:0.936183\n",
      "[764]\tvalidation_0-auc:0.954736\tvalidation_1-auc:0.936195\n",
      "[765]\tvalidation_0-auc:0.954766\tvalidation_1-auc:0.93621\n",
      "[766]\tvalidation_0-auc:0.954788\tvalidation_1-auc:0.936235\n",
      "[767]\tvalidation_0-auc:0.954809\tvalidation_1-auc:0.93625\n",
      "[768]\tvalidation_0-auc:0.954835\tvalidation_1-auc:0.936263\n",
      "[769]\tvalidation_0-auc:0.954859\tvalidation_1-auc:0.936284\n",
      "[770]\tvalidation_0-auc:0.954887\tvalidation_1-auc:0.936296\n",
      "[771]\tvalidation_0-auc:0.954911\tvalidation_1-auc:0.936315\n",
      "[772]\tvalidation_0-auc:0.954934\tvalidation_1-auc:0.936335\n",
      "[773]\tvalidation_0-auc:0.954965\tvalidation_1-auc:0.936355\n",
      "[774]\tvalidation_0-auc:0.954993\tvalidation_1-auc:0.936379\n",
      "[775]\tvalidation_0-auc:0.955008\tvalidation_1-auc:0.936392\n",
      "[776]\tvalidation_0-auc:0.955034\tvalidation_1-auc:0.936417\n",
      "[777]\tvalidation_0-auc:0.955065\tvalidation_1-auc:0.936438\n",
      "[778]\tvalidation_0-auc:0.955083\tvalidation_1-auc:0.936451\n",
      "[779]\tvalidation_0-auc:0.955097\tvalidation_1-auc:0.936458\n",
      "[780]\tvalidation_0-auc:0.955121\tvalidation_1-auc:0.936476\n",
      "[781]\tvalidation_0-auc:0.955149\tvalidation_1-auc:0.936491\n",
      "[782]\tvalidation_0-auc:0.955167\tvalidation_1-auc:0.93651\n",
      "[783]\tvalidation_0-auc:0.955182\tvalidation_1-auc:0.936529\n",
      "[784]\tvalidation_0-auc:0.955206\tvalidation_1-auc:0.93654\n",
      "[785]\tvalidation_0-auc:0.955232\tvalidation_1-auc:0.936571\n",
      "[786]\tvalidation_0-auc:0.955251\tvalidation_1-auc:0.936577\n",
      "[787]\tvalidation_0-auc:0.95528\tvalidation_1-auc:0.936596\n",
      "[788]\tvalidation_0-auc:0.955311\tvalidation_1-auc:0.936618\n",
      "[789]\tvalidation_0-auc:0.955329\tvalidation_1-auc:0.936626\n",
      "[790]\tvalidation_0-auc:0.955345\tvalidation_1-auc:0.93664\n",
      "[791]\tvalidation_0-auc:0.955362\tvalidation_1-auc:0.936646\n",
      "[792]\tvalidation_0-auc:0.955383\tvalidation_1-auc:0.936655\n",
      "[793]\tvalidation_0-auc:0.955405\tvalidation_1-auc:0.936668\n",
      "[794]\tvalidation_0-auc:0.955421\tvalidation_1-auc:0.936678\n",
      "[795]\tvalidation_0-auc:0.955447\tvalidation_1-auc:0.936698\n",
      "[796]\tvalidation_0-auc:0.955464\tvalidation_1-auc:0.936714\n",
      "[797]\tvalidation_0-auc:0.955492\tvalidation_1-auc:0.936728\n",
      "[798]\tvalidation_0-auc:0.955511\tvalidation_1-auc:0.936745\n",
      "[799]\tvalidation_0-auc:0.955522\tvalidation_1-auc:0.936755\n",
      "[800]\tvalidation_0-auc:0.955547\tvalidation_1-auc:0.936771\n",
      "[801]\tvalidation_0-auc:0.955577\tvalidation_1-auc:0.936804\n",
      "[802]\tvalidation_0-auc:0.955608\tvalidation_1-auc:0.936821\n",
      "[803]\tvalidation_0-auc:0.955624\tvalidation_1-auc:0.936836\n",
      "[804]\tvalidation_0-auc:0.955651\tvalidation_1-auc:0.93685\n",
      "[805]\tvalidation_0-auc:0.955663\tvalidation_1-auc:0.936855\n",
      "[806]\tvalidation_0-auc:0.955683\tvalidation_1-auc:0.936872\n",
      "[807]\tvalidation_0-auc:0.955707\tvalidation_1-auc:0.936885\n",
      "[808]\tvalidation_0-auc:0.955731\tvalidation_1-auc:0.936898\n",
      "[809]\tvalidation_0-auc:0.955756\tvalidation_1-auc:0.936921\n",
      "[810]\tvalidation_0-auc:0.95578\tvalidation_1-auc:0.936942\n",
      "[811]\tvalidation_0-auc:0.955803\tvalidation_1-auc:0.936957\n",
      "[812]\tvalidation_0-auc:0.955823\tvalidation_1-auc:0.936985\n",
      "[813]\tvalidation_0-auc:0.955848\tvalidation_1-auc:0.937005\n",
      "[814]\tvalidation_0-auc:0.955868\tvalidation_1-auc:0.937024\n",
      "[815]\tvalidation_0-auc:0.955881\tvalidation_1-auc:0.93704\n",
      "[816]\tvalidation_0-auc:0.955898\tvalidation_1-auc:0.937056\n",
      "[817]\tvalidation_0-auc:0.955914\tvalidation_1-auc:0.937076\n",
      "[818]\tvalidation_0-auc:0.955931\tvalidation_1-auc:0.937091\n",
      "[819]\tvalidation_0-auc:0.955947\tvalidation_1-auc:0.937102\n",
      "[820]\tvalidation_0-auc:0.955965\tvalidation_1-auc:0.937121\n",
      "[821]\tvalidation_0-auc:0.955989\tvalidation_1-auc:0.937135\n",
      "[822]\tvalidation_0-auc:0.956012\tvalidation_1-auc:0.937153\n",
      "[823]\tvalidation_0-auc:0.956038\tvalidation_1-auc:0.937189\n",
      "[824]\tvalidation_0-auc:0.956049\tvalidation_1-auc:0.937194\n",
      "[825]\tvalidation_0-auc:0.956067\tvalidation_1-auc:0.937203\n",
      "[826]\tvalidation_0-auc:0.956078\tvalidation_1-auc:0.937217\n",
      "[827]\tvalidation_0-auc:0.956103\tvalidation_1-auc:0.937228\n",
      "[828]\tvalidation_0-auc:0.956119\tvalidation_1-auc:0.937244\n",
      "[829]\tvalidation_0-auc:0.95614\tvalidation_1-auc:0.937263\n",
      "[830]\tvalidation_0-auc:0.956169\tvalidation_1-auc:0.937282\n",
      "[831]\tvalidation_0-auc:0.956191\tvalidation_1-auc:0.937299\n",
      "[832]\tvalidation_0-auc:0.956208\tvalidation_1-auc:0.93731\n",
      "[833]\tvalidation_0-auc:0.956231\tvalidation_1-auc:0.937323\n",
      "[834]\tvalidation_0-auc:0.956254\tvalidation_1-auc:0.937342\n",
      "[835]\tvalidation_0-auc:0.956266\tvalidation_1-auc:0.937355\n",
      "[836]\tvalidation_0-auc:0.956283\tvalidation_1-auc:0.937372\n",
      "[837]\tvalidation_0-auc:0.956303\tvalidation_1-auc:0.937388\n",
      "[838]\tvalidation_0-auc:0.956313\tvalidation_1-auc:0.93739\n",
      "[839]\tvalidation_0-auc:0.956337\tvalidation_1-auc:0.937412\n",
      "[840]\tvalidation_0-auc:0.956353\tvalidation_1-auc:0.937428\n",
      "[841]\tvalidation_0-auc:0.956367\tvalidation_1-auc:0.93744\n",
      "[842]\tvalidation_0-auc:0.956386\tvalidation_1-auc:0.937448\n",
      "[843]\tvalidation_0-auc:0.956417\tvalidation_1-auc:0.937466\n",
      "[844]\tvalidation_0-auc:0.956438\tvalidation_1-auc:0.937477\n",
      "[845]\tvalidation_0-auc:0.956461\tvalidation_1-auc:0.937484\n",
      "[846]\tvalidation_0-auc:0.95648\tvalidation_1-auc:0.9375\n",
      "[847]\tvalidation_0-auc:0.956504\tvalidation_1-auc:0.937516\n",
      "[848]\tvalidation_0-auc:0.956525\tvalidation_1-auc:0.937531\n",
      "[849]\tvalidation_0-auc:0.956547\tvalidation_1-auc:0.937548\n",
      "[850]\tvalidation_0-auc:0.956563\tvalidation_1-auc:0.937564\n"
     ]
    },
    {
     "name": "stdout",
     "output_type": "stream",
     "text": [
      "[851]\tvalidation_0-auc:0.956587\tvalidation_1-auc:0.937577\n",
      "[852]\tvalidation_0-auc:0.956604\tvalidation_1-auc:0.937592\n",
      "[853]\tvalidation_0-auc:0.956607\tvalidation_1-auc:0.937594\n",
      "[854]\tvalidation_0-auc:0.95662\tvalidation_1-auc:0.937607\n",
      "[855]\tvalidation_0-auc:0.956637\tvalidation_1-auc:0.93762\n",
      "[856]\tvalidation_0-auc:0.956662\tvalidation_1-auc:0.937638\n",
      "[857]\tvalidation_0-auc:0.95668\tvalidation_1-auc:0.937645\n",
      "[858]\tvalidation_0-auc:0.956697\tvalidation_1-auc:0.937649\n",
      "[859]\tvalidation_0-auc:0.95672\tvalidation_1-auc:0.937664\n",
      "[860]\tvalidation_0-auc:0.956745\tvalidation_1-auc:0.937669\n",
      "[861]\tvalidation_0-auc:0.95677\tvalidation_1-auc:0.937687\n",
      "[862]\tvalidation_0-auc:0.956797\tvalidation_1-auc:0.937699\n",
      "[863]\tvalidation_0-auc:0.956814\tvalidation_1-auc:0.937708\n",
      "[864]\tvalidation_0-auc:0.956838\tvalidation_1-auc:0.937722\n",
      "[865]\tvalidation_0-auc:0.956857\tvalidation_1-auc:0.93773\n",
      "[866]\tvalidation_0-auc:0.956881\tvalidation_1-auc:0.937749\n",
      "[867]\tvalidation_0-auc:0.956908\tvalidation_1-auc:0.937765\n",
      "[868]\tvalidation_0-auc:0.956924\tvalidation_1-auc:0.937783\n",
      "[869]\tvalidation_0-auc:0.956951\tvalidation_1-auc:0.937788\n",
      "[870]\tvalidation_0-auc:0.956965\tvalidation_1-auc:0.937802\n",
      "[871]\tvalidation_0-auc:0.956983\tvalidation_1-auc:0.937815\n",
      "[872]\tvalidation_0-auc:0.957001\tvalidation_1-auc:0.937824\n",
      "[873]\tvalidation_0-auc:0.957013\tvalidation_1-auc:0.937831\n",
      "[874]\tvalidation_0-auc:0.957033\tvalidation_1-auc:0.937846\n",
      "[875]\tvalidation_0-auc:0.957045\tvalidation_1-auc:0.937855\n",
      "[876]\tvalidation_0-auc:0.957058\tvalidation_1-auc:0.937861\n",
      "[877]\tvalidation_0-auc:0.957075\tvalidation_1-auc:0.937864\n",
      "[878]\tvalidation_0-auc:0.957093\tvalidation_1-auc:0.937887\n",
      "[879]\tvalidation_0-auc:0.957103\tvalidation_1-auc:0.937895\n",
      "[880]\tvalidation_0-auc:0.957126\tvalidation_1-auc:0.937908\n",
      "[881]\tvalidation_0-auc:0.957145\tvalidation_1-auc:0.937925\n",
      "[882]\tvalidation_0-auc:0.957166\tvalidation_1-auc:0.937939\n",
      "[883]\tvalidation_0-auc:0.957188\tvalidation_1-auc:0.937955\n",
      "[884]\tvalidation_0-auc:0.957205\tvalidation_1-auc:0.937967\n",
      "[885]\tvalidation_0-auc:0.957225\tvalidation_1-auc:0.937984\n",
      "[886]\tvalidation_0-auc:0.957242\tvalidation_1-auc:0.937996\n",
      "[887]\tvalidation_0-auc:0.957265\tvalidation_1-auc:0.938014\n",
      "[888]\tvalidation_0-auc:0.957287\tvalidation_1-auc:0.938025\n",
      "[889]\tvalidation_0-auc:0.957301\tvalidation_1-auc:0.938042\n",
      "[890]\tvalidation_0-auc:0.957316\tvalidation_1-auc:0.938049\n",
      "[891]\tvalidation_0-auc:0.957337\tvalidation_1-auc:0.938059\n",
      "[892]\tvalidation_0-auc:0.957355\tvalidation_1-auc:0.938075\n",
      "[893]\tvalidation_0-auc:0.957379\tvalidation_1-auc:0.938095\n",
      "[894]\tvalidation_0-auc:0.95739\tvalidation_1-auc:0.938097\n",
      "[895]\tvalidation_0-auc:0.957396\tvalidation_1-auc:0.938105\n",
      "[896]\tvalidation_0-auc:0.95741\tvalidation_1-auc:0.938114\n",
      "[897]\tvalidation_0-auc:0.957439\tvalidation_1-auc:0.938136\n",
      "[898]\tvalidation_0-auc:0.957461\tvalidation_1-auc:0.938138\n",
      "[899]\tvalidation_0-auc:0.957482\tvalidation_1-auc:0.938158\n",
      "[900]\tvalidation_0-auc:0.957498\tvalidation_1-auc:0.938163\n",
      "[901]\tvalidation_0-auc:0.957511\tvalidation_1-auc:0.938163\n",
      "[902]\tvalidation_0-auc:0.957533\tvalidation_1-auc:0.93817\n",
      "[903]\tvalidation_0-auc:0.957545\tvalidation_1-auc:0.938185\n",
      "[904]\tvalidation_0-auc:0.957575\tvalidation_1-auc:0.938201\n",
      "[905]\tvalidation_0-auc:0.957593\tvalidation_1-auc:0.938208\n",
      "[906]\tvalidation_0-auc:0.957605\tvalidation_1-auc:0.938226\n",
      "[907]\tvalidation_0-auc:0.957619\tvalidation_1-auc:0.938243\n",
      "[908]\tvalidation_0-auc:0.957629\tvalidation_1-auc:0.938253\n",
      "[909]\tvalidation_0-auc:0.957643\tvalidation_1-auc:0.938265\n",
      "[910]\tvalidation_0-auc:0.957653\tvalidation_1-auc:0.938277\n",
      "[911]\tvalidation_0-auc:0.957671\tvalidation_1-auc:0.938288\n",
      "[912]\tvalidation_0-auc:0.957677\tvalidation_1-auc:0.938289\n",
      "[913]\tvalidation_0-auc:0.957692\tvalidation_1-auc:0.9383\n",
      "[914]\tvalidation_0-auc:0.957724\tvalidation_1-auc:0.938311\n",
      "[915]\tvalidation_0-auc:0.957746\tvalidation_1-auc:0.938314\n",
      "[916]\tvalidation_0-auc:0.957762\tvalidation_1-auc:0.938325\n",
      "[917]\tvalidation_0-auc:0.95778\tvalidation_1-auc:0.938328\n",
      "[918]\tvalidation_0-auc:0.957791\tvalidation_1-auc:0.938337\n",
      "[919]\tvalidation_0-auc:0.957809\tvalidation_1-auc:0.938354\n",
      "[920]\tvalidation_0-auc:0.957819\tvalidation_1-auc:0.938362\n",
      "[921]\tvalidation_0-auc:0.957834\tvalidation_1-auc:0.938373\n",
      "[922]\tvalidation_0-auc:0.957855\tvalidation_1-auc:0.938386\n",
      "[923]\tvalidation_0-auc:0.957869\tvalidation_1-auc:0.938398\n",
      "[924]\tvalidation_0-auc:0.957895\tvalidation_1-auc:0.93841\n",
      "[925]\tvalidation_0-auc:0.957919\tvalidation_1-auc:0.938429\n",
      "[926]\tvalidation_0-auc:0.957937\tvalidation_1-auc:0.938446\n",
      "[927]\tvalidation_0-auc:0.957956\tvalidation_1-auc:0.938459\n",
      "[928]\tvalidation_0-auc:0.957976\tvalidation_1-auc:0.938473\n",
      "[929]\tvalidation_0-auc:0.957991\tvalidation_1-auc:0.938482\n",
      "[930]\tvalidation_0-auc:0.958\tvalidation_1-auc:0.938491\n",
      "[931]\tvalidation_0-auc:0.958016\tvalidation_1-auc:0.938498\n",
      "[932]\tvalidation_0-auc:0.958041\tvalidation_1-auc:0.938508\n",
      "[933]\tvalidation_0-auc:0.958057\tvalidation_1-auc:0.938522\n",
      "[934]\tvalidation_0-auc:0.958076\tvalidation_1-auc:0.938535\n",
      "[935]\tvalidation_0-auc:0.958093\tvalidation_1-auc:0.938534\n",
      "[936]\tvalidation_0-auc:0.958101\tvalidation_1-auc:0.938541\n",
      "[937]\tvalidation_0-auc:0.958116\tvalidation_1-auc:0.938546\n",
      "[938]\tvalidation_0-auc:0.958132\tvalidation_1-auc:0.938556\n",
      "[939]\tvalidation_0-auc:0.958147\tvalidation_1-auc:0.938558\n",
      "[940]\tvalidation_0-auc:0.95816\tvalidation_1-auc:0.93856\n",
      "[941]\tvalidation_0-auc:0.958169\tvalidation_1-auc:0.938568\n",
      "[942]\tvalidation_0-auc:0.958191\tvalidation_1-auc:0.938584\n",
      "[943]\tvalidation_0-auc:0.958204\tvalidation_1-auc:0.938594\n",
      "[944]\tvalidation_0-auc:0.958216\tvalidation_1-auc:0.938606\n",
      "[945]\tvalidation_0-auc:0.958227\tvalidation_1-auc:0.938617\n",
      "[946]\tvalidation_0-auc:0.958239\tvalidation_1-auc:0.938633\n",
      "[947]\tvalidation_0-auc:0.958248\tvalidation_1-auc:0.938634\n",
      "[948]\tvalidation_0-auc:0.958254\tvalidation_1-auc:0.938636\n",
      "[949]\tvalidation_0-auc:0.95828\tvalidation_1-auc:0.938653\n",
      "[950]\tvalidation_0-auc:0.958299\tvalidation_1-auc:0.938661\n",
      "[951]\tvalidation_0-auc:0.958317\tvalidation_1-auc:0.938669\n",
      "[952]\tvalidation_0-auc:0.95833\tvalidation_1-auc:0.938682\n",
      "[953]\tvalidation_0-auc:0.958353\tvalidation_1-auc:0.9387\n",
      "[954]\tvalidation_0-auc:0.958361\tvalidation_1-auc:0.938705\n",
      "[955]\tvalidation_0-auc:0.958384\tvalidation_1-auc:0.938717\n",
      "[956]\tvalidation_0-auc:0.958398\tvalidation_1-auc:0.938725\n",
      "[957]\tvalidation_0-auc:0.958413\tvalidation_1-auc:0.938728\n",
      "[958]\tvalidation_0-auc:0.958422\tvalidation_1-auc:0.938732\n",
      "[959]\tvalidation_0-auc:0.958437\tvalidation_1-auc:0.938734\n",
      "[960]\tvalidation_0-auc:0.958451\tvalidation_1-auc:0.938739\n",
      "[961]\tvalidation_0-auc:0.958459\tvalidation_1-auc:0.938739\n",
      "[962]\tvalidation_0-auc:0.958472\tvalidation_1-auc:0.938752\n",
      "[963]\tvalidation_0-auc:0.958497\tvalidation_1-auc:0.938759\n",
      "[964]\tvalidation_0-auc:0.958505\tvalidation_1-auc:0.938767\n",
      "[965]\tvalidation_0-auc:0.958522\tvalidation_1-auc:0.938784\n",
      "[966]\tvalidation_0-auc:0.958532\tvalidation_1-auc:0.938788\n",
      "[967]\tvalidation_0-auc:0.958544\tvalidation_1-auc:0.93879\n",
      "[968]\tvalidation_0-auc:0.958559\tvalidation_1-auc:0.938805\n",
      "[969]\tvalidation_0-auc:0.958575\tvalidation_1-auc:0.938815\n",
      "[970]\tvalidation_0-auc:0.958585\tvalidation_1-auc:0.938827\n",
      "[971]\tvalidation_0-auc:0.958604\tvalidation_1-auc:0.938839\n",
      "[972]\tvalidation_0-auc:0.958613\tvalidation_1-auc:0.938851\n",
      "[973]\tvalidation_0-auc:0.958623\tvalidation_1-auc:0.938857\n",
      "[974]\tvalidation_0-auc:0.958641\tvalidation_1-auc:0.938868\n",
      "[975]\tvalidation_0-auc:0.958656\tvalidation_1-auc:0.93888\n",
      "[976]\tvalidation_0-auc:0.958676\tvalidation_1-auc:0.938894\n",
      "[977]\tvalidation_0-auc:0.958687\tvalidation_1-auc:0.938906\n",
      "[978]\tvalidation_0-auc:0.958711\tvalidation_1-auc:0.938912\n",
      "[979]\tvalidation_0-auc:0.958732\tvalidation_1-auc:0.93893\n",
      "[980]\tvalidation_0-auc:0.958742\tvalidation_1-auc:0.938939\n",
      "[981]\tvalidation_0-auc:0.958755\tvalidation_1-auc:0.938954\n",
      "[982]\tvalidation_0-auc:0.958765\tvalidation_1-auc:0.938955\n",
      "[983]\tvalidation_0-auc:0.958783\tvalidation_1-auc:0.938961\n",
      "[984]\tvalidation_0-auc:0.958796\tvalidation_1-auc:0.93897\n",
      "[985]\tvalidation_0-auc:0.958807\tvalidation_1-auc:0.938984\n",
      "[986]\tvalidation_0-auc:0.958817\tvalidation_1-auc:0.938989\n",
      "[987]\tvalidation_0-auc:0.958829\tvalidation_1-auc:0.938995\n",
      "[988]\tvalidation_0-auc:0.958839\tvalidation_1-auc:0.939003\n",
      "[989]\tvalidation_0-auc:0.958854\tvalidation_1-auc:0.939015\n",
      "[990]\tvalidation_0-auc:0.958868\tvalidation_1-auc:0.939025\n",
      "[991]\tvalidation_0-auc:0.95888\tvalidation_1-auc:0.939037\n",
      "[992]\tvalidation_0-auc:0.958897\tvalidation_1-auc:0.939058\n"
     ]
    },
    {
     "name": "stdout",
     "output_type": "stream",
     "text": [
      "[993]\tvalidation_0-auc:0.958915\tvalidation_1-auc:0.93907\n",
      "[994]\tvalidation_0-auc:0.958924\tvalidation_1-auc:0.939078\n",
      "[995]\tvalidation_0-auc:0.958942\tvalidation_1-auc:0.939086\n",
      "[996]\tvalidation_0-auc:0.958952\tvalidation_1-auc:0.939097\n",
      "[997]\tvalidation_0-auc:0.958972\tvalidation_1-auc:0.939113\n",
      "[998]\tvalidation_0-auc:0.958982\tvalidation_1-auc:0.93912\n",
      "[999]\tvalidation_0-auc:0.959\tvalidation_1-auc:0.939125\n",
      "CPU times: user 7min 34s, sys: 1.02 s, total: 7min 35s\n",
      "Wall time: 7min 34s\n"
     ]
    },
    {
     "data": {
      "text/plain": [
       "XGBClassifier(base_score=0.5, booster='gbtree', colsample_bylevel=1,\n",
       "       colsample_bytree=0.4, gamma=10, learning_rate=0.01,\n",
       "       max_delta_step=0, max_depth=5, min_child_weight=1, missing=None,\n",
       "       n_estimators=1000, n_jobs=1, nthread=None,\n",
       "       objective='binary:logistic', random_state=0, reg_alpha=0.3,\n",
       "       reg_lambda=1, scale_pos_weight=1, seed=None, silent=False,\n",
       "       subsample=0.8)"
      ]
     },
     "execution_count": 106,
     "metadata": {},
     "output_type": "execute_result"
    }
   ],
   "source": [
    "from xgboost import XGBClassifier\n",
    "model = XGBClassifier(silent=False, \n",
    "                      scale_pos_weight=1,\n",
    "                      learning_rate=0.01,  \n",
    "                      colsample_bytree = 0.4,\n",
    "                      subsample = 0.8,\n",
    "                      objective='binary:logistic', \n",
    "                      n_estimators=1000, \n",
    "                      reg_alpha = 0.3,\n",
    "                      max_depth=5, \n",
    "                      gamma=10)\n",
    "eval_set = [(np.array(sent_vectors_train), y_train), (np.array(sent_vectors_test), y_test)]\n",
    "eval_metric = [\"auc\"]\n",
    "%time model.fit(np.array(sent_vectors_train), y_train, eval_metric=eval_metric, eval_set=eval_set,early_stopping_rounds=10, verbose=True)\n"
   ]
  },
  {
   "cell_type": "code",
   "execution_count": 107,
   "metadata": {
    "colab": {},
    "colab_type": "code",
    "id": "rT5ewkHDVALr",
    "outputId": "fbe229e0-becc-4d3a-922e-5daed4f34e80"
   },
   "outputs": [
    {
     "data": {
      "image/png": "[encoded data removed]",
      "text/plain": [
       "<Figure size 432x288 with 1 Axes>"
      ]
     },
     "metadata": {},
     "output_type": "display_data"
    }
   ],
   "source": [
    "results = model.evals_result()\n",
    "epochs = len(results['validation_0']['auc'])\n",
    "x_axis = range(0, epochs)\n",
    "\n",
    "fig, ax = plt.subplots()\n",
    "ax.plot(x_axis, results['validation_0']['auc'], label='Train')\n",
    "ax.plot(x_axis, results['validation_1']['auc'], label='Test')\n",
    "ax.legend()\n",
    "plt.ylabel('Auc')\n",
    "plt.title('XGBoost Auc')\n",
    "plt.show()\n"
   ]
  },
  {
   "cell_type": "code",
   "execution_count": 108,
   "metadata": {
    "colab": {},
    "colab_type": "code",
    "id": "EWBVYckPVALu",
    "outputId": "148504d3-59be-4f7e-be06-941aa206002e"
   },
   "outputs": [
    {
     "name": "stdout",
     "output_type": "stream",
     "text": [
      "CPU times: user 41.7 s, sys: 696 ms, total: 42.4 s\n",
      "Wall time: 8min 3s\n"
     ]
    },
    {
     "data": {
      "text/plain": [
       "GridSearchCV(cv='warn', error_score='raise-deprecating',\n",
       "       estimator=XGBClassifier(base_score=0.5, booster='gbtree', colsample_bylevel=1,\n",
       "       colsample_bytree=1, gamma=0, learning_rate=0.1, max_delta_step=0,\n",
       "       max_depth=3, min_child_weight=1, missing=None, n_estimators=24,\n",
       "       n_jobs=1, nthread=None, objective='binary:logistic', random_state=0,\n",
       "       reg_alpha=0, reg_lambda=1, scale_pos_weight=1, seed=None,\n",
       "       silent=True, subsample=1),\n",
       "       fit_params=None, iid='warn', n_jobs=-1,\n",
       "       param_grid={'max_depth': [8, 9, 10, 11, 12, 13, 14, 15, 16, 17]},\n",
       "       pre_dispatch='2*n_jobs', refit=True, return_train_score='warn',\n",
       "       scoring='f1', verbose=0)"
      ]
     },
     "execution_count": 108,
     "metadata": {},
     "output_type": "execute_result"
    }
   ],
   "source": [
    "param_grid= {'max_depth': [8,9,10,11,12,13,14,15,16,17]}\n",
    "from sklearn.model_selection import GridSearchCV\n",
    "grid=GridSearchCV(XGBClassifier(n_estimators=24), param_grid, scoring=\"f1\",n_jobs=-1)\n",
    "%time grid.fit(np.array(sent_vectors_train),y_train)\n"
   ]
  },
  {
   "cell_type": "code",
   "execution_count": 109,
   "metadata": {
    "colab": {},
    "colab_type": "code",
    "id": "_-I5qUJ5VALy",
    "outputId": "0c063e3a-ad34-41f2-f8bb-0649c0206554"
   },
   "outputs": [
    {
     "data": {
      "image/png": "[encoded data removed]",
      "text/plain": [
       "<Figure size 432x288 with 1 Axes>"
      ]
     },
     "metadata": {},
     "output_type": "display_data"
    }
   ],
   "source": [
    "cv_scores=grid.cv_results_ ['mean_test_score']\n",
    "train_scores=grid.cv_results_ ['mean_train_score']\n",
    "lines = plt.plot(param_grid[\"max_depth\"],cv_scores, param_grid[\"max_depth\"],train_scores )\n",
    "plt.setp(lines[0], color='r', linewidth=2.0, label=\"cv score\")\n",
    "plt.setp(lines[1], color='g', linewidth=2.0,label=\"train score\")\n",
    "plt.legend()\n",
    "plt.show()"
   ]
  },
  {
   "cell_type": "code",
   "execution_count": 110,
   "metadata": {
    "colab": {},
    "colab_type": "code",
    "id": "msLAc2N0VAL_",
    "outputId": "f5d08551-671c-4679-caef-c82080abda77"
   },
   "outputs": [
    {
     "name": "stdout",
     "output_type": "stream",
     "text": [
      "CPU times: user 11min 56s, sys: 2.97 s, total: 11min 59s\n",
      "Wall time: 11min 59s\n"
     ]
    },
    {
     "data": {
      "text/plain": [
       "RandomizedSearchCV(cv='warn', error_score='raise-deprecating',\n",
       "          estimator=XGBClassifier(base_score=0.5, booster='gbtree', colsample_bylevel=1,\n",
       "       colsample_bytree=1, gamma=0, learning_rate=0.1, max_delta_step=0,\n",
       "       max_depth=9, min_child_weight=1, missing=None, n_estimators=24,\n",
       "       n_jobs=1, nthread=None, objective='binary:logistic', random_state=0,\n",
       "       reg_alpha=0, reg_lambda=1, scale_pos_weight=1, seed=None,\n",
       "       silent=True, subsample=1),\n",
       "          fit_params=None, iid='warn', n_iter=10, n_jobs=None,\n",
       "          param_distributions={'gamma': [0, 1, 5], 'learning_rate': [0.01, 0.05, 0.1], 'subsample': [0.8, 0.9, 1]},\n",
       "          pre_dispatch='2*n_jobs', random_state=None, refit=True,\n",
       "          return_train_score='warn', scoring='f1', verbose=0)"
      ]
     },
     "execution_count": 110,
     "metadata": {},
     "output_type": "execute_result"
    }
   ],
   "source": [
    "from sklearn.model_selection import RandomizedSearchCV\n",
    "params = {\n",
    "        'gamma': [0, 1, 5],\n",
    "        'learning_rate': [0.01,0.05,0.1],\n",
    "        'subsample':[0.8,0.9,1]\n",
    "        }\n",
    "random_search = RandomizedSearchCV(XGBClassifier(n_estimators=24,max_depth=9), param_distributions=params, n_iter=10, scoring='f1')\n",
    "%time random_search.fit(np.array(sent_vectors_train),y_train)"
   ]
  },
  {
   "cell_type": "code",
   "execution_count": 111,
   "metadata": {
    "colab": {},
    "colab_type": "code",
    "id": "MKS-yhgAVAMB",
    "outputId": "0de2b029-5edd-4ec6-dbf8-943e81d405c7"
   },
   "outputs": [
    {
     "name": "stdout",
     "output_type": "stream",
     "text": [
      "Accuracy for learning rate: 0.1 ,n_estimators: 1\n",
      "89.54084539136379\n",
      "[[ 2458  2103]\n",
      " [  651 21119]]\n"
     ]
    },
    {
     "data": {
      "image/png": "[encoded data removed]",
      "text/plain": [
       "<Figure size 432x288 with 2 Axes>"
      ]
     },
     "metadata": {},
     "output_type": "display_data"
    }
   ],
   "source": [
    "from sklearn.metrics import accuracy_score\n",
    "optimal_param=random_search.best_params_ \n",
    "pre=random_search.predict(sent_vectors_test)\n",
    "acc = accuracy_score(y_test, pre) * 100\n",
    "print(\"Accuracy for learning rate:\",optimal_param['learning_rate'],',gamma:',optimal_param['gamma'])\n",
    "print(acc)\n",
    "import sklearn.metrics\n",
    "import seaborn\n",
    "conf_matr=confusion_matrix(y_test,pre)\n",
    "seaborn.heatmap(conf_matr,annot=True,fmt='g')\n",
    "print(conf_matr)"
   ]
  },
  {
   "cell_type": "code",
   "execution_count": 112,
   "metadata": {},
   "outputs": [
    {
     "name": "stdout",
     "output_type": "stream",
     "text": [
      "Accuracy for learning rate: 0.1 ,n_estimators: 1\n",
      "94.85368314833501\n",
      "[[ 6994  2626]\n",
      " [  536 51286]]\n"
     ]
    },
    {
     "data": {
      "image/png": "[encoded data removed]",
      "text/plain": [
       "<Figure size 432x288 with 2 Axes>"
      ]
     },
     "metadata": {},
     "output_type": "display_data"
    }
   ],
   "source": [
    "from sklearn.metrics import accuracy_score\n",
    "optimal_param=random_search.best_params_ \n",
    "pre=random_search.predict(sent_vectors_train)\n",
    "acc = accuracy_score(y_train, pre) * 100\n",
    "print(\"Accuracy for learning rate:\",optimal_param['learning_rate'],',n_estimators:',optimal_param['gamma'])\n",
    "print(acc)\n",
    "import sklearn.metrics\n",
    "import seaborn\n",
    "conf_matr=confusion_matrix(y_train,pre)\n",
    "seaborn.heatmap(conf_matr,annot=True,fmt='g')\n",
    "print(conf_matr)"
   ]
  },
  {
   "cell_type": "code",
   "execution_count": 113,
   "metadata": {
    "colab": {},
    "colab_type": "code",
    "id": "JvJMSLgSVAMH",
    "outputId": "bfe1fcf2-3ef1-442b-ff0e-f1683f430426"
   },
   "outputs": [
    {
     "data": {
      "image/png": "[encoded data removed]",
      "text/plain": [
       "<Figure size 432x288 with 1 Axes>"
      ]
     },
     "metadata": {},
     "output_type": "display_data"
    }
   ],
   "source": [
    "from sklearn.calibration import CalibratedClassifierCV\n",
    "caliberated=CalibratedClassifierCV(random_search.best_estimator_, method='sigmoid', cv=5)\n",
    "caliberated.fit(sent_vectors_train,y_train)\n",
    "train_calb_probs=caliberated.predict_proba(sent_vectors_train)\n",
    "calb_probs=caliberated.predict_proba(sent_vectors_test)\n",
    "from sklearn.metrics import roc_curve,roc_auc_score\n",
    "fpr_train, tpr_train, _ = roc_curve(y_train,train_calb_probs[:,1])\n",
    "fpr_test, tpr_test, _ = roc_curve(y_test,calb_probs[:,1])\n",
    "roc_auc_train =roc_auc_score(y_train,train_calb_probs[:,1])\n",
    "roc_auc_test = roc_auc_score(y_test,calb_probs[:,1])\n",
    "plt.figure()\n",
    "plt.plot(fpr_test, tpr_test, color='darkorange', label='ROC curve for test data(area = %0.2f)' % roc_auc_test)\n",
    "plt.plot(fpr_train, tpr_train, color='red', label='ROC curve for train data (area = %0.2f)' % roc_auc_train)\n",
    "plt.plot([0, 1], [0, 1], color='navy', linestyle='--')\n",
    "plt.xlim([0.0, 1.0])\n",
    "plt.ylim([0.0, 1.05])\n",
    "plt.xlabel('False Positive Rate')\n",
    "plt.ylabel('True Positive Rate')\n",
    "plt.title('Receiver operating characteristic')\n",
    "plt.legend(loc=\"lower right\")\n",
    "plt.show()"
   ]
  },
  {
   "cell_type": "markdown",
   "metadata": {
    "colab_type": "text",
    "id": "8yR8WcDXVAML"
   },
   "source": [
    "### [5.2.4] Applying XGBOOST on TFIDF W2V,<font color='red'> SET 4</font>"
   ]
  },
  {
   "cell_type": "code",
   "execution_count": 114,
   "metadata": {
    "colab": {},
    "colab_type": "code",
    "id": "T5pDuHo5VAML",
    "outputId": "51250f26-522e-478a-fcc1-e1657aed2ab0"
   },
   "outputs": [
    {
     "name": "stdout",
     "output_type": "stream",
     "text": [
      "[0]\tvalidation_0-auc:0.767141\tvalidation_1-auc:0.749305\n",
      "Multiple eval metrics have been passed: 'validation_1-auc' will be used for early stopping.\n",
      "\n",
      "Will train until validation_1-auc hasn't improved in 10 rounds.\n",
      "[1]\tvalidation_0-auc:0.80992\tvalidation_1-auc:0.795914\n",
      "[2]\tvalidation_0-auc:0.834393\tvalidation_1-auc:0.822125\n",
      "[3]\tvalidation_0-auc:0.850708\tvalidation_1-auc:0.836619\n",
      "[4]\tvalidation_0-auc:0.852543\tvalidation_1-auc:0.836362\n",
      "[5]\tvalidation_0-auc:0.860278\tvalidation_1-auc:0.844423\n",
      "[6]\tvalidation_0-auc:0.86157\tvalidation_1-auc:0.846381\n",
      "[7]\tvalidation_0-auc:0.862816\tvalidation_1-auc:0.848038\n",
      "[8]\tvalidation_0-auc:0.866267\tvalidation_1-auc:0.851101\n",
      "[9]\tvalidation_0-auc:0.864467\tvalidation_1-auc:0.848244\n",
      "[10]\tvalidation_0-auc:0.863387\tvalidation_1-auc:0.846142\n",
      "[11]\tvalidation_0-auc:0.865998\tvalidation_1-auc:0.84834\n",
      "[12]\tvalidation_0-auc:0.867748\tvalidation_1-auc:0.850168\n",
      "[13]\tvalidation_0-auc:0.867481\tvalidation_1-auc:0.850775\n",
      "[14]\tvalidation_0-auc:0.868333\tvalidation_1-auc:0.8515\n",
      "[15]\tvalidation_0-auc:0.869767\tvalidation_1-auc:0.852632\n",
      "[16]\tvalidation_0-auc:0.871243\tvalidation_1-auc:0.854486\n",
      "[17]\tvalidation_0-auc:0.871559\tvalidation_1-auc:0.853781\n",
      "[18]\tvalidation_0-auc:0.870706\tvalidation_1-auc:0.852992\n",
      "[19]\tvalidation_0-auc:0.872367\tvalidation_1-auc:0.85488\n",
      "[20]\tvalidation_0-auc:0.872039\tvalidation_1-auc:0.85514\n",
      "[21]\tvalidation_0-auc:0.872891\tvalidation_1-auc:0.856082\n",
      "[22]\tvalidation_0-auc:0.872526\tvalidation_1-auc:0.856208\n",
      "[23]\tvalidation_0-auc:0.871743\tvalidation_1-auc:0.855614\n",
      "[24]\tvalidation_0-auc:0.871305\tvalidation_1-auc:0.855116\n",
      "[25]\tvalidation_0-auc:0.870782\tvalidation_1-auc:0.85481\n",
      "[26]\tvalidation_0-auc:0.871685\tvalidation_1-auc:0.855783\n",
      "[27]\tvalidation_0-auc:0.873699\tvalidation_1-auc:0.857904\n",
      "[28]\tvalidation_0-auc:0.873119\tvalidation_1-auc:0.857443\n",
      "[29]\tvalidation_0-auc:0.873586\tvalidation_1-auc:0.858024\n",
      "[30]\tvalidation_0-auc:0.873533\tvalidation_1-auc:0.858022\n",
      "[31]\tvalidation_0-auc:0.873044\tvalidation_1-auc:0.857581\n",
      "[32]\tvalidation_0-auc:0.872613\tvalidation_1-auc:0.857166\n",
      "[33]\tvalidation_0-auc:0.873282\tvalidation_1-auc:0.857879\n",
      "[34]\tvalidation_0-auc:0.87382\tvalidation_1-auc:0.858444\n",
      "[35]\tvalidation_0-auc:0.874328\tvalidation_1-auc:0.858905\n",
      "[36]\tvalidation_0-auc:0.873849\tvalidation_1-auc:0.858557\n",
      "[37]\tvalidation_0-auc:0.87408\tvalidation_1-auc:0.85859\n",
      "[38]\tvalidation_0-auc:0.874858\tvalidation_1-auc:0.859425\n",
      "[39]\tvalidation_0-auc:0.874666\tvalidation_1-auc:0.85933\n",
      "[40]\tvalidation_0-auc:0.875188\tvalidation_1-auc:0.859986\n",
      "[41]\tvalidation_0-auc:0.874908\tvalidation_1-auc:0.859475\n",
      "[42]\tvalidation_0-auc:0.875384\tvalidation_1-auc:0.860082\n",
      "[43]\tvalidation_0-auc:0.875927\tvalidation_1-auc:0.860743\n",
      "[44]\tvalidation_0-auc:0.876211\tvalidation_1-auc:0.860897\n",
      "[45]\tvalidation_0-auc:0.875897\tvalidation_1-auc:0.860818\n",
      "[46]\tvalidation_0-auc:0.8766\tvalidation_1-auc:0.861533\n",
      "[47]\tvalidation_0-auc:0.877448\tvalidation_1-auc:0.862346\n",
      "[48]\tvalidation_0-auc:0.877196\tvalidation_1-auc:0.862106\n",
      "[49]\tvalidation_0-auc:0.87777\tvalidation_1-auc:0.862831\n",
      "[50]\tvalidation_0-auc:0.878229\tvalidation_1-auc:0.863262\n",
      "[51]\tvalidation_0-auc:0.878272\tvalidation_1-auc:0.86316\n",
      "[52]\tvalidation_0-auc:0.878248\tvalidation_1-auc:0.863235\n",
      "[53]\tvalidation_0-auc:0.87908\tvalidation_1-auc:0.864106\n",
      "[54]\tvalidation_0-auc:0.879262\tvalidation_1-auc:0.864244\n",
      "[55]\tvalidation_0-auc:0.879613\tvalidation_1-auc:0.864542\n",
      "[56]\tvalidation_0-auc:0.87991\tvalidation_1-auc:0.864776\n",
      "[57]\tvalidation_0-auc:0.880062\tvalidation_1-auc:0.864973\n",
      "[58]\tvalidation_0-auc:0.880329\tvalidation_1-auc:0.865152\n",
      "[59]\tvalidation_0-auc:0.880622\tvalidation_1-auc:0.865243\n",
      "[60]\tvalidation_0-auc:0.880269\tvalidation_1-auc:0.864812\n",
      "[61]\tvalidation_0-auc:0.880304\tvalidation_1-auc:0.864817\n",
      "[62]\tvalidation_0-auc:0.880518\tvalidation_1-auc:0.864977\n",
      "[63]\tvalidation_0-auc:0.880136\tvalidation_1-auc:0.864552\n",
      "[64]\tvalidation_0-auc:0.880281\tvalidation_1-auc:0.864892\n",
      "[65]\tvalidation_0-auc:0.880151\tvalidation_1-auc:0.86487\n",
      "[66]\tvalidation_0-auc:0.880314\tvalidation_1-auc:0.864908\n",
      "[67]\tvalidation_0-auc:0.88069\tvalidation_1-auc:0.86539\n",
      "[68]\tvalidation_0-auc:0.880792\tvalidation_1-auc:0.865521\n",
      "[69]\tvalidation_0-auc:0.880619\tvalidation_1-auc:0.865252\n",
      "[70]\tvalidation_0-auc:0.880739\tvalidation_1-auc:0.865272\n",
      "[71]\tvalidation_0-auc:0.880852\tvalidation_1-auc:0.865308\n",
      "[72]\tvalidation_0-auc:0.880624\tvalidation_1-auc:0.865157\n",
      "[73]\tvalidation_0-auc:0.881001\tvalidation_1-auc:0.865544\n",
      "[74]\tvalidation_0-auc:0.88117\tvalidation_1-auc:0.865618\n",
      "[75]\tvalidation_0-auc:0.88125\tvalidation_1-auc:0.865632\n",
      "[76]\tvalidation_0-auc:0.8816\tvalidation_1-auc:0.865907\n",
      "[77]\tvalidation_0-auc:0.881414\tvalidation_1-auc:0.865764\n",
      "[78]\tvalidation_0-auc:0.881733\tvalidation_1-auc:0.866232\n",
      "[79]\tvalidation_0-auc:0.881531\tvalidation_1-auc:0.866066\n",
      "[80]\tvalidation_0-auc:0.881644\tvalidation_1-auc:0.866109\n",
      "[81]\tvalidation_0-auc:0.881661\tvalidation_1-auc:0.866165\n",
      "[82]\tvalidation_0-auc:0.88176\tvalidation_1-auc:0.866327\n",
      "[83]\tvalidation_0-auc:0.881714\tvalidation_1-auc:0.866204\n",
      "[84]\tvalidation_0-auc:0.882126\tvalidation_1-auc:0.866536\n",
      "[85]\tvalidation_0-auc:0.882502\tvalidation_1-auc:0.866867\n",
      "[86]\tvalidation_0-auc:0.88273\tvalidation_1-auc:0.867084\n",
      "[87]\tvalidation_0-auc:0.882715\tvalidation_1-auc:0.866984\n",
      "[88]\tvalidation_0-auc:0.88307\tvalidation_1-auc:0.867477\n",
      "[89]\tvalidation_0-auc:0.883003\tvalidation_1-auc:0.867503\n",
      "[90]\tvalidation_0-auc:0.883165\tvalidation_1-auc:0.867504\n",
      "[91]\tvalidation_0-auc:0.883013\tvalidation_1-auc:0.867367\n",
      "[92]\tvalidation_0-auc:0.882798\tvalidation_1-auc:0.867218\n",
      "[93]\tvalidation_0-auc:0.883025\tvalidation_1-auc:0.867398\n",
      "[94]\tvalidation_0-auc:0.883399\tvalidation_1-auc:0.867797\n",
      "[95]\tvalidation_0-auc:0.883543\tvalidation_1-auc:0.867832\n",
      "[96]\tvalidation_0-auc:0.883993\tvalidation_1-auc:0.868285\n",
      "[97]\tvalidation_0-auc:0.884094\tvalidation_1-auc:0.868345\n",
      "[98]\tvalidation_0-auc:0.884338\tvalidation_1-auc:0.868567\n",
      "[99]\tvalidation_0-auc:0.884269\tvalidation_1-auc:0.868536\n",
      "[100]\tvalidation_0-auc:0.884413\tvalidation_1-auc:0.868745\n",
      "[101]\tvalidation_0-auc:0.884813\tvalidation_1-auc:0.869032\n",
      "[102]\tvalidation_0-auc:0.884975\tvalidation_1-auc:0.869194\n",
      "[103]\tvalidation_0-auc:0.885158\tvalidation_1-auc:0.869336\n",
      "[104]\tvalidation_0-auc:0.885421\tvalidation_1-auc:0.869612\n",
      "[105]\tvalidation_0-auc:0.885624\tvalidation_1-auc:0.869766\n",
      "[106]\tvalidation_0-auc:0.885806\tvalidation_1-auc:0.869967\n",
      "[107]\tvalidation_0-auc:0.885896\tvalidation_1-auc:0.869995\n",
      "[108]\tvalidation_0-auc:0.885773\tvalidation_1-auc:0.869952\n",
      "[109]\tvalidation_0-auc:0.88618\tvalidation_1-auc:0.870289\n",
      "[110]\tvalidation_0-auc:0.886097\tvalidation_1-auc:0.870232\n",
      "[111]\tvalidation_0-auc:0.886246\tvalidation_1-auc:0.870373\n",
      "[112]\tvalidation_0-auc:0.886599\tvalidation_1-auc:0.87066\n",
      "[113]\tvalidation_0-auc:0.886643\tvalidation_1-auc:0.870666\n",
      "[114]\tvalidation_0-auc:0.886613\tvalidation_1-auc:0.870577\n",
      "[115]\tvalidation_0-auc:0.886886\tvalidation_1-auc:0.87089\n",
      "[116]\tvalidation_0-auc:0.88673\tvalidation_1-auc:0.870732\n",
      "[117]\tvalidation_0-auc:0.886887\tvalidation_1-auc:0.870944\n",
      "[118]\tvalidation_0-auc:0.886971\tvalidation_1-auc:0.870994\n",
      "[119]\tvalidation_0-auc:0.887109\tvalidation_1-auc:0.871184\n",
      "[120]\tvalidation_0-auc:0.887332\tvalidation_1-auc:0.871427\n",
      "[121]\tvalidation_0-auc:0.887147\tvalidation_1-auc:0.871244\n",
      "[122]\tvalidation_0-auc:0.88753\tvalidation_1-auc:0.871717\n",
      "[123]\tvalidation_0-auc:0.887621\tvalidation_1-auc:0.871776\n",
      "[124]\tvalidation_0-auc:0.887528\tvalidation_1-auc:0.871692\n",
      "[125]\tvalidation_0-auc:0.887474\tvalidation_1-auc:0.871659\n",
      "[126]\tvalidation_0-auc:0.887634\tvalidation_1-auc:0.871809\n",
      "[127]\tvalidation_0-auc:0.887506\tvalidation_1-auc:0.871673\n",
      "[128]\tvalidation_0-auc:0.887409\tvalidation_1-auc:0.871638\n",
      "[129]\tvalidation_0-auc:0.887493\tvalidation_1-auc:0.871678\n",
      "[130]\tvalidation_0-auc:0.887515\tvalidation_1-auc:0.871748\n",
      "[131]\tvalidation_0-auc:0.887769\tvalidation_1-auc:0.872007\n",
      "[132]\tvalidation_0-auc:0.887924\tvalidation_1-auc:0.872212\n",
      "[133]\tvalidation_0-auc:0.888011\tvalidation_1-auc:0.872254\n",
      "[134]\tvalidation_0-auc:0.887999\tvalidation_1-auc:0.872268\n",
      "[135]\tvalidation_0-auc:0.888226\tvalidation_1-auc:0.872501\n",
      "[136]\tvalidation_0-auc:0.888159\tvalidation_1-auc:0.872371\n",
      "[137]\tvalidation_0-auc:0.888365\tvalidation_1-auc:0.872524\n",
      "[138]\tvalidation_0-auc:0.88866\tvalidation_1-auc:0.872802\n",
      "[139]\tvalidation_0-auc:0.888773\tvalidation_1-auc:0.872862\n",
      "[140]\tvalidation_0-auc:0.888768\tvalidation_1-auc:0.872772\n",
      "[141]\tvalidation_0-auc:0.888667\tvalidation_1-auc:0.872611\n"
     ]
    },
    {
     "name": "stdout",
     "output_type": "stream",
     "text": [
      "[142]\tvalidation_0-auc:0.888599\tvalidation_1-auc:0.872514\n",
      "[143]\tvalidation_0-auc:0.888553\tvalidation_1-auc:0.872482\n",
      "[144]\tvalidation_0-auc:0.888691\tvalidation_1-auc:0.872578\n",
      "[145]\tvalidation_0-auc:0.88878\tvalidation_1-auc:0.872626\n",
      "[146]\tvalidation_0-auc:0.889053\tvalidation_1-auc:0.872849\n",
      "[147]\tvalidation_0-auc:0.889113\tvalidation_1-auc:0.8729\n",
      "[148]\tvalidation_0-auc:0.889286\tvalidation_1-auc:0.873042\n",
      "[149]\tvalidation_0-auc:0.889465\tvalidation_1-auc:0.873242\n",
      "[150]\tvalidation_0-auc:0.889476\tvalidation_1-auc:0.873294\n",
      "[151]\tvalidation_0-auc:0.889384\tvalidation_1-auc:0.87314\n",
      "[152]\tvalidation_0-auc:0.889593\tvalidation_1-auc:0.873343\n",
      "[153]\tvalidation_0-auc:0.889821\tvalidation_1-auc:0.873554\n",
      "[154]\tvalidation_0-auc:0.889922\tvalidation_1-auc:0.873693\n",
      "[155]\tvalidation_0-auc:0.889837\tvalidation_1-auc:0.873544\n",
      "[156]\tvalidation_0-auc:0.890028\tvalidation_1-auc:0.873715\n",
      "[157]\tvalidation_0-auc:0.890178\tvalidation_1-auc:0.873827\n",
      "[158]\tvalidation_0-auc:0.890364\tvalidation_1-auc:0.87403\n",
      "[159]\tvalidation_0-auc:0.890567\tvalidation_1-auc:0.874244\n",
      "[160]\tvalidation_0-auc:0.890539\tvalidation_1-auc:0.874178\n",
      "[161]\tvalidation_0-auc:0.89059\tvalidation_1-auc:0.874253\n",
      "[162]\tvalidation_0-auc:0.890623\tvalidation_1-auc:0.874296\n",
      "[163]\tvalidation_0-auc:0.890541\tvalidation_1-auc:0.874199\n",
      "[164]\tvalidation_0-auc:0.890745\tvalidation_1-auc:0.874363\n",
      "[165]\tvalidation_0-auc:0.890798\tvalidation_1-auc:0.874431\n",
      "[166]\tvalidation_0-auc:0.890777\tvalidation_1-auc:0.874404\n",
      "[167]\tvalidation_0-auc:0.890914\tvalidation_1-auc:0.874503\n",
      "[168]\tvalidation_0-auc:0.891007\tvalidation_1-auc:0.874584\n",
      "[169]\tvalidation_0-auc:0.891155\tvalidation_1-auc:0.874694\n",
      "[170]\tvalidation_0-auc:0.891062\tvalidation_1-auc:0.874629\n",
      "[171]\tvalidation_0-auc:0.891318\tvalidation_1-auc:0.87491\n",
      "[172]\tvalidation_0-auc:0.891491\tvalidation_1-auc:0.875026\n",
      "[173]\tvalidation_0-auc:0.891666\tvalidation_1-auc:0.875169\n",
      "[174]\tvalidation_0-auc:0.891608\tvalidation_1-auc:0.87513\n",
      "[175]\tvalidation_0-auc:0.891617\tvalidation_1-auc:0.875117\n",
      "[176]\tvalidation_0-auc:0.891762\tvalidation_1-auc:0.875336\n",
      "[177]\tvalidation_0-auc:0.891898\tvalidation_1-auc:0.87546\n",
      "[178]\tvalidation_0-auc:0.892119\tvalidation_1-auc:0.875624\n",
      "[179]\tvalidation_0-auc:0.892252\tvalidation_1-auc:0.875755\n",
      "[180]\tvalidation_0-auc:0.892277\tvalidation_1-auc:0.875768\n",
      "[181]\tvalidation_0-auc:0.892305\tvalidation_1-auc:0.875805\n",
      "[182]\tvalidation_0-auc:0.892444\tvalidation_1-auc:0.875977\n",
      "[183]\tvalidation_0-auc:0.892385\tvalidation_1-auc:0.875962\n",
      "[184]\tvalidation_0-auc:0.892576\tvalidation_1-auc:0.876157\n",
      "[185]\tvalidation_0-auc:0.892707\tvalidation_1-auc:0.876252\n",
      "[186]\tvalidation_0-auc:0.892661\tvalidation_1-auc:0.876244\n",
      "[187]\tvalidation_0-auc:0.892581\tvalidation_1-auc:0.876176\n",
      "[188]\tvalidation_0-auc:0.892703\tvalidation_1-auc:0.876318\n",
      "[189]\tvalidation_0-auc:0.892779\tvalidation_1-auc:0.876315\n",
      "[190]\tvalidation_0-auc:0.892716\tvalidation_1-auc:0.876251\n",
      "[191]\tvalidation_0-auc:0.892847\tvalidation_1-auc:0.87639\n",
      "[192]\tvalidation_0-auc:0.89296\tvalidation_1-auc:0.876538\n",
      "[193]\tvalidation_0-auc:0.893213\tvalidation_1-auc:0.876788\n",
      "[194]\tvalidation_0-auc:0.893175\tvalidation_1-auc:0.87673\n",
      "[195]\tvalidation_0-auc:0.893354\tvalidation_1-auc:0.876912\n",
      "[196]\tvalidation_0-auc:0.893382\tvalidation_1-auc:0.876947\n",
      "[197]\tvalidation_0-auc:0.893433\tvalidation_1-auc:0.87703\n",
      "[198]\tvalidation_0-auc:0.893486\tvalidation_1-auc:0.877079\n",
      "[199]\tvalidation_0-auc:0.893459\tvalidation_1-auc:0.877029\n",
      "[200]\tvalidation_0-auc:0.893394\tvalidation_1-auc:0.876895\n",
      "[201]\tvalidation_0-auc:0.89353\tvalidation_1-auc:0.877003\n",
      "[202]\tvalidation_0-auc:0.893631\tvalidation_1-auc:0.877068\n",
      "[203]\tvalidation_0-auc:0.893808\tvalidation_1-auc:0.877235\n",
      "[204]\tvalidation_0-auc:0.893985\tvalidation_1-auc:0.877419\n",
      "[205]\tvalidation_0-auc:0.893986\tvalidation_1-auc:0.877467\n",
      "[206]\tvalidation_0-auc:0.894013\tvalidation_1-auc:0.877511\n",
      "[207]\tvalidation_0-auc:0.894152\tvalidation_1-auc:0.877669\n",
      "[208]\tvalidation_0-auc:0.894259\tvalidation_1-auc:0.877759\n",
      "[209]\tvalidation_0-auc:0.894313\tvalidation_1-auc:0.877847\n",
      "[210]\tvalidation_0-auc:0.894377\tvalidation_1-auc:0.877933\n",
      "[211]\tvalidation_0-auc:0.894456\tvalidation_1-auc:0.877964\n",
      "[212]\tvalidation_0-auc:0.894446\tvalidation_1-auc:0.877912\n",
      "[213]\tvalidation_0-auc:0.89458\tvalidation_1-auc:0.87808\n",
      "[214]\tvalidation_0-auc:0.894675\tvalidation_1-auc:0.878197\n",
      "[215]\tvalidation_0-auc:0.894685\tvalidation_1-auc:0.878172\n",
      "[216]\tvalidation_0-auc:0.894798\tvalidation_1-auc:0.878244\n",
      "[217]\tvalidation_0-auc:0.894929\tvalidation_1-auc:0.878362\n",
      "[218]\tvalidation_0-auc:0.89506\tvalidation_1-auc:0.878445\n",
      "[219]\tvalidation_0-auc:0.89513\tvalidation_1-auc:0.878477\n",
      "[220]\tvalidation_0-auc:0.89525\tvalidation_1-auc:0.878616\n",
      "[221]\tvalidation_0-auc:0.895262\tvalidation_1-auc:0.878594\n",
      "[222]\tvalidation_0-auc:0.895303\tvalidation_1-auc:0.878678\n",
      "[223]\tvalidation_0-auc:0.895302\tvalidation_1-auc:0.878703\n",
      "[224]\tvalidation_0-auc:0.89533\tvalidation_1-auc:0.878708\n",
      "[225]\tvalidation_0-auc:0.895331\tvalidation_1-auc:0.878654\n",
      "[226]\tvalidation_0-auc:0.89542\tvalidation_1-auc:0.878779\n",
      "[227]\tvalidation_0-auc:0.895509\tvalidation_1-auc:0.87887\n",
      "[228]\tvalidation_0-auc:0.895692\tvalidation_1-auc:0.879048\n",
      "[229]\tvalidation_0-auc:0.89587\tvalidation_1-auc:0.879233\n",
      "[230]\tvalidation_0-auc:0.895927\tvalidation_1-auc:0.879284\n",
      "[231]\tvalidation_0-auc:0.896017\tvalidation_1-auc:0.879362\n",
      "[232]\tvalidation_0-auc:0.896108\tvalidation_1-auc:0.879431\n",
      "[233]\tvalidation_0-auc:0.896158\tvalidation_1-auc:0.879449\n",
      "[234]\tvalidation_0-auc:0.896209\tvalidation_1-auc:0.879472\n",
      "[235]\tvalidation_0-auc:0.89631\tvalidation_1-auc:0.879533\n",
      "[236]\tvalidation_0-auc:0.896344\tvalidation_1-auc:0.879576\n",
      "[237]\tvalidation_0-auc:0.896477\tvalidation_1-auc:0.879701\n",
      "[238]\tvalidation_0-auc:0.89656\tvalidation_1-auc:0.87975\n",
      "[239]\tvalidation_0-auc:0.896716\tvalidation_1-auc:0.87988\n",
      "[240]\tvalidation_0-auc:0.896691\tvalidation_1-auc:0.879812\n",
      "[241]\tvalidation_0-auc:0.896733\tvalidation_1-auc:0.879894\n",
      "[242]\tvalidation_0-auc:0.896853\tvalidation_1-auc:0.880031\n",
      "[243]\tvalidation_0-auc:0.896909\tvalidation_1-auc:0.880141\n",
      "[244]\tvalidation_0-auc:0.89696\tvalidation_1-auc:0.880253\n",
      "[245]\tvalidation_0-auc:0.89698\tvalidation_1-auc:0.880248\n",
      "[246]\tvalidation_0-auc:0.89708\tvalidation_1-auc:0.880371\n",
      "[247]\tvalidation_0-auc:0.897118\tvalidation_1-auc:0.880377\n",
      "[248]\tvalidation_0-auc:0.89721\tvalidation_1-auc:0.880465\n",
      "[249]\tvalidation_0-auc:0.89732\tvalidation_1-auc:0.880526\n",
      "[250]\tvalidation_0-auc:0.897389\tvalidation_1-auc:0.880609\n",
      "[251]\tvalidation_0-auc:0.897462\tvalidation_1-auc:0.880623\n",
      "[252]\tvalidation_0-auc:0.897601\tvalidation_1-auc:0.88071\n",
      "[253]\tvalidation_0-auc:0.897666\tvalidation_1-auc:0.880754\n",
      "[254]\tvalidation_0-auc:0.897638\tvalidation_1-auc:0.880742\n",
      "[255]\tvalidation_0-auc:0.897848\tvalidation_1-auc:0.880926\n",
      "[256]\tvalidation_0-auc:0.897927\tvalidation_1-auc:0.880989\n",
      "[257]\tvalidation_0-auc:0.898105\tvalidation_1-auc:0.881205\n",
      "[258]\tvalidation_0-auc:0.898254\tvalidation_1-auc:0.881342\n",
      "[259]\tvalidation_0-auc:0.898421\tvalidation_1-auc:0.88146\n",
      "[260]\tvalidation_0-auc:0.898543\tvalidation_1-auc:0.881599\n",
      "[261]\tvalidation_0-auc:0.898627\tvalidation_1-auc:0.881673\n",
      "[262]\tvalidation_0-auc:0.898722\tvalidation_1-auc:0.881741\n",
      "[263]\tvalidation_0-auc:0.898802\tvalidation_1-auc:0.881814\n",
      "[264]\tvalidation_0-auc:0.898893\tvalidation_1-auc:0.881923\n",
      "[265]\tvalidation_0-auc:0.898909\tvalidation_1-auc:0.881931\n",
      "[266]\tvalidation_0-auc:0.899064\tvalidation_1-auc:0.882028\n",
      "[267]\tvalidation_0-auc:0.899129\tvalidation_1-auc:0.882083\n",
      "[268]\tvalidation_0-auc:0.899209\tvalidation_1-auc:0.882129\n",
      "[269]\tvalidation_0-auc:0.89928\tvalidation_1-auc:0.882201\n",
      "[270]\tvalidation_0-auc:0.899451\tvalidation_1-auc:0.882355\n",
      "[271]\tvalidation_0-auc:0.899547\tvalidation_1-auc:0.882398\n",
      "[272]\tvalidation_0-auc:0.899679\tvalidation_1-auc:0.882513\n",
      "[273]\tvalidation_0-auc:0.899764\tvalidation_1-auc:0.882597\n",
      "[274]\tvalidation_0-auc:0.899925\tvalidation_1-auc:0.882748\n",
      "[275]\tvalidation_0-auc:0.900037\tvalidation_1-auc:0.882848\n",
      "[276]\tvalidation_0-auc:0.900175\tvalidation_1-auc:0.882975\n",
      "[277]\tvalidation_0-auc:0.900261\tvalidation_1-auc:0.883088\n",
      "[278]\tvalidation_0-auc:0.900303\tvalidation_1-auc:0.883134\n",
      "[279]\tvalidation_0-auc:0.900395\tvalidation_1-auc:0.88323\n",
      "[280]\tvalidation_0-auc:0.900529\tvalidation_1-auc:0.883363\n",
      "[281]\tvalidation_0-auc:0.900634\tvalidation_1-auc:0.883489\n",
      "[282]\tvalidation_0-auc:0.900721\tvalidation_1-auc:0.88356\n",
      "[283]\tvalidation_0-auc:0.900835\tvalidation_1-auc:0.883684\n"
     ]
    },
    {
     "name": "stdout",
     "output_type": "stream",
     "text": [
      "[284]\tvalidation_0-auc:0.900941\tvalidation_1-auc:0.883796\n",
      "[285]\tvalidation_0-auc:0.901088\tvalidation_1-auc:0.883918\n",
      "[286]\tvalidation_0-auc:0.901185\tvalidation_1-auc:0.883989\n",
      "[287]\tvalidation_0-auc:0.901285\tvalidation_1-auc:0.88408\n",
      "[288]\tvalidation_0-auc:0.901394\tvalidation_1-auc:0.884151\n",
      "[289]\tvalidation_0-auc:0.901499\tvalidation_1-auc:0.884207\n",
      "[290]\tvalidation_0-auc:0.901526\tvalidation_1-auc:0.884247\n",
      "[291]\tvalidation_0-auc:0.901554\tvalidation_1-auc:0.884241\n",
      "[292]\tvalidation_0-auc:0.901615\tvalidation_1-auc:0.884267\n",
      "[293]\tvalidation_0-auc:0.901729\tvalidation_1-auc:0.884375\n",
      "[294]\tvalidation_0-auc:0.901826\tvalidation_1-auc:0.884477\n",
      "[295]\tvalidation_0-auc:0.901955\tvalidation_1-auc:0.884581\n",
      "[296]\tvalidation_0-auc:0.902025\tvalidation_1-auc:0.884645\n",
      "[297]\tvalidation_0-auc:0.902097\tvalidation_1-auc:0.884677\n",
      "[298]\tvalidation_0-auc:0.902181\tvalidation_1-auc:0.884781\n",
      "[299]\tvalidation_0-auc:0.902287\tvalidation_1-auc:0.884905\n",
      "[300]\tvalidation_0-auc:0.902379\tvalidation_1-auc:0.884982\n",
      "[301]\tvalidation_0-auc:0.902426\tvalidation_1-auc:0.885009\n",
      "[302]\tvalidation_0-auc:0.902455\tvalidation_1-auc:0.885076\n",
      "[303]\tvalidation_0-auc:0.902515\tvalidation_1-auc:0.885127\n",
      "[304]\tvalidation_0-auc:0.902542\tvalidation_1-auc:0.885185\n",
      "[305]\tvalidation_0-auc:0.902665\tvalidation_1-auc:0.885323\n",
      "[306]\tvalidation_0-auc:0.902776\tvalidation_1-auc:0.885437\n",
      "[307]\tvalidation_0-auc:0.902933\tvalidation_1-auc:0.885605\n",
      "[308]\tvalidation_0-auc:0.903004\tvalidation_1-auc:0.885686\n",
      "[309]\tvalidation_0-auc:0.903144\tvalidation_1-auc:0.885777\n",
      "[310]\tvalidation_0-auc:0.903179\tvalidation_1-auc:0.885817\n",
      "[311]\tvalidation_0-auc:0.903333\tvalidation_1-auc:0.885954\n",
      "[312]\tvalidation_0-auc:0.903332\tvalidation_1-auc:0.885985\n",
      "[313]\tvalidation_0-auc:0.903387\tvalidation_1-auc:0.886031\n",
      "[314]\tvalidation_0-auc:0.903441\tvalidation_1-auc:0.886065\n",
      "[315]\tvalidation_0-auc:0.903517\tvalidation_1-auc:0.886097\n",
      "[316]\tvalidation_0-auc:0.903557\tvalidation_1-auc:0.886099\n",
      "[317]\tvalidation_0-auc:0.903634\tvalidation_1-auc:0.88618\n",
      "[318]\tvalidation_0-auc:0.903684\tvalidation_1-auc:0.886231\n",
      "[319]\tvalidation_0-auc:0.903752\tvalidation_1-auc:0.886303\n",
      "[320]\tvalidation_0-auc:0.903806\tvalidation_1-auc:0.88633\n",
      "[321]\tvalidation_0-auc:0.903849\tvalidation_1-auc:0.886395\n",
      "[322]\tvalidation_0-auc:0.903974\tvalidation_1-auc:0.886519\n",
      "[323]\tvalidation_0-auc:0.904063\tvalidation_1-auc:0.886559\n",
      "[324]\tvalidation_0-auc:0.904114\tvalidation_1-auc:0.886574\n",
      "[325]\tvalidation_0-auc:0.904216\tvalidation_1-auc:0.886667\n",
      "[326]\tvalidation_0-auc:0.904304\tvalidation_1-auc:0.886734\n",
      "[327]\tvalidation_0-auc:0.904398\tvalidation_1-auc:0.8868\n",
      "[328]\tvalidation_0-auc:0.904483\tvalidation_1-auc:0.886886\n",
      "[329]\tvalidation_0-auc:0.904561\tvalidation_1-auc:0.886978\n",
      "[330]\tvalidation_0-auc:0.904656\tvalidation_1-auc:0.887061\n",
      "[331]\tvalidation_0-auc:0.904776\tvalidation_1-auc:0.887166\n",
      "[332]\tvalidation_0-auc:0.904887\tvalidation_1-auc:0.88728\n",
      "[333]\tvalidation_0-auc:0.90498\tvalidation_1-auc:0.887357\n",
      "[334]\tvalidation_0-auc:0.905076\tvalidation_1-auc:0.887454\n",
      "[335]\tvalidation_0-auc:0.905124\tvalidation_1-auc:0.887505\n",
      "[336]\tvalidation_0-auc:0.905166\tvalidation_1-auc:0.887545\n",
      "[337]\tvalidation_0-auc:0.9053\tvalidation_1-auc:0.887683\n",
      "[338]\tvalidation_0-auc:0.905451\tvalidation_1-auc:0.887835\n",
      "[339]\tvalidation_0-auc:0.905546\tvalidation_1-auc:0.8879\n",
      "[340]\tvalidation_0-auc:0.905564\tvalidation_1-auc:0.887881\n",
      "[341]\tvalidation_0-auc:0.905657\tvalidation_1-auc:0.887954\n",
      "[342]\tvalidation_0-auc:0.905767\tvalidation_1-auc:0.888015\n",
      "[343]\tvalidation_0-auc:0.905825\tvalidation_1-auc:0.888048\n",
      "[344]\tvalidation_0-auc:0.905914\tvalidation_1-auc:0.888141\n",
      "[345]\tvalidation_0-auc:0.905974\tvalidation_1-auc:0.888179\n",
      "[346]\tvalidation_0-auc:0.906104\tvalidation_1-auc:0.888286\n",
      "[347]\tvalidation_0-auc:0.906205\tvalidation_1-auc:0.88839\n",
      "[348]\tvalidation_0-auc:0.906284\tvalidation_1-auc:0.888474\n",
      "[349]\tvalidation_0-auc:0.906349\tvalidation_1-auc:0.888525\n",
      "[350]\tvalidation_0-auc:0.906397\tvalidation_1-auc:0.88858\n",
      "[351]\tvalidation_0-auc:0.906488\tvalidation_1-auc:0.888641\n",
      "[352]\tvalidation_0-auc:0.90658\tvalidation_1-auc:0.888729\n",
      "[353]\tvalidation_0-auc:0.90667\tvalidation_1-auc:0.888832\n",
      "[354]\tvalidation_0-auc:0.906755\tvalidation_1-auc:0.888901\n",
      "[355]\tvalidation_0-auc:0.906866\tvalidation_1-auc:0.889019\n",
      "[356]\tvalidation_0-auc:0.906961\tvalidation_1-auc:0.889106\n",
      "[357]\tvalidation_0-auc:0.907082\tvalidation_1-auc:0.889224\n",
      "[358]\tvalidation_0-auc:0.907102\tvalidation_1-auc:0.889231\n",
      "[359]\tvalidation_0-auc:0.907134\tvalidation_1-auc:0.88922\n",
      "[360]\tvalidation_0-auc:0.907235\tvalidation_1-auc:0.889329\n",
      "[361]\tvalidation_0-auc:0.907314\tvalidation_1-auc:0.889368\n",
      "[362]\tvalidation_0-auc:0.907364\tvalidation_1-auc:0.889431\n",
      "[363]\tvalidation_0-auc:0.907407\tvalidation_1-auc:0.889475\n",
      "[364]\tvalidation_0-auc:0.907448\tvalidation_1-auc:0.889501\n",
      "[365]\tvalidation_0-auc:0.907514\tvalidation_1-auc:0.889563\n",
      "[366]\tvalidation_0-auc:0.907617\tvalidation_1-auc:0.889652\n",
      "[367]\tvalidation_0-auc:0.9077\tvalidation_1-auc:0.88973\n",
      "[368]\tvalidation_0-auc:0.907791\tvalidation_1-auc:0.889808\n",
      "[369]\tvalidation_0-auc:0.907887\tvalidation_1-auc:0.889905\n",
      "[370]\tvalidation_0-auc:0.907997\tvalidation_1-auc:0.889991\n",
      "[371]\tvalidation_0-auc:0.908047\tvalidation_1-auc:0.89005\n",
      "[372]\tvalidation_0-auc:0.908088\tvalidation_1-auc:0.890087\n",
      "[373]\tvalidation_0-auc:0.908163\tvalidation_1-auc:0.890138\n",
      "[374]\tvalidation_0-auc:0.908244\tvalidation_1-auc:0.890204\n",
      "[375]\tvalidation_0-auc:0.908339\tvalidation_1-auc:0.890256\n",
      "[376]\tvalidation_0-auc:0.908395\tvalidation_1-auc:0.890299\n",
      "[377]\tvalidation_0-auc:0.90849\tvalidation_1-auc:0.890369\n",
      "[378]\tvalidation_0-auc:0.908528\tvalidation_1-auc:0.890413\n",
      "[379]\tvalidation_0-auc:0.90864\tvalidation_1-auc:0.890518\n",
      "[380]\tvalidation_0-auc:0.908748\tvalidation_1-auc:0.890587\n",
      "[381]\tvalidation_0-auc:0.908802\tvalidation_1-auc:0.890661\n",
      "[382]\tvalidation_0-auc:0.908859\tvalidation_1-auc:0.890681\n",
      "[383]\tvalidation_0-auc:0.908929\tvalidation_1-auc:0.890736\n",
      "[384]\tvalidation_0-auc:0.909012\tvalidation_1-auc:0.890798\n",
      "[385]\tvalidation_0-auc:0.909057\tvalidation_1-auc:0.890834\n",
      "[386]\tvalidation_0-auc:0.909133\tvalidation_1-auc:0.890868\n",
      "[387]\tvalidation_0-auc:0.909228\tvalidation_1-auc:0.890961\n",
      "[388]\tvalidation_0-auc:0.909302\tvalidation_1-auc:0.891018\n",
      "[389]\tvalidation_0-auc:0.909378\tvalidation_1-auc:0.891074\n",
      "[390]\tvalidation_0-auc:0.90947\tvalidation_1-auc:0.891164\n",
      "[391]\tvalidation_0-auc:0.909523\tvalidation_1-auc:0.891207\n",
      "[392]\tvalidation_0-auc:0.909582\tvalidation_1-auc:0.891274\n",
      "[393]\tvalidation_0-auc:0.909652\tvalidation_1-auc:0.891342\n",
      "[394]\tvalidation_0-auc:0.90974\tvalidation_1-auc:0.891415\n",
      "[395]\tvalidation_0-auc:0.909815\tvalidation_1-auc:0.891491\n",
      "[396]\tvalidation_0-auc:0.909877\tvalidation_1-auc:0.891533\n",
      "[397]\tvalidation_0-auc:0.909953\tvalidation_1-auc:0.891588\n",
      "[398]\tvalidation_0-auc:0.910024\tvalidation_1-auc:0.891664\n",
      "[399]\tvalidation_0-auc:0.910063\tvalidation_1-auc:0.89171\n",
      "[400]\tvalidation_0-auc:0.9101\tvalidation_1-auc:0.891741\n",
      "[401]\tvalidation_0-auc:0.910149\tvalidation_1-auc:0.891763\n",
      "[402]\tvalidation_0-auc:0.910256\tvalidation_1-auc:0.891844\n",
      "[403]\tvalidation_0-auc:0.910349\tvalidation_1-auc:0.891938\n",
      "[404]\tvalidation_0-auc:0.910443\tvalidation_1-auc:0.892027\n",
      "[405]\tvalidation_0-auc:0.910544\tvalidation_1-auc:0.892129\n",
      "[406]\tvalidation_0-auc:0.910616\tvalidation_1-auc:0.892191\n",
      "[407]\tvalidation_0-auc:0.910674\tvalidation_1-auc:0.892232\n",
      "[408]\tvalidation_0-auc:0.910777\tvalidation_1-auc:0.89233\n",
      "[409]\tvalidation_0-auc:0.910876\tvalidation_1-auc:0.892417\n",
      "[410]\tvalidation_0-auc:0.910968\tvalidation_1-auc:0.892499\n",
      "[411]\tvalidation_0-auc:0.911011\tvalidation_1-auc:0.892533\n",
      "[412]\tvalidation_0-auc:0.911103\tvalidation_1-auc:0.892601\n",
      "[413]\tvalidation_0-auc:0.911178\tvalidation_1-auc:0.892664\n",
      "[414]\tvalidation_0-auc:0.911255\tvalidation_1-auc:0.892728\n",
      "[415]\tvalidation_0-auc:0.911322\tvalidation_1-auc:0.892803\n",
      "[416]\tvalidation_0-auc:0.911385\tvalidation_1-auc:0.8929\n",
      "[417]\tvalidation_0-auc:0.911453\tvalidation_1-auc:0.892958\n",
      "[418]\tvalidation_0-auc:0.911542\tvalidation_1-auc:0.893024\n",
      "[419]\tvalidation_0-auc:0.911604\tvalidation_1-auc:0.893094\n",
      "[420]\tvalidation_0-auc:0.911686\tvalidation_1-auc:0.893146\n",
      "[421]\tvalidation_0-auc:0.911771\tvalidation_1-auc:0.893226\n",
      "[422]\tvalidation_0-auc:0.911865\tvalidation_1-auc:0.893308\n",
      "[423]\tvalidation_0-auc:0.911893\tvalidation_1-auc:0.893347\n",
      "[424]\tvalidation_0-auc:0.911966\tvalidation_1-auc:0.893392\n",
      "[425]\tvalidation_0-auc:0.912007\tvalidation_1-auc:0.893436\n"
     ]
    },
    {
     "name": "stdout",
     "output_type": "stream",
     "text": [
      "[426]\tvalidation_0-auc:0.91205\tvalidation_1-auc:0.893506\n",
      "[427]\tvalidation_0-auc:0.912107\tvalidation_1-auc:0.893552\n",
      "[428]\tvalidation_0-auc:0.912146\tvalidation_1-auc:0.893556\n",
      "[429]\tvalidation_0-auc:0.912225\tvalidation_1-auc:0.893623\n",
      "[430]\tvalidation_0-auc:0.91231\tvalidation_1-auc:0.893665\n",
      "[431]\tvalidation_0-auc:0.912414\tvalidation_1-auc:0.893797\n",
      "[432]\tvalidation_0-auc:0.912474\tvalidation_1-auc:0.893887\n",
      "[433]\tvalidation_0-auc:0.912562\tvalidation_1-auc:0.893968\n",
      "[434]\tvalidation_0-auc:0.91264\tvalidation_1-auc:0.894043\n",
      "[435]\tvalidation_0-auc:0.912682\tvalidation_1-auc:0.894061\n",
      "[436]\tvalidation_0-auc:0.912726\tvalidation_1-auc:0.894105\n",
      "[437]\tvalidation_0-auc:0.912784\tvalidation_1-auc:0.894153\n",
      "[438]\tvalidation_0-auc:0.912855\tvalidation_1-auc:0.894213\n",
      "[439]\tvalidation_0-auc:0.912916\tvalidation_1-auc:0.894275\n",
      "[440]\tvalidation_0-auc:0.912998\tvalidation_1-auc:0.894365\n",
      "[441]\tvalidation_0-auc:0.913062\tvalidation_1-auc:0.89446\n",
      "[442]\tvalidation_0-auc:0.913096\tvalidation_1-auc:0.894474\n",
      "[443]\tvalidation_0-auc:0.913181\tvalidation_1-auc:0.89457\n",
      "[444]\tvalidation_0-auc:0.913269\tvalidation_1-auc:0.894626\n",
      "[445]\tvalidation_0-auc:0.913338\tvalidation_1-auc:0.894686\n",
      "[446]\tvalidation_0-auc:0.913426\tvalidation_1-auc:0.89477\n",
      "[447]\tvalidation_0-auc:0.91351\tvalidation_1-auc:0.894845\n",
      "[448]\tvalidation_0-auc:0.913574\tvalidation_1-auc:0.894897\n",
      "[449]\tvalidation_0-auc:0.913623\tvalidation_1-auc:0.894945\n",
      "[450]\tvalidation_0-auc:0.913675\tvalidation_1-auc:0.895008\n",
      "[451]\tvalidation_0-auc:0.913738\tvalidation_1-auc:0.895041\n",
      "[452]\tvalidation_0-auc:0.913821\tvalidation_1-auc:0.895102\n",
      "[453]\tvalidation_0-auc:0.913874\tvalidation_1-auc:0.89513\n",
      "[454]\tvalidation_0-auc:0.913924\tvalidation_1-auc:0.895157\n",
      "[455]\tvalidation_0-auc:0.913979\tvalidation_1-auc:0.895214\n",
      "[456]\tvalidation_0-auc:0.91406\tvalidation_1-auc:0.895285\n",
      "[457]\tvalidation_0-auc:0.914097\tvalidation_1-auc:0.895318\n",
      "[458]\tvalidation_0-auc:0.91415\tvalidation_1-auc:0.895346\n",
      "[459]\tvalidation_0-auc:0.914226\tvalidation_1-auc:0.895408\n",
      "[460]\tvalidation_0-auc:0.914287\tvalidation_1-auc:0.895467\n",
      "[461]\tvalidation_0-auc:0.914369\tvalidation_1-auc:0.895538\n",
      "[462]\tvalidation_0-auc:0.914444\tvalidation_1-auc:0.895626\n",
      "[463]\tvalidation_0-auc:0.914524\tvalidation_1-auc:0.895683\n",
      "[464]\tvalidation_0-auc:0.914597\tvalidation_1-auc:0.895737\n",
      "[465]\tvalidation_0-auc:0.914633\tvalidation_1-auc:0.895759\n",
      "[466]\tvalidation_0-auc:0.91468\tvalidation_1-auc:0.895794\n",
      "[467]\tvalidation_0-auc:0.914759\tvalidation_1-auc:0.895877\n",
      "[468]\tvalidation_0-auc:0.914823\tvalidation_1-auc:0.895919\n",
      "[469]\tvalidation_0-auc:0.914896\tvalidation_1-auc:0.895989\n",
      "[470]\tvalidation_0-auc:0.914943\tvalidation_1-auc:0.896035\n",
      "[471]\tvalidation_0-auc:0.914973\tvalidation_1-auc:0.896075\n",
      "[472]\tvalidation_0-auc:0.914992\tvalidation_1-auc:0.896088\n",
      "[473]\tvalidation_0-auc:0.91507\tvalidation_1-auc:0.896154\n",
      "[474]\tvalidation_0-auc:0.91512\tvalidation_1-auc:0.896226\n",
      "[475]\tvalidation_0-auc:0.91519\tvalidation_1-auc:0.896292\n",
      "[476]\tvalidation_0-auc:0.915251\tvalidation_1-auc:0.896362\n",
      "[477]\tvalidation_0-auc:0.915313\tvalidation_1-auc:0.896402\n",
      "[478]\tvalidation_0-auc:0.915383\tvalidation_1-auc:0.896454\n",
      "[479]\tvalidation_0-auc:0.915435\tvalidation_1-auc:0.89651\n",
      "[480]\tvalidation_0-auc:0.915485\tvalidation_1-auc:0.896551\n",
      "[481]\tvalidation_0-auc:0.915528\tvalidation_1-auc:0.896586\n",
      "[482]\tvalidation_0-auc:0.915606\tvalidation_1-auc:0.896663\n",
      "[483]\tvalidation_0-auc:0.915631\tvalidation_1-auc:0.896667\n",
      "[484]\tvalidation_0-auc:0.915689\tvalidation_1-auc:0.896714\n",
      "[485]\tvalidation_0-auc:0.915753\tvalidation_1-auc:0.896772\n",
      "[486]\tvalidation_0-auc:0.91583\tvalidation_1-auc:0.896857\n",
      "[487]\tvalidation_0-auc:0.915902\tvalidation_1-auc:0.896908\n",
      "[488]\tvalidation_0-auc:0.915936\tvalidation_1-auc:0.896919\n",
      "[489]\tvalidation_0-auc:0.916\tvalidation_1-auc:0.896978\n",
      "[490]\tvalidation_0-auc:0.916038\tvalidation_1-auc:0.897012\n",
      "[491]\tvalidation_0-auc:0.916103\tvalidation_1-auc:0.89708\n",
      "[492]\tvalidation_0-auc:0.916179\tvalidation_1-auc:0.897143\n",
      "[493]\tvalidation_0-auc:0.916258\tvalidation_1-auc:0.897203\n",
      "[494]\tvalidation_0-auc:0.916312\tvalidation_1-auc:0.897266\n",
      "[495]\tvalidation_0-auc:0.916383\tvalidation_1-auc:0.897335\n",
      "[496]\tvalidation_0-auc:0.916461\tvalidation_1-auc:0.897413\n",
      "[497]\tvalidation_0-auc:0.916508\tvalidation_1-auc:0.897461\n",
      "[498]\tvalidation_0-auc:0.916556\tvalidation_1-auc:0.897473\n",
      "[499]\tvalidation_0-auc:0.916592\tvalidation_1-auc:0.897525\n",
      "[500]\tvalidation_0-auc:0.91666\tvalidation_1-auc:0.897594\n",
      "[501]\tvalidation_0-auc:0.91674\tvalidation_1-auc:0.897664\n",
      "[502]\tvalidation_0-auc:0.916782\tvalidation_1-auc:0.897692\n",
      "[503]\tvalidation_0-auc:0.916845\tvalidation_1-auc:0.897717\n",
      "[504]\tvalidation_0-auc:0.916877\tvalidation_1-auc:0.897761\n",
      "[505]\tvalidation_0-auc:0.916912\tvalidation_1-auc:0.897798\n",
      "[506]\tvalidation_0-auc:0.916982\tvalidation_1-auc:0.897863\n",
      "[507]\tvalidation_0-auc:0.917084\tvalidation_1-auc:0.897964\n",
      "[508]\tvalidation_0-auc:0.917169\tvalidation_1-auc:0.898027\n",
      "[509]\tvalidation_0-auc:0.917215\tvalidation_1-auc:0.898081\n",
      "[510]\tvalidation_0-auc:0.917274\tvalidation_1-auc:0.898146\n",
      "[511]\tvalidation_0-auc:0.917324\tvalidation_1-auc:0.898178\n",
      "[512]\tvalidation_0-auc:0.917369\tvalidation_1-auc:0.898222\n",
      "[513]\tvalidation_0-auc:0.917395\tvalidation_1-auc:0.898221\n",
      "[514]\tvalidation_0-auc:0.917433\tvalidation_1-auc:0.898262\n",
      "[515]\tvalidation_0-auc:0.917475\tvalidation_1-auc:0.898292\n",
      "[516]\tvalidation_0-auc:0.917522\tvalidation_1-auc:0.898331\n",
      "[517]\tvalidation_0-auc:0.917557\tvalidation_1-auc:0.898346\n",
      "[518]\tvalidation_0-auc:0.917605\tvalidation_1-auc:0.898398\n",
      "[519]\tvalidation_0-auc:0.917658\tvalidation_1-auc:0.898433\n",
      "[520]\tvalidation_0-auc:0.91769\tvalidation_1-auc:0.898456\n",
      "[521]\tvalidation_0-auc:0.917721\tvalidation_1-auc:0.898469\n",
      "[522]\tvalidation_0-auc:0.917801\tvalidation_1-auc:0.898531\n",
      "[523]\tvalidation_0-auc:0.917856\tvalidation_1-auc:0.898571\n",
      "[524]\tvalidation_0-auc:0.9179\tvalidation_1-auc:0.898594\n",
      "[525]\tvalidation_0-auc:0.917954\tvalidation_1-auc:0.89866\n",
      "[526]\tvalidation_0-auc:0.918003\tvalidation_1-auc:0.898712\n",
      "[527]\tvalidation_0-auc:0.918071\tvalidation_1-auc:0.89875\n",
      "[528]\tvalidation_0-auc:0.918104\tvalidation_1-auc:0.898787\n",
      "[529]\tvalidation_0-auc:0.918148\tvalidation_1-auc:0.898817\n",
      "[530]\tvalidation_0-auc:0.918217\tvalidation_1-auc:0.898872\n",
      "[531]\tvalidation_0-auc:0.918293\tvalidation_1-auc:0.898924\n",
      "[532]\tvalidation_0-auc:0.918343\tvalidation_1-auc:0.898952\n",
      "[533]\tvalidation_0-auc:0.918375\tvalidation_1-auc:0.898991\n",
      "[534]\tvalidation_0-auc:0.918445\tvalidation_1-auc:0.899053\n",
      "[535]\tvalidation_0-auc:0.91848\tvalidation_1-auc:0.899082\n",
      "[536]\tvalidation_0-auc:0.918536\tvalidation_1-auc:0.899126\n",
      "[537]\tvalidation_0-auc:0.918559\tvalidation_1-auc:0.899138\n",
      "[538]\tvalidation_0-auc:0.918596\tvalidation_1-auc:0.899168\n",
      "[539]\tvalidation_0-auc:0.918637\tvalidation_1-auc:0.899211\n",
      "[540]\tvalidation_0-auc:0.918656\tvalidation_1-auc:0.899212\n",
      "[541]\tvalidation_0-auc:0.918714\tvalidation_1-auc:0.89927\n",
      "[542]\tvalidation_0-auc:0.918771\tvalidation_1-auc:0.899321\n",
      "[543]\tvalidation_0-auc:0.918833\tvalidation_1-auc:0.899384\n",
      "[544]\tvalidation_0-auc:0.918893\tvalidation_1-auc:0.89943\n",
      "[545]\tvalidation_0-auc:0.918928\tvalidation_1-auc:0.899459\n",
      "[546]\tvalidation_0-auc:0.918994\tvalidation_1-auc:0.899502\n",
      "[547]\tvalidation_0-auc:0.919071\tvalidation_1-auc:0.899573\n",
      "[548]\tvalidation_0-auc:0.919116\tvalidation_1-auc:0.899623\n",
      "[549]\tvalidation_0-auc:0.919142\tvalidation_1-auc:0.899652\n",
      "[550]\tvalidation_0-auc:0.919184\tvalidation_1-auc:0.899682\n",
      "[551]\tvalidation_0-auc:0.91924\tvalidation_1-auc:0.899726\n",
      "[552]\tvalidation_0-auc:0.919297\tvalidation_1-auc:0.899784\n",
      "[553]\tvalidation_0-auc:0.919342\tvalidation_1-auc:0.899814\n",
      "[554]\tvalidation_0-auc:0.9194\tvalidation_1-auc:0.899869\n",
      "[555]\tvalidation_0-auc:0.919446\tvalidation_1-auc:0.899907\n",
      "[556]\tvalidation_0-auc:0.919484\tvalidation_1-auc:0.899951\n",
      "[557]\tvalidation_0-auc:0.919559\tvalidation_1-auc:0.900027\n",
      "[558]\tvalidation_0-auc:0.919605\tvalidation_1-auc:0.900051\n",
      "[559]\tvalidation_0-auc:0.91966\tvalidation_1-auc:0.900101\n",
      "[560]\tvalidation_0-auc:0.919729\tvalidation_1-auc:0.900164\n",
      "[561]\tvalidation_0-auc:0.91977\tvalidation_1-auc:0.900216\n",
      "[562]\tvalidation_0-auc:0.91983\tvalidation_1-auc:0.90027\n",
      "[563]\tvalidation_0-auc:0.919894\tvalidation_1-auc:0.900311\n",
      "[564]\tvalidation_0-auc:0.919955\tvalidation_1-auc:0.900344\n",
      "[565]\tvalidation_0-auc:0.919998\tvalidation_1-auc:0.900384\n",
      "[566]\tvalidation_0-auc:0.920045\tvalidation_1-auc:0.900418\n",
      "[567]\tvalidation_0-auc:0.920122\tvalidation_1-auc:0.900498\n"
     ]
    },
    {
     "name": "stdout",
     "output_type": "stream",
     "text": [
      "[568]\tvalidation_0-auc:0.920141\tvalidation_1-auc:0.900527\n",
      "[569]\tvalidation_0-auc:0.920175\tvalidation_1-auc:0.900566\n",
      "[570]\tvalidation_0-auc:0.920208\tvalidation_1-auc:0.900595\n",
      "[571]\tvalidation_0-auc:0.920266\tvalidation_1-auc:0.900631\n",
      "[572]\tvalidation_0-auc:0.92031\tvalidation_1-auc:0.900666\n",
      "[573]\tvalidation_0-auc:0.920364\tvalidation_1-auc:0.900715\n",
      "[574]\tvalidation_0-auc:0.920403\tvalidation_1-auc:0.900731\n",
      "[575]\tvalidation_0-auc:0.920454\tvalidation_1-auc:0.900762\n",
      "[576]\tvalidation_0-auc:0.920516\tvalidation_1-auc:0.900812\n",
      "[577]\tvalidation_0-auc:0.920584\tvalidation_1-auc:0.900864\n",
      "[578]\tvalidation_0-auc:0.920631\tvalidation_1-auc:0.9009\n",
      "[579]\tvalidation_0-auc:0.920686\tvalidation_1-auc:0.900975\n",
      "[580]\tvalidation_0-auc:0.920747\tvalidation_1-auc:0.901022\n",
      "[581]\tvalidation_0-auc:0.920802\tvalidation_1-auc:0.901075\n",
      "[582]\tvalidation_0-auc:0.920856\tvalidation_1-auc:0.901116\n",
      "[583]\tvalidation_0-auc:0.920881\tvalidation_1-auc:0.901117\n",
      "[584]\tvalidation_0-auc:0.920928\tvalidation_1-auc:0.901164\n",
      "[585]\tvalidation_0-auc:0.920989\tvalidation_1-auc:0.901216\n",
      "[586]\tvalidation_0-auc:0.921038\tvalidation_1-auc:0.901251\n",
      "[587]\tvalidation_0-auc:0.921087\tvalidation_1-auc:0.901295\n",
      "[588]\tvalidation_0-auc:0.921125\tvalidation_1-auc:0.901338\n",
      "[589]\tvalidation_0-auc:0.92116\tvalidation_1-auc:0.901385\n",
      "[590]\tvalidation_0-auc:0.921217\tvalidation_1-auc:0.901442\n",
      "[591]\tvalidation_0-auc:0.921284\tvalidation_1-auc:0.901516\n",
      "[592]\tvalidation_0-auc:0.921312\tvalidation_1-auc:0.901542\n",
      "[593]\tvalidation_0-auc:0.92136\tvalidation_1-auc:0.901578\n",
      "[594]\tvalidation_0-auc:0.92139\tvalidation_1-auc:0.901593\n",
      "[595]\tvalidation_0-auc:0.921437\tvalidation_1-auc:0.90166\n",
      "[596]\tvalidation_0-auc:0.92149\tvalidation_1-auc:0.901726\n",
      "[597]\tvalidation_0-auc:0.921533\tvalidation_1-auc:0.901757\n",
      "[598]\tvalidation_0-auc:0.921571\tvalidation_1-auc:0.9018\n",
      "[599]\tvalidation_0-auc:0.921613\tvalidation_1-auc:0.901837\n",
      "[600]\tvalidation_0-auc:0.921666\tvalidation_1-auc:0.901884\n",
      "[601]\tvalidation_0-auc:0.921699\tvalidation_1-auc:0.901919\n",
      "[602]\tvalidation_0-auc:0.92174\tvalidation_1-auc:0.901941\n",
      "[603]\tvalidation_0-auc:0.921794\tvalidation_1-auc:0.90199\n",
      "[604]\tvalidation_0-auc:0.92183\tvalidation_1-auc:0.902004\n",
      "[605]\tvalidation_0-auc:0.921869\tvalidation_1-auc:0.902027\n",
      "[606]\tvalidation_0-auc:0.92189\tvalidation_1-auc:0.902044\n",
      "[607]\tvalidation_0-auc:0.921938\tvalidation_1-auc:0.902085\n",
      "[608]\tvalidation_0-auc:0.921956\tvalidation_1-auc:0.902084\n",
      "[609]\tvalidation_0-auc:0.922005\tvalidation_1-auc:0.902109\n",
      "[610]\tvalidation_0-auc:0.922038\tvalidation_1-auc:0.902129\n",
      "[611]\tvalidation_0-auc:0.92207\tvalidation_1-auc:0.90216\n",
      "[612]\tvalidation_0-auc:0.922121\tvalidation_1-auc:0.902197\n",
      "[613]\tvalidation_0-auc:0.922155\tvalidation_1-auc:0.902213\n",
      "[614]\tvalidation_0-auc:0.922209\tvalidation_1-auc:0.902266\n",
      "[615]\tvalidation_0-auc:0.922241\tvalidation_1-auc:0.902302\n",
      "[616]\tvalidation_0-auc:0.922276\tvalidation_1-auc:0.902343\n",
      "[617]\tvalidation_0-auc:0.922322\tvalidation_1-auc:0.902385\n",
      "[618]\tvalidation_0-auc:0.922361\tvalidation_1-auc:0.902397\n",
      "[619]\tvalidation_0-auc:0.922395\tvalidation_1-auc:0.902426\n",
      "[620]\tvalidation_0-auc:0.922447\tvalidation_1-auc:0.902482\n",
      "[621]\tvalidation_0-auc:0.922472\tvalidation_1-auc:0.902502\n",
      "[622]\tvalidation_0-auc:0.92253\tvalidation_1-auc:0.902549\n",
      "[623]\tvalidation_0-auc:0.922548\tvalidation_1-auc:0.902571\n",
      "[624]\tvalidation_0-auc:0.922594\tvalidation_1-auc:0.902592\n",
      "[625]\tvalidation_0-auc:0.92262\tvalidation_1-auc:0.902615\n",
      "[626]\tvalidation_0-auc:0.922666\tvalidation_1-auc:0.902645\n",
      "[627]\tvalidation_0-auc:0.922731\tvalidation_1-auc:0.902708\n",
      "[628]\tvalidation_0-auc:0.922792\tvalidation_1-auc:0.902761\n",
      "[629]\tvalidation_0-auc:0.922874\tvalidation_1-auc:0.902824\n",
      "[630]\tvalidation_0-auc:0.922922\tvalidation_1-auc:0.90285\n",
      "[631]\tvalidation_0-auc:0.922981\tvalidation_1-auc:0.902922\n",
      "[632]\tvalidation_0-auc:0.923019\tvalidation_1-auc:0.902947\n",
      "[633]\tvalidation_0-auc:0.923094\tvalidation_1-auc:0.903023\n",
      "[634]\tvalidation_0-auc:0.923144\tvalidation_1-auc:0.903055\n",
      "[635]\tvalidation_0-auc:0.923179\tvalidation_1-auc:0.903098\n",
      "[636]\tvalidation_0-auc:0.923226\tvalidation_1-auc:0.903141\n",
      "[637]\tvalidation_0-auc:0.923271\tvalidation_1-auc:0.903182\n",
      "[638]\tvalidation_0-auc:0.923341\tvalidation_1-auc:0.90323\n",
      "[639]\tvalidation_0-auc:0.923389\tvalidation_1-auc:0.903272\n",
      "[640]\tvalidation_0-auc:0.923428\tvalidation_1-auc:0.903298\n",
      "[641]\tvalidation_0-auc:0.923469\tvalidation_1-auc:0.903333\n",
      "[642]\tvalidation_0-auc:0.923519\tvalidation_1-auc:0.903358\n",
      "[643]\tvalidation_0-auc:0.923561\tvalidation_1-auc:0.903399\n",
      "[644]\tvalidation_0-auc:0.923606\tvalidation_1-auc:0.903432\n",
      "[645]\tvalidation_0-auc:0.923635\tvalidation_1-auc:0.903469\n",
      "[646]\tvalidation_0-auc:0.923667\tvalidation_1-auc:0.90349\n",
      "[647]\tvalidation_0-auc:0.923694\tvalidation_1-auc:0.903514\n",
      "[648]\tvalidation_0-auc:0.923734\tvalidation_1-auc:0.90355\n",
      "[649]\tvalidation_0-auc:0.923763\tvalidation_1-auc:0.903578\n",
      "[650]\tvalidation_0-auc:0.923805\tvalidation_1-auc:0.90362\n",
      "[651]\tvalidation_0-auc:0.923837\tvalidation_1-auc:0.903653\n",
      "[652]\tvalidation_0-auc:0.923883\tvalidation_1-auc:0.9037\n",
      "[653]\tvalidation_0-auc:0.923927\tvalidation_1-auc:0.903744\n",
      "[654]\tvalidation_0-auc:0.92395\tvalidation_1-auc:0.903759\n",
      "[655]\tvalidation_0-auc:0.923983\tvalidation_1-auc:0.903773\n",
      "[656]\tvalidation_0-auc:0.924029\tvalidation_1-auc:0.903821\n",
      "[657]\tvalidation_0-auc:0.924076\tvalidation_1-auc:0.903862\n",
      "[658]\tvalidation_0-auc:0.924114\tvalidation_1-auc:0.903891\n",
      "[659]\tvalidation_0-auc:0.924154\tvalidation_1-auc:0.903922\n",
      "[660]\tvalidation_0-auc:0.924206\tvalidation_1-auc:0.90396\n",
      "[661]\tvalidation_0-auc:0.924245\tvalidation_1-auc:0.903991\n",
      "[662]\tvalidation_0-auc:0.924272\tvalidation_1-auc:0.904021\n",
      "[663]\tvalidation_0-auc:0.924316\tvalidation_1-auc:0.904064\n",
      "[664]\tvalidation_0-auc:0.924335\tvalidation_1-auc:0.904073\n",
      "[665]\tvalidation_0-auc:0.924382\tvalidation_1-auc:0.904097\n",
      "[666]\tvalidation_0-auc:0.924416\tvalidation_1-auc:0.904114\n",
      "[667]\tvalidation_0-auc:0.924458\tvalidation_1-auc:0.904143\n",
      "[668]\tvalidation_0-auc:0.924503\tvalidation_1-auc:0.904182\n",
      "[669]\tvalidation_0-auc:0.924518\tvalidation_1-auc:0.9042\n",
      "[670]\tvalidation_0-auc:0.924553\tvalidation_1-auc:0.904216\n",
      "[671]\tvalidation_0-auc:0.924585\tvalidation_1-auc:0.904245\n",
      "[672]\tvalidation_0-auc:0.92461\tvalidation_1-auc:0.904276\n",
      "[673]\tvalidation_0-auc:0.924654\tvalidation_1-auc:0.904306\n",
      "[674]\tvalidation_0-auc:0.924692\tvalidation_1-auc:0.904347\n",
      "[675]\tvalidation_0-auc:0.924742\tvalidation_1-auc:0.904375\n",
      "[676]\tvalidation_0-auc:0.924781\tvalidation_1-auc:0.904399\n",
      "[677]\tvalidation_0-auc:0.924828\tvalidation_1-auc:0.904422\n",
      "[678]\tvalidation_0-auc:0.924847\tvalidation_1-auc:0.904418\n",
      "[679]\tvalidation_0-auc:0.924889\tvalidation_1-auc:0.904454\n",
      "[680]\tvalidation_0-auc:0.924924\tvalidation_1-auc:0.904474\n",
      "[681]\tvalidation_0-auc:0.924964\tvalidation_1-auc:0.904509\n",
      "[682]\tvalidation_0-auc:0.925008\tvalidation_1-auc:0.904533\n",
      "[683]\tvalidation_0-auc:0.925035\tvalidation_1-auc:0.904564\n",
      "[684]\tvalidation_0-auc:0.925067\tvalidation_1-auc:0.904585\n",
      "[685]\tvalidation_0-auc:0.925118\tvalidation_1-auc:0.904632\n",
      "[686]\tvalidation_0-auc:0.925175\tvalidation_1-auc:0.90468\n",
      "[687]\tvalidation_0-auc:0.925218\tvalidation_1-auc:0.904727\n",
      "[688]\tvalidation_0-auc:0.925263\tvalidation_1-auc:0.904759\n",
      "[689]\tvalidation_0-auc:0.925295\tvalidation_1-auc:0.904773\n",
      "[690]\tvalidation_0-auc:0.92533\tvalidation_1-auc:0.904779\n",
      "[691]\tvalidation_0-auc:0.925365\tvalidation_1-auc:0.904811\n",
      "[692]\tvalidation_0-auc:0.925389\tvalidation_1-auc:0.904819\n",
      "[693]\tvalidation_0-auc:0.92543\tvalidation_1-auc:0.904852\n",
      "[694]\tvalidation_0-auc:0.925461\tvalidation_1-auc:0.904867\n",
      "[695]\tvalidation_0-auc:0.925497\tvalidation_1-auc:0.904911\n",
      "[696]\tvalidation_0-auc:0.92554\tvalidation_1-auc:0.904931\n",
      "[697]\tvalidation_0-auc:0.925591\tvalidation_1-auc:0.904975\n",
      "[698]\tvalidation_0-auc:0.925621\tvalidation_1-auc:0.905005\n",
      "[699]\tvalidation_0-auc:0.925663\tvalidation_1-auc:0.905051\n",
      "[700]\tvalidation_0-auc:0.925675\tvalidation_1-auc:0.905064\n",
      "[701]\tvalidation_0-auc:0.925728\tvalidation_1-auc:0.905121\n",
      "[702]\tvalidation_0-auc:0.92575\tvalidation_1-auc:0.90512\n",
      "[703]\tvalidation_0-auc:0.925773\tvalidation_1-auc:0.905142\n",
      "[704]\tvalidation_0-auc:0.925801\tvalidation_1-auc:0.905164\n",
      "[705]\tvalidation_0-auc:0.925823\tvalidation_1-auc:0.905174\n",
      "[706]\tvalidation_0-auc:0.925869\tvalidation_1-auc:0.905226\n",
      "[707]\tvalidation_0-auc:0.925917\tvalidation_1-auc:0.90527\n",
      "[708]\tvalidation_0-auc:0.925976\tvalidation_1-auc:0.905311\n",
      "[709]\tvalidation_0-auc:0.926002\tvalidation_1-auc:0.905348\n"
     ]
    },
    {
     "name": "stdout",
     "output_type": "stream",
     "text": [
      "[710]\tvalidation_0-auc:0.92604\tvalidation_1-auc:0.905382\n",
      "[711]\tvalidation_0-auc:0.926074\tvalidation_1-auc:0.905423\n",
      "[712]\tvalidation_0-auc:0.926113\tvalidation_1-auc:0.905448\n",
      "[713]\tvalidation_0-auc:0.926158\tvalidation_1-auc:0.9055\n",
      "[714]\tvalidation_0-auc:0.926186\tvalidation_1-auc:0.905512\n",
      "[715]\tvalidation_0-auc:0.926219\tvalidation_1-auc:0.905553\n",
      "[716]\tvalidation_0-auc:0.926251\tvalidation_1-auc:0.905584\n",
      "[717]\tvalidation_0-auc:0.926282\tvalidation_1-auc:0.905598\n",
      "[718]\tvalidation_0-auc:0.926321\tvalidation_1-auc:0.905638\n",
      "[719]\tvalidation_0-auc:0.926348\tvalidation_1-auc:0.905662\n",
      "[720]\tvalidation_0-auc:0.92638\tvalidation_1-auc:0.905686\n",
      "[721]\tvalidation_0-auc:0.926431\tvalidation_1-auc:0.905743\n",
      "[722]\tvalidation_0-auc:0.926475\tvalidation_1-auc:0.905773\n",
      "[723]\tvalidation_0-auc:0.926492\tvalidation_1-auc:0.905788\n",
      "[724]\tvalidation_0-auc:0.926528\tvalidation_1-auc:0.905815\n",
      "[725]\tvalidation_0-auc:0.926545\tvalidation_1-auc:0.90583\n",
      "[726]\tvalidation_0-auc:0.92658\tvalidation_1-auc:0.905863\n",
      "[727]\tvalidation_0-auc:0.926602\tvalidation_1-auc:0.905878\n",
      "[728]\tvalidation_0-auc:0.926648\tvalidation_1-auc:0.905908\n",
      "[729]\tvalidation_0-auc:0.926692\tvalidation_1-auc:0.905951\n",
      "[730]\tvalidation_0-auc:0.926731\tvalidation_1-auc:0.906004\n",
      "[731]\tvalidation_0-auc:0.926773\tvalidation_1-auc:0.906022\n",
      "[732]\tvalidation_0-auc:0.926814\tvalidation_1-auc:0.906062\n",
      "[733]\tvalidation_0-auc:0.926846\tvalidation_1-auc:0.906096\n",
      "[734]\tvalidation_0-auc:0.926879\tvalidation_1-auc:0.906112\n",
      "[735]\tvalidation_0-auc:0.926913\tvalidation_1-auc:0.906136\n",
      "[736]\tvalidation_0-auc:0.926954\tvalidation_1-auc:0.906161\n",
      "[737]\tvalidation_0-auc:0.926982\tvalidation_1-auc:0.906185\n",
      "[738]\tvalidation_0-auc:0.927001\tvalidation_1-auc:0.9062\n",
      "[739]\tvalidation_0-auc:0.927039\tvalidation_1-auc:0.906222\n",
      "[740]\tvalidation_0-auc:0.927077\tvalidation_1-auc:0.906246\n",
      "[741]\tvalidation_0-auc:0.927114\tvalidation_1-auc:0.906272\n",
      "[742]\tvalidation_0-auc:0.927142\tvalidation_1-auc:0.906295\n",
      "[743]\tvalidation_0-auc:0.927162\tvalidation_1-auc:0.906301\n",
      "[744]\tvalidation_0-auc:0.927189\tvalidation_1-auc:0.906338\n",
      "[745]\tvalidation_0-auc:0.927233\tvalidation_1-auc:0.906362\n",
      "[746]\tvalidation_0-auc:0.92726\tvalidation_1-auc:0.906382\n",
      "[747]\tvalidation_0-auc:0.927307\tvalidation_1-auc:0.906418\n",
      "[748]\tvalidation_0-auc:0.927326\tvalidation_1-auc:0.906431\n",
      "[749]\tvalidation_0-auc:0.927367\tvalidation_1-auc:0.906463\n",
      "[750]\tvalidation_0-auc:0.927395\tvalidation_1-auc:0.906492\n",
      "[751]\tvalidation_0-auc:0.927438\tvalidation_1-auc:0.906512\n",
      "[752]\tvalidation_0-auc:0.927478\tvalidation_1-auc:0.906548\n",
      "[753]\tvalidation_0-auc:0.92752\tvalidation_1-auc:0.906577\n",
      "[754]\tvalidation_0-auc:0.927553\tvalidation_1-auc:0.906617\n",
      "[755]\tvalidation_0-auc:0.927571\tvalidation_1-auc:0.906621\n",
      "[756]\tvalidation_0-auc:0.927597\tvalidation_1-auc:0.90664\n",
      "[757]\tvalidation_0-auc:0.927639\tvalidation_1-auc:0.906681\n",
      "[758]\tvalidation_0-auc:0.927669\tvalidation_1-auc:0.906712\n",
      "[759]\tvalidation_0-auc:0.927695\tvalidation_1-auc:0.90674\n",
      "[760]\tvalidation_0-auc:0.927722\tvalidation_1-auc:0.906765\n",
      "[761]\tvalidation_0-auc:0.92775\tvalidation_1-auc:0.906797\n",
      "[762]\tvalidation_0-auc:0.927762\tvalidation_1-auc:0.906803\n",
      "[763]\tvalidation_0-auc:0.927796\tvalidation_1-auc:0.906846\n",
      "[764]\tvalidation_0-auc:0.927826\tvalidation_1-auc:0.906861\n",
      "[765]\tvalidation_0-auc:0.927851\tvalidation_1-auc:0.906889\n",
      "[766]\tvalidation_0-auc:0.927898\tvalidation_1-auc:0.906932\n",
      "[767]\tvalidation_0-auc:0.927932\tvalidation_1-auc:0.90696\n",
      "[768]\tvalidation_0-auc:0.927945\tvalidation_1-auc:0.906964\n",
      "[769]\tvalidation_0-auc:0.927955\tvalidation_1-auc:0.906968\n",
      "[770]\tvalidation_0-auc:0.927979\tvalidation_1-auc:0.906987\n",
      "[771]\tvalidation_0-auc:0.928007\tvalidation_1-auc:0.90702\n",
      "[772]\tvalidation_0-auc:0.928035\tvalidation_1-auc:0.907037\n",
      "[773]\tvalidation_0-auc:0.928075\tvalidation_1-auc:0.907072\n",
      "[774]\tvalidation_0-auc:0.928115\tvalidation_1-auc:0.907103\n",
      "[775]\tvalidation_0-auc:0.928147\tvalidation_1-auc:0.907134\n",
      "[776]\tvalidation_0-auc:0.928181\tvalidation_1-auc:0.907173\n",
      "[777]\tvalidation_0-auc:0.928206\tvalidation_1-auc:0.90719\n",
      "[778]\tvalidation_0-auc:0.928251\tvalidation_1-auc:0.907226\n",
      "[779]\tvalidation_0-auc:0.928291\tvalidation_1-auc:0.907252\n",
      "[780]\tvalidation_0-auc:0.928333\tvalidation_1-auc:0.90729\n",
      "[781]\tvalidation_0-auc:0.928365\tvalidation_1-auc:0.90732\n",
      "[782]\tvalidation_0-auc:0.928401\tvalidation_1-auc:0.907356\n",
      "[783]\tvalidation_0-auc:0.928434\tvalidation_1-auc:0.907372\n",
      "[784]\tvalidation_0-auc:0.928469\tvalidation_1-auc:0.907394\n",
      "[785]\tvalidation_0-auc:0.928513\tvalidation_1-auc:0.907428\n",
      "[786]\tvalidation_0-auc:0.928533\tvalidation_1-auc:0.907449\n",
      "[787]\tvalidation_0-auc:0.928582\tvalidation_1-auc:0.907497\n",
      "[788]\tvalidation_0-auc:0.928623\tvalidation_1-auc:0.907526\n",
      "[789]\tvalidation_0-auc:0.928662\tvalidation_1-auc:0.90754\n",
      "[790]\tvalidation_0-auc:0.928692\tvalidation_1-auc:0.907584\n",
      "[791]\tvalidation_0-auc:0.92872\tvalidation_1-auc:0.9076\n",
      "[792]\tvalidation_0-auc:0.928754\tvalidation_1-auc:0.907611\n",
      "[793]\tvalidation_0-auc:0.928787\tvalidation_1-auc:0.907638\n",
      "[794]\tvalidation_0-auc:0.928814\tvalidation_1-auc:0.907657\n",
      "[795]\tvalidation_0-auc:0.928838\tvalidation_1-auc:0.907695\n",
      "[796]\tvalidation_0-auc:0.928881\tvalidation_1-auc:0.90773\n",
      "[797]\tvalidation_0-auc:0.928916\tvalidation_1-auc:0.907758\n",
      "[798]\tvalidation_0-auc:0.928953\tvalidation_1-auc:0.907793\n",
      "[799]\tvalidation_0-auc:0.928986\tvalidation_1-auc:0.907824\n",
      "[800]\tvalidation_0-auc:0.929035\tvalidation_1-auc:0.907854\n",
      "[801]\tvalidation_0-auc:0.92906\tvalidation_1-auc:0.907889\n",
      "[802]\tvalidation_0-auc:0.929085\tvalidation_1-auc:0.907907\n",
      "[803]\tvalidation_0-auc:0.929113\tvalidation_1-auc:0.907926\n",
      "[804]\tvalidation_0-auc:0.929132\tvalidation_1-auc:0.907927\n",
      "[805]\tvalidation_0-auc:0.92916\tvalidation_1-auc:0.907957\n",
      "[806]\tvalidation_0-auc:0.929195\tvalidation_1-auc:0.907977\n",
      "[807]\tvalidation_0-auc:0.929225\tvalidation_1-auc:0.908005\n",
      "[808]\tvalidation_0-auc:0.92926\tvalidation_1-auc:0.908035\n",
      "[809]\tvalidation_0-auc:0.929293\tvalidation_1-auc:0.908073\n",
      "[810]\tvalidation_0-auc:0.929316\tvalidation_1-auc:0.9081\n",
      "[811]\tvalidation_0-auc:0.929343\tvalidation_1-auc:0.908123\n",
      "[812]\tvalidation_0-auc:0.929382\tvalidation_1-auc:0.908157\n",
      "[813]\tvalidation_0-auc:0.929403\tvalidation_1-auc:0.908172\n",
      "[814]\tvalidation_0-auc:0.92943\tvalidation_1-auc:0.908178\n",
      "[815]\tvalidation_0-auc:0.929455\tvalidation_1-auc:0.908199\n",
      "[816]\tvalidation_0-auc:0.929494\tvalidation_1-auc:0.908236\n",
      "[817]\tvalidation_0-auc:0.929509\tvalidation_1-auc:0.908255\n",
      "[818]\tvalidation_0-auc:0.929553\tvalidation_1-auc:0.908275\n",
      "[819]\tvalidation_0-auc:0.929589\tvalidation_1-auc:0.908299\n",
      "[820]\tvalidation_0-auc:0.929624\tvalidation_1-auc:0.908317\n",
      "[821]\tvalidation_0-auc:0.92965\tvalidation_1-auc:0.908331\n",
      "[822]\tvalidation_0-auc:0.929684\tvalidation_1-auc:0.908368\n",
      "[823]\tvalidation_0-auc:0.929724\tvalidation_1-auc:0.908415\n",
      "[824]\tvalidation_0-auc:0.929741\tvalidation_1-auc:0.908434\n",
      "[825]\tvalidation_0-auc:0.929763\tvalidation_1-auc:0.908449\n",
      "[826]\tvalidation_0-auc:0.929775\tvalidation_1-auc:0.908461\n",
      "[827]\tvalidation_0-auc:0.929813\tvalidation_1-auc:0.908485\n",
      "[828]\tvalidation_0-auc:0.929832\tvalidation_1-auc:0.908508\n",
      "[829]\tvalidation_0-auc:0.92986\tvalidation_1-auc:0.908521\n",
      "[830]\tvalidation_0-auc:0.929895\tvalidation_1-auc:0.908548\n",
      "[831]\tvalidation_0-auc:0.929928\tvalidation_1-auc:0.908582\n",
      "[832]\tvalidation_0-auc:0.929951\tvalidation_1-auc:0.908586\n",
      "[833]\tvalidation_0-auc:0.929969\tvalidation_1-auc:0.90859\n",
      "[834]\tvalidation_0-auc:0.929991\tvalidation_1-auc:0.908616\n",
      "[835]\tvalidation_0-auc:0.930013\tvalidation_1-auc:0.908636\n",
      "[836]\tvalidation_0-auc:0.930039\tvalidation_1-auc:0.908668\n",
      "[837]\tvalidation_0-auc:0.930061\tvalidation_1-auc:0.908678\n",
      "[838]\tvalidation_0-auc:0.930096\tvalidation_1-auc:0.908702\n",
      "[839]\tvalidation_0-auc:0.930145\tvalidation_1-auc:0.908734\n",
      "[840]\tvalidation_0-auc:0.930189\tvalidation_1-auc:0.908767\n",
      "[841]\tvalidation_0-auc:0.930217\tvalidation_1-auc:0.908794\n",
      "[842]\tvalidation_0-auc:0.930236\tvalidation_1-auc:0.9088\n",
      "[843]\tvalidation_0-auc:0.930263\tvalidation_1-auc:0.908819\n",
      "[844]\tvalidation_0-auc:0.930281\tvalidation_1-auc:0.908839\n",
      "[845]\tvalidation_0-auc:0.930315\tvalidation_1-auc:0.908859\n",
      "[846]\tvalidation_0-auc:0.930346\tvalidation_1-auc:0.908879\n",
      "[847]\tvalidation_0-auc:0.930373\tvalidation_1-auc:0.908896\n",
      "[848]\tvalidation_0-auc:0.930407\tvalidation_1-auc:0.90892\n",
      "[849]\tvalidation_0-auc:0.930428\tvalidation_1-auc:0.908933\n",
      "[850]\tvalidation_0-auc:0.930465\tvalidation_1-auc:0.908974\n",
      "[851]\tvalidation_0-auc:0.930487\tvalidation_1-auc:0.908969\n"
     ]
    },
    {
     "name": "stdout",
     "output_type": "stream",
     "text": [
      "[852]\tvalidation_0-auc:0.930528\tvalidation_1-auc:0.909009\n",
      "[853]\tvalidation_0-auc:0.930548\tvalidation_1-auc:0.909025\n",
      "[854]\tvalidation_0-auc:0.930562\tvalidation_1-auc:0.909038\n",
      "[855]\tvalidation_0-auc:0.930581\tvalidation_1-auc:0.909069\n",
      "[856]\tvalidation_0-auc:0.930607\tvalidation_1-auc:0.909112\n",
      "[857]\tvalidation_0-auc:0.930622\tvalidation_1-auc:0.909121\n",
      "[858]\tvalidation_0-auc:0.930648\tvalidation_1-auc:0.90915\n",
      "[859]\tvalidation_0-auc:0.930672\tvalidation_1-auc:0.909157\n",
      "[860]\tvalidation_0-auc:0.9307\tvalidation_1-auc:0.909158\n",
      "[861]\tvalidation_0-auc:0.930736\tvalidation_1-auc:0.909172\n",
      "[862]\tvalidation_0-auc:0.930754\tvalidation_1-auc:0.909172\n",
      "[863]\tvalidation_0-auc:0.930773\tvalidation_1-auc:0.909187\n",
      "[864]\tvalidation_0-auc:0.930785\tvalidation_1-auc:0.909201\n",
      "[865]\tvalidation_0-auc:0.930811\tvalidation_1-auc:0.90922\n",
      "[866]\tvalidation_0-auc:0.930834\tvalidation_1-auc:0.909241\n",
      "[867]\tvalidation_0-auc:0.930855\tvalidation_1-auc:0.90926\n",
      "[868]\tvalidation_0-auc:0.930887\tvalidation_1-auc:0.909296\n",
      "[869]\tvalidation_0-auc:0.930915\tvalidation_1-auc:0.909305\n",
      "[870]\tvalidation_0-auc:0.930952\tvalidation_1-auc:0.909327\n",
      "[871]\tvalidation_0-auc:0.930966\tvalidation_1-auc:0.909335\n",
      "[872]\tvalidation_0-auc:0.931001\tvalidation_1-auc:0.909352\n",
      "[873]\tvalidation_0-auc:0.931031\tvalidation_1-auc:0.909387\n",
      "[874]\tvalidation_0-auc:0.931059\tvalidation_1-auc:0.909411\n",
      "[875]\tvalidation_0-auc:0.931079\tvalidation_1-auc:0.909419\n",
      "[876]\tvalidation_0-auc:0.931103\tvalidation_1-auc:0.90943\n",
      "[877]\tvalidation_0-auc:0.931127\tvalidation_1-auc:0.909443\n",
      "[878]\tvalidation_0-auc:0.931153\tvalidation_1-auc:0.909465\n",
      "[879]\tvalidation_0-auc:0.931179\tvalidation_1-auc:0.90948\n",
      "[880]\tvalidation_0-auc:0.931217\tvalidation_1-auc:0.909494\n",
      "[881]\tvalidation_0-auc:0.93125\tvalidation_1-auc:0.909531\n",
      "[882]\tvalidation_0-auc:0.931292\tvalidation_1-auc:0.909551\n",
      "[883]\tvalidation_0-auc:0.931305\tvalidation_1-auc:0.90956\n",
      "[884]\tvalidation_0-auc:0.931331\tvalidation_1-auc:0.909581\n",
      "[885]\tvalidation_0-auc:0.931339\tvalidation_1-auc:0.909585\n",
      "[886]\tvalidation_0-auc:0.931362\tvalidation_1-auc:0.9096\n",
      "[887]\tvalidation_0-auc:0.931382\tvalidation_1-auc:0.909614\n",
      "[888]\tvalidation_0-auc:0.931396\tvalidation_1-auc:0.909623\n",
      "[889]\tvalidation_0-auc:0.931426\tvalidation_1-auc:0.909656\n",
      "[890]\tvalidation_0-auc:0.931445\tvalidation_1-auc:0.909672\n",
      "[891]\tvalidation_0-auc:0.931471\tvalidation_1-auc:0.909689\n",
      "[892]\tvalidation_0-auc:0.931494\tvalidation_1-auc:0.909699\n",
      "[893]\tvalidation_0-auc:0.931516\tvalidation_1-auc:0.909718\n",
      "[894]\tvalidation_0-auc:0.93154\tvalidation_1-auc:0.909724\n",
      "[895]\tvalidation_0-auc:0.931555\tvalidation_1-auc:0.909729\n",
      "[896]\tvalidation_0-auc:0.931583\tvalidation_1-auc:0.909754\n",
      "[897]\tvalidation_0-auc:0.931628\tvalidation_1-auc:0.909784\n",
      "[898]\tvalidation_0-auc:0.931657\tvalidation_1-auc:0.90981\n",
      "[899]\tvalidation_0-auc:0.931686\tvalidation_1-auc:0.90984\n",
      "[900]\tvalidation_0-auc:0.9317\tvalidation_1-auc:0.909846\n",
      "[901]\tvalidation_0-auc:0.931731\tvalidation_1-auc:0.90986\n",
      "[902]\tvalidation_0-auc:0.931749\tvalidation_1-auc:0.909862\n",
      "[903]\tvalidation_0-auc:0.931774\tvalidation_1-auc:0.90988\n",
      "[904]\tvalidation_0-auc:0.93181\tvalidation_1-auc:0.909909\n",
      "[905]\tvalidation_0-auc:0.931841\tvalidation_1-auc:0.90993\n",
      "[906]\tvalidation_0-auc:0.931856\tvalidation_1-auc:0.909948\n",
      "[907]\tvalidation_0-auc:0.931885\tvalidation_1-auc:0.909969\n",
      "[908]\tvalidation_0-auc:0.931908\tvalidation_1-auc:0.909986\n",
      "[909]\tvalidation_0-auc:0.931936\tvalidation_1-auc:0.910001\n",
      "[910]\tvalidation_0-auc:0.931966\tvalidation_1-auc:0.910016\n",
      "[911]\tvalidation_0-auc:0.931995\tvalidation_1-auc:0.91004\n",
      "[912]\tvalidation_0-auc:0.932011\tvalidation_1-auc:0.910052\n",
      "[913]\tvalidation_0-auc:0.932042\tvalidation_1-auc:0.910081\n",
      "[914]\tvalidation_0-auc:0.932064\tvalidation_1-auc:0.910101\n",
      "[915]\tvalidation_0-auc:0.932096\tvalidation_1-auc:0.910123\n",
      "[916]\tvalidation_0-auc:0.932118\tvalidation_1-auc:0.910142\n",
      "[917]\tvalidation_0-auc:0.932148\tvalidation_1-auc:0.910156\n",
      "[918]\tvalidation_0-auc:0.932169\tvalidation_1-auc:0.910164\n",
      "[919]\tvalidation_0-auc:0.932196\tvalidation_1-auc:0.910188\n",
      "[920]\tvalidation_0-auc:0.93222\tvalidation_1-auc:0.910213\n",
      "[921]\tvalidation_0-auc:0.932247\tvalidation_1-auc:0.910231\n",
      "[922]\tvalidation_0-auc:0.932278\tvalidation_1-auc:0.910252\n",
      "[923]\tvalidation_0-auc:0.932302\tvalidation_1-auc:0.910268\n",
      "[924]\tvalidation_0-auc:0.932331\tvalidation_1-auc:0.91029\n",
      "[925]\tvalidation_0-auc:0.932373\tvalidation_1-auc:0.910327\n",
      "[926]\tvalidation_0-auc:0.932403\tvalidation_1-auc:0.91035\n",
      "[927]\tvalidation_0-auc:0.932424\tvalidation_1-auc:0.910365\n",
      "[928]\tvalidation_0-auc:0.932463\tvalidation_1-auc:0.910395\n",
      "[929]\tvalidation_0-auc:0.93248\tvalidation_1-auc:0.9104\n",
      "[930]\tvalidation_0-auc:0.932508\tvalidation_1-auc:0.910416\n",
      "[931]\tvalidation_0-auc:0.932522\tvalidation_1-auc:0.910427\n",
      "[932]\tvalidation_0-auc:0.93256\tvalidation_1-auc:0.91046\n",
      "[933]\tvalidation_0-auc:0.932591\tvalidation_1-auc:0.910485\n",
      "[934]\tvalidation_0-auc:0.932619\tvalidation_1-auc:0.910504\n",
      "[935]\tvalidation_0-auc:0.932634\tvalidation_1-auc:0.910512\n",
      "[936]\tvalidation_0-auc:0.932668\tvalidation_1-auc:0.910531\n",
      "[937]\tvalidation_0-auc:0.932695\tvalidation_1-auc:0.910537\n",
      "[938]\tvalidation_0-auc:0.932719\tvalidation_1-auc:0.910554\n",
      "[939]\tvalidation_0-auc:0.932746\tvalidation_1-auc:0.910573\n",
      "[940]\tvalidation_0-auc:0.932778\tvalidation_1-auc:0.910598\n",
      "[941]\tvalidation_0-auc:0.932809\tvalidation_1-auc:0.910627\n",
      "[942]\tvalidation_0-auc:0.932832\tvalidation_1-auc:0.910641\n",
      "[943]\tvalidation_0-auc:0.932859\tvalidation_1-auc:0.910657\n",
      "[944]\tvalidation_0-auc:0.932877\tvalidation_1-auc:0.91068\n",
      "[945]\tvalidation_0-auc:0.932895\tvalidation_1-auc:0.91071\n",
      "[946]\tvalidation_0-auc:0.932917\tvalidation_1-auc:0.910731\n",
      "[947]\tvalidation_0-auc:0.932945\tvalidation_1-auc:0.91075\n",
      "[948]\tvalidation_0-auc:0.932958\tvalidation_1-auc:0.91076\n",
      "[949]\tvalidation_0-auc:0.932988\tvalidation_1-auc:0.910769\n",
      "[950]\tvalidation_0-auc:0.933012\tvalidation_1-auc:0.9108\n",
      "[951]\tvalidation_0-auc:0.933041\tvalidation_1-auc:0.910829\n",
      "[952]\tvalidation_0-auc:0.933059\tvalidation_1-auc:0.910848\n",
      "[953]\tvalidation_0-auc:0.933093\tvalidation_1-auc:0.910872\n",
      "[954]\tvalidation_0-auc:0.93311\tvalidation_1-auc:0.910888\n",
      "[955]\tvalidation_0-auc:0.933137\tvalidation_1-auc:0.910908\n",
      "[956]\tvalidation_0-auc:0.933174\tvalidation_1-auc:0.910942\n",
      "[957]\tvalidation_0-auc:0.933201\tvalidation_1-auc:0.910959\n",
      "[958]\tvalidation_0-auc:0.93322\tvalidation_1-auc:0.910979\n",
      "[959]\tvalidation_0-auc:0.933243\tvalidation_1-auc:0.911005\n",
      "[960]\tvalidation_0-auc:0.933266\tvalidation_1-auc:0.911022\n",
      "[961]\tvalidation_0-auc:0.933283\tvalidation_1-auc:0.911026\n",
      "[962]\tvalidation_0-auc:0.933309\tvalidation_1-auc:0.911036\n",
      "[963]\tvalidation_0-auc:0.933339\tvalidation_1-auc:0.911049\n",
      "[964]\tvalidation_0-auc:0.933364\tvalidation_1-auc:0.911056\n",
      "[965]\tvalidation_0-auc:0.933386\tvalidation_1-auc:0.911081\n",
      "[966]\tvalidation_0-auc:0.933408\tvalidation_1-auc:0.911103\n",
      "[967]\tvalidation_0-auc:0.933433\tvalidation_1-auc:0.911119\n",
      "[968]\tvalidation_0-auc:0.933464\tvalidation_1-auc:0.911145\n",
      "[969]\tvalidation_0-auc:0.933483\tvalidation_1-auc:0.911169\n",
      "[970]\tvalidation_0-auc:0.933503\tvalidation_1-auc:0.911186\n",
      "[971]\tvalidation_0-auc:0.933529\tvalidation_1-auc:0.911203\n",
      "[972]\tvalidation_0-auc:0.933545\tvalidation_1-auc:0.911212\n",
      "[973]\tvalidation_0-auc:0.933567\tvalidation_1-auc:0.911236\n",
      "[974]\tvalidation_0-auc:0.933593\tvalidation_1-auc:0.911264\n",
      "[975]\tvalidation_0-auc:0.933612\tvalidation_1-auc:0.911276\n",
      "[976]\tvalidation_0-auc:0.933642\tvalidation_1-auc:0.911301\n",
      "[977]\tvalidation_0-auc:0.933664\tvalidation_1-auc:0.911317\n",
      "[978]\tvalidation_0-auc:0.933686\tvalidation_1-auc:0.911325\n",
      "[979]\tvalidation_0-auc:0.933706\tvalidation_1-auc:0.911333\n",
      "[980]\tvalidation_0-auc:0.933725\tvalidation_1-auc:0.911352\n",
      "[981]\tvalidation_0-auc:0.93374\tvalidation_1-auc:0.911367\n",
      "[982]\tvalidation_0-auc:0.933759\tvalidation_1-auc:0.911385\n",
      "[983]\tvalidation_0-auc:0.933777\tvalidation_1-auc:0.911396\n",
      "[984]\tvalidation_0-auc:0.933794\tvalidation_1-auc:0.911406\n",
      "[985]\tvalidation_0-auc:0.9338\tvalidation_1-auc:0.911406\n",
      "[986]\tvalidation_0-auc:0.93382\tvalidation_1-auc:0.911425\n",
      "[987]\tvalidation_0-auc:0.933842\tvalidation_1-auc:0.911444\n",
      "[988]\tvalidation_0-auc:0.933853\tvalidation_1-auc:0.911451\n",
      "[989]\tvalidation_0-auc:0.933877\tvalidation_1-auc:0.91147\n",
      "[990]\tvalidation_0-auc:0.933895\tvalidation_1-auc:0.911496\n",
      "[991]\tvalidation_0-auc:0.933918\tvalidation_1-auc:0.911516\n",
      "[992]\tvalidation_0-auc:0.933941\tvalidation_1-auc:0.911531\n",
      "[993]\tvalidation_0-auc:0.93396\tvalidation_1-auc:0.911547\n"
     ]
    },
    {
     "name": "stdout",
     "output_type": "stream",
     "text": [
      "[994]\tvalidation_0-auc:0.933984\tvalidation_1-auc:0.911558\n",
      "[995]\tvalidation_0-auc:0.934017\tvalidation_1-auc:0.911588\n",
      "[996]\tvalidation_0-auc:0.934032\tvalidation_1-auc:0.911604\n",
      "[997]\tvalidation_0-auc:0.934057\tvalidation_1-auc:0.911612\n",
      "[998]\tvalidation_0-auc:0.934082\tvalidation_1-auc:0.911631\n",
      "[999]\tvalidation_0-auc:0.934106\tvalidation_1-auc:0.911642\n",
      "CPU times: user 6min 24s, sys: 964 ms, total: 6min 25s\n",
      "Wall time: 6min 24s\n"
     ]
    },
    {
     "data": {
      "text/plain": [
       "XGBClassifier(base_score=0.5, booster='gbtree', colsample_bylevel=1,\n",
       "       colsample_bytree=0.4, gamma=10, learning_rate=0.01,\n",
       "       max_delta_step=0, max_depth=4, min_child_weight=1, missing=None,\n",
       "       n_estimators=1000, n_jobs=1, nthread=None,\n",
       "       objective='binary:logistic', random_state=0, reg_alpha=0.3,\n",
       "       reg_lambda=1, scale_pos_weight=1, seed=None, silent=False,\n",
       "       subsample=0.8)"
      ]
     },
     "execution_count": 114,
     "metadata": {},
     "output_type": "execute_result"
    }
   ],
   "source": [
    "# Please write all the code with proper documentation\n",
    "from xgboost import XGBClassifier\n",
    "model = XGBClassifier(silent=False, \n",
    "                      scale_pos_weight=1,\n",
    "                      learning_rate=0.01,  \n",
    "                      colsample_bytree = 0.4,\n",
    "                      subsample = 0.8,\n",
    "                      objective='binary:logistic', \n",
    "                      n_estimators=1000, \n",
    "                      reg_alpha = 0.3,\n",
    "                      max_depth=4, \n",
    "                      gamma=10)\n",
    "eval_set = [(np.array(tfidf_sent_vectors_train), y_train), (np.array(tfidf_sent_vectors_test), y_test)]\n",
    "eval_metric = [\"auc\"]\n",
    "%time model.fit(np.array(tfidf_sent_vectors_train), y_train, eval_metric=eval_metric, eval_set=eval_set,early_stopping_rounds=10, verbose=True)\n",
    "\n"
   ]
  },
  {
   "cell_type": "code",
   "execution_count": 115,
   "metadata": {
    "colab": {},
    "colab_type": "code",
    "id": "fZPJfCavVAMQ",
    "outputId": "cac9af5e-6480-41b0-bb9c-e713c75b67af"
   },
   "outputs": [
    {
     "data": {
      "image/png": "[encoded data removed]",
      "text/plain": [
       "<Figure size 432x288 with 1 Axes>"
      ]
     },
     "metadata": {},
     "output_type": "display_data"
    }
   ],
   "source": [
    "results = model.evals_result()\n",
    "epochs = len(results['validation_0']['auc'])\n",
    "x_axis = range(0, epochs)\n",
    "\n",
    "fig, ax = plt.subplots()\n",
    "ax.plot(x_axis, results['validation_0']['auc'], label='Train')\n",
    "ax.plot(x_axis, results['validation_1']['auc'], label='Test')\n",
    "ax.legend()\n",
    "plt.ylabel('Auc')\n",
    "plt.title('XGBoost Auc')\n",
    "plt.show()\n"
   ]
  },
  {
   "cell_type": "code",
   "execution_count": 118,
   "metadata": {
    "colab": {},
    "colab_type": "code",
    "id": "Q6UPC5WTVAMU",
    "outputId": "c56934ce-9756-405c-f527-77ec2653b2d4"
   },
   "outputs": [
    {
     "name": "stdout",
     "output_type": "stream",
     "text": [
      "CPU times: user 2min 37s, sys: 848 ms, total: 2min 38s\n",
      "Wall time: 12min 29s\n"
     ]
    },
    {
     "data": {
      "text/plain": [
       "GridSearchCV(cv='warn', error_score='raise-deprecating',\n",
       "       estimator=XGBClassifier(base_score=0.5, booster='gbtree', colsample_bylevel=1,\n",
       "       colsample_bytree=1, gamma=0, learning_rate=0.1, max_delta_step=0,\n",
       "       max_depth=3, min_child_weight=1, missing=None, n_estimators=100,\n",
       "       n_jobs=1, nthread=None, objective='binary:logistic', random_state=0,\n",
       "       reg_alpha=0, reg_lambda=1, scale_pos_weight=1, seed=None,\n",
       "       silent=True, subsample=1),\n",
       "       fit_params=None, iid='warn', n_jobs=-1,\n",
       "       param_grid={'max_depth': [6, 7, 8, 9, 10]}, pre_dispatch='2*n_jobs',\n",
       "       refit=True, return_train_score='warn', scoring='f1', verbose=0)"
      ]
     },
     "execution_count": 118,
     "metadata": {},
     "output_type": "execute_result"
    }
   ],
   "source": [
    "param_grid= {'max_depth': [6,7,8,9,10]}\n",
    "from sklearn.model_selection import GridSearchCV\n",
    "grid=GridSearchCV(XGBClassifier(n_estimators=100), param_grid, scoring=\"f1\",n_jobs=-1)\n",
    "%time grid.fit(np.array(tfidf_sent_vectors_train),y_train)\n"
   ]
  },
  {
   "cell_type": "code",
   "execution_count": 119,
   "metadata": {},
   "outputs": [
    {
     "data": {
      "image/png": "[encoded data removed]",
      "text/plain": [
       "<Figure size 432x288 with 1 Axes>"
      ]
     },
     "metadata": {},
     "output_type": "display_data"
    }
   ],
   "source": [
    "cv_scores=grid.cv_results_ ['mean_test_score']\n",
    "train_scores=grid.cv_results_ ['mean_train_score']\n",
    "lines = plt.plot(param_grid[\"max_depth\"],cv_scores, param_grid[\"max_depth\"],train_scores )\n",
    "plt.setp(lines[0], color='r', linewidth=2.0, label=\"cv score\")\n",
    "plt.setp(lines[1], color='g', linewidth=2.0,label=\"train score\")\n",
    "plt.legend()\n",
    "plt.show()"
   ]
  },
  {
   "cell_type": "code",
   "execution_count": 120,
   "metadata": {
    "colab": {},
    "colab_type": "code",
    "id": "BfmAw8W0VAMb",
    "outputId": "182c7df0-e34e-4b09-d835-5688d5e57f3a"
   },
   "outputs": [
    {
     "name": "stdout",
     "output_type": "stream",
     "text": [
      "CPU times: user 50min, sys: 4.22 s, total: 50min 4s\n",
      "Wall time: 50min 5s\n"
     ]
    },
    {
     "data": {
      "text/plain": [
       "RandomizedSearchCV(cv='warn', error_score='raise-deprecating',\n",
       "          estimator=XGBClassifier(base_score=0.5, booster='gbtree', colsample_bylevel=1,\n",
       "       colsample_bytree=1, gamma=0, learning_rate=0.1, max_delta_step=0,\n",
       "       max_depth=9, min_child_weight=1, missing=None, n_estimators=100,\n",
       "       n_jobs=1, nthread=None, objective='binary:logistic', random_state=0,\n",
       "       reg_alpha=0, reg_lambda=1, scale_pos_weight=1, seed=None,\n",
       "       silent=True, subsample=1),\n",
       "          fit_params=None, iid='warn', n_iter=10, n_jobs=None,\n",
       "          param_distributions={'gamma': [0, 1, 5], 'learning_rate': [0.05, 0.1], 'subsample': [0.8, 0.9, 1]},\n",
       "          pre_dispatch='2*n_jobs', random_state=None, refit=True,\n",
       "          return_train_score='warn', scoring='f1', verbose=0)"
      ]
     },
     "execution_count": 120,
     "metadata": {},
     "output_type": "execute_result"
    }
   ],
   "source": [
    "from sklearn.model_selection import RandomizedSearchCV\n",
    "params = {\n",
    "        'gamma': [0, 1, 5],\n",
    "        'learning_rate': [0.05,0.1],\n",
    "        'subsample':[0.8,0.9,1]\n",
    "        }\n",
    "random_search = RandomizedSearchCV(XGBClassifier(n_estimators=100,max_depth=9), param_distributions=params, n_iter=10, scoring='f1')\n",
    "%time random_search.fit(np.array(tfidf_sent_vectors_train),y_train)"
   ]
  },
  {
   "cell_type": "code",
   "execution_count": 122,
   "metadata": {
    "colab": {},
    "colab_type": "code",
    "id": "_KjXBgLaVAMh",
    "outputId": "19f378f9-3494-4ab9-c245-4b9e75d7cefa"
   },
   "outputs": [
    {
     "name": "stdout",
     "output_type": "stream",
     "text": [
      "Accuracy for learning rate: 0.1 ,gamma: 0\n",
      "88.78888002734419\n",
      "[[ 2471  2090]\n",
      " [  862 20908]]\n"
     ]
    },
    {
     "data": {
      "image/png": "[encoded data removed]",
      "text/plain": [
       "<Figure size 432x288 with 2 Axes>"
      ]
     },
     "metadata": {},
     "output_type": "display_data"
    }
   ],
   "source": [
    "from sklearn.metrics import accuracy_score\n",
    "optimal_param=random_search.best_params_ \n",
    "pre=random_search.predict(tfidf_sent_vectors_test)\n",
    "acc = accuracy_score(y_test, pre) * 100\n",
    "print(\"Accuracy for learning rate:\",optimal_param['learning_rate'],',gamma:',optimal_param['gamma'])\n",
    "print(acc)\n",
    "import sklearn.metrics\n",
    "import seaborn\n",
    "conf_matr=confusion_matrix(y_test,pre)\n",
    "seaborn.heatmap(conf_matr,annot=True,fmt='g')\n",
    "print(conf_matr)"
   ]
  },
  {
   "cell_type": "code",
   "execution_count": 124,
   "metadata": {
    "colab": {},
    "colab_type": "code",
    "id": "e9239LDUVAMn",
    "outputId": "c67b9964-6caa-40c3-80b2-91489ae9fce8"
   },
   "outputs": [
    {
     "name": "stdout",
     "output_type": "stream",
     "text": [
      "Accuracy for learning rate: 0.1 ,gama: 0\n",
      "91.23726441196575\n",
      "[[ 5795  3825]\n",
      " [ 1559 50263]]\n"
     ]
    },
    {
     "data": {
      "image/png": "[encoded data removed]",
      "text/plain": [
       "<Figure size 432x288 with 2 Axes>"
      ]
     },
     "metadata": {},
     "output_type": "display_data"
    }
   ],
   "source": [
    "from sklearn.metrics import accuracy_score\n",
    "optimal_param=random_search.best_params_ \n",
    "pre=random_search.predict(tfidf_sent_vectors_train)\n",
    "acc = accuracy_score(y_train, pre) * 100\n",
    "print(\"Accuracy for learning rate:\",optimal_param['learning_rate'],',gama:',optimal_param['gamma'])\n",
    "print(acc)\n",
    "import sklearn.metrics\n",
    "import seaborn\n",
    "conf_matr=confusion_matrix(y_train,pre)\n",
    "seaborn.heatmap(conf_matr,annot=True,fmt='g')\n",
    "print(conf_matr)"
   ]
  },
  {
   "cell_type": "code",
   "execution_count": 125,
   "metadata": {
    "colab": {},
    "colab_type": "code",
    "id": "q_DuExXaVAMr",
    "outputId": "a9b8c0b1-1284-44ee-a244-608a6f855f0d"
   },
   "outputs": [
    {
     "data": {
      "image/png": "[encoded data removed]",
      "text/plain": [
       "<Figure size 432x288 with 1 Axes>"
      ]
     },
     "metadata": {},
     "output_type": "display_data"
    }
   ],
   "source": [
    "from sklearn.calibration import CalibratedClassifierCV\n",
    "caliberated=CalibratedClassifierCV(random_search.best_estimator_, method='sigmoid', cv=5)\n",
    "caliberated.fit(tfidf_sent_vectors_train,y_train)\n",
    "train_calb_probs=caliberated.predict_proba(tfidf_sent_vectors_train)\n",
    "calb_probs=caliberated.predict_proba(tfidf_sent_vectors_test)\n",
    "from sklearn.metrics import roc_curve,roc_auc_score\n",
    "fpr_train, tpr_train, _ = roc_curve(y_train,train_calb_probs[:,1])\n",
    "fpr_test, tpr_test, _ = roc_curve(y_test,calb_probs[:,1])\n",
    "roc_auc_train =roc_auc_score(y_train,train_calb_probs[:,1])\n",
    "roc_auc_test = roc_auc_score(y_test,calb_probs[:,1])\n",
    "plt.figure()\n",
    "plt.plot(fpr_test, tpr_test, color='darkorange', label='ROC curve for test data(area = %0.2f)' % roc_auc_test)\n",
    "plt.plot(fpr_train, tpr_train, color='red', label='ROC curve for train data (area = %0.2f)' % roc_auc_train)\n",
    "plt.plot([0, 1], [0, 1], color='navy', linestyle='--')\n",
    "plt.xlim([0.0, 1.0])\n",
    "plt.ylim([0.0, 1.05])\n",
    "plt.xlabel('False Positive Rate')\n",
    "plt.ylabel('True Positive Rate')\n",
    "plt.title('Receiver operating characteristic')\n",
    "plt.legend(loc=\"lower right\")\n",
    "plt.show()\n"
   ]
  },
  {
   "cell_type": "markdown",
   "metadata": {
    "colab_type": "text",
    "id": "pDV1PlbKVAMt"
   },
   "source": [
    "# [6] Conclusions"
   ]
  },
  {
   "cell_type": "code",
   "execution_count": 7,
   "metadata": {
    "colab": {},
    "colab_type": "code",
    "id": "a1eSK3W9VAMt"
   },
   "outputs": [],
   "source": [
    "# Please compare all your models using Prettytable library\n",
    "from prettytable import PrettyTable\n",
    "table= PrettyTable()\n",
    "table.field_names = [\"Vectorizer\",\"Model\",\"Max Depth\",\"Estimators\",\"Accuracy\",\"AUC\"]\n",
    "table.add_row([\"Bow\",\"Random Forest\",29,112,86.130,0.91])\n",
    "table.add_row([\"Tfidf\",\"Random Forest\",38,103,87.47,0.92])\n",
    "table.add_row([\"Avg-W2v\",\"Random Forest\",12,98,88.659,0.93])\n",
    "table.add_row([\"Tfidf-W2v\",\"Random Forest\",12,126,87.2621,0.90])\n",
    "table.add_row([\"Bow\",\"XGBoost\",14,67,89.529,0.93])\n",
    "table.add_row([\"Tfidf\",\"XGBoost\",10,13,87.053,0.88])\n",
    "table.add_row([\"Avg-W2v\",\"XGBoost\",9,24,89.540,0.93])\n",
    "table.add_row([\"Tfidf-W2v\",\"XGBoost\",9,100,88.788,0.92])"
   ]
  },
  {
   "cell_type": "code",
   "execution_count": 8,
   "metadata": {},
   "outputs": [
    {
     "name": "stdout",
     "output_type": "stream",
     "text": [
      "+------------+---------------+-----------+------------+----------+------+\n",
      "| Vectorizer |     Model     | Max Depth | Estimators | Accuracy | AUC  |\n",
      "+------------+---------------+-----------+------------+----------+------+\n",
      "|    Bow     | Random Forest |     29    |    112     |  86.13   | 0.91 |\n",
      "|   Tfidf    | Random Forest |     38    |    103     |  87.47   | 0.92 |\n",
      "|  Avg-W2v   | Random Forest |     12    |     98     |  88.659  | 0.93 |\n",
      "| Tfidf-W2v  | Random Forest |     12    |    126     | 87.2621  | 0.9  |\n",
      "|    Bow     |    XGBoost    |     14    |     67     |  89.529  | 0.93 |\n",
      "|   Tfidf    |    XGBoost    |     10    |     13     |  87.053  | 0.88 |\n",
      "|  Avg-W2v   |    XGBoost    |     9     |     24     |  89.54   | 0.93 |\n",
      "| Tfidf-W2v  |    XGBoost    |     9     |    100     |  88.788  | 0.92 |\n",
      "+------------+---------------+-----------+------------+----------+------+\n"
     ]
    }
   ],
   "source": [
    "print(table)"
   ]
  },
  {
   "cell_type": "markdown",
   "metadata": {},
   "source": [
    "From the above table, it can be seen that,Xgboost Model with Avg-W2v gave the highest AUC score, accuracy of  for max_depth =9,n_estimators=24."
   ]
  },
  {
   "cell_type": "code",
   "execution_count": null,
   "metadata": {},
   "outputs": [],
   "source": []
  }
 ],
 "metadata": {
  "colab": {
   "collapsed_sections": [
    "ZV45oWHeVAD3",
    "NWdTU8xyVAFn",
    "pJmRiXbsVAFv",
    "3c0B5WbwVAF0",
    "sAuqE1BNVAGa",
    "2Aejp52iVAGc",
    "-kjWab59VAHB",
    "7GZ1FZo8VAK8",
    "q2xL33Y3VALo",
    "8yR8WcDXVAML"
   ],
   "name": "kernelf16a45959a.ipynb",
   "provenance": [],
   "version": "0.3.2"
  },
  "kernelspec": {
   "display_name": "Python 3",
   "language": "python",
   "name": "python3"
  },
  "language_info": {
   "codemirror_mode": {
    "name": "ipython",
    "version": 3
   },
   "file_extension": ".py",
   "mimetype": "text/x-python",
   "name": "python",
   "nbconvert_exporter": "python",
   "pygments_lexer": "ipython3",
   "version": "3.7.1"
  }
 },
 "nbformat": 4,
 "nbformat_minor": 1
}
